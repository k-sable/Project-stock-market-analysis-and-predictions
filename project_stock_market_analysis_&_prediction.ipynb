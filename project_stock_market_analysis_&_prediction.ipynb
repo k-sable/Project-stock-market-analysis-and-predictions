{
  "nbformat": 4,
  "nbformat_minor": 0,
  "metadata": {
    "colab": {
      "name": " project_stock market analysis & prediction.ipynb",
      "provenance": [],
      "collapsed_sections": [
        "XYOaJgzfU9F6",
        "GTIaEYcrVDsD",
        "8AwFAtwoLxaK",
        "qwKNFE-vKcry",
        "-lziX9GpFWpQ",
        "FRapUdLM_ncy",
        "irlIniXUv7sV",
        "j0EgFfr55Gh_"
      ]
    },
    "kernelspec": {
      "name": "python3",
      "display_name": "Python 3"
    },
    "language_info": {
      "name": "python"
    }
  },
  "cells": [
    {
      "cell_type": "markdown",
      "source": [
        "#Stock Market Analysis & Prediction\n",
        "\n",
        "Problem Statement - Time Series forecasting & modelling plays an important role in data analysis. Stock prices are volatile in nature and price depends on various factors. The main aim of this project is to predict the closing price of stocks in the near future. "
      ],
      "metadata": {
        "id": "ojYC_qwY8DUP"
      }
    },
    {
      "cell_type": "code",
      "execution_count": 1,
      "metadata": {
        "id": "1Rr4XRqxatjE"
      },
      "outputs": [],
      "source": [
        "import pandas as pd \n",
        "import matplotlib.pyplot as plt\n",
        "import numpy as np\n",
        "\n",
        "import datetime\n",
        "from datetime import datetime as dt\n",
        "\n",
        "import warnings\n",
        "warnings.filterwarnings('ignore')"
      ]
    },
    {
      "cell_type": "code",
      "source": [
        "import glob as g\n",
        "import os"
      ],
      "metadata": {
        "id": "CAAQ-t_ZbF55"
      },
      "execution_count": 2,
      "outputs": []
    },
    {
      "cell_type": "code",
      "source": [
        "from google.colab import drive\n",
        "drive.mount('/content/drive')"
      ],
      "metadata": {
        "colab": {
          "base_uri": "https://localhost:8080/"
        },
        "id": "XKKn-kkMcIuK",
        "outputId": "238cd73e-7622-4536-ea9a-3d49271a0277"
      },
      "execution_count": 4,
      "outputs": [
        {
          "output_type": "stream",
          "name": "stdout",
          "text": [
            "Mounted at /content/drive\n"
          ]
        }
      ]
    },
    {
      "cell_type": "markdown",
      "source": [
        "##Data Collection"
      ],
      "metadata": {
        "id": "XYOaJgzfU9F6"
      }
    },
    {
      "cell_type": "code",
      "source": [
        "path=\"/content/drive/MyDrive/Project\"\n",
        "all_files=g.glob(os.path.join(path,\"*.csv\"))\n",
        "print(os.getcwd())"
      ],
      "metadata": {
        "colab": {
          "base_uri": "https://localhost:8080/"
        },
        "id": "Cn-O94MiawY3",
        "outputId": "0c4e7d32-b6b0-4d21-fcf4-6d64e67addc4"
      },
      "execution_count": 3,
      "outputs": [
        {
          "output_type": "stream",
          "name": "stdout",
          "text": [
            "/content\n"
          ]
        }
      ]
    },
    {
      "cell_type": "code",
      "source": [
        "#Merge data from multiple files (each stock data is on separate file)\n",
        "df_from_each_file = (pd.read_csv(f, sep=',')for f in all_files)\n",
        "df_merged=pd.concat(df_from_each_file, ignore_index=True)\n",
        "df_merged.to_csv (\"combined_stockdata_1.csv\")"
      ],
      "metadata": {
        "id": "riAIPPq7bNIE"
      },
      "execution_count": 4,
      "outputs": []
    },
    {
      "cell_type": "code",
      "source": [
        "df_merged.head(2)"
      ],
      "metadata": {
        "colab": {
          "base_uri": "https://localhost:8080/",
          "height": 0
        },
        "id": "CpAwwnnIdIqw",
        "outputId": "874e307e-9f6b-45cc-ed95-0d5ffd09a001"
      },
      "execution_count": 5,
      "outputs": [
        {
          "output_type": "execute_result",
          "data": {
            "text/plain": [
              "       Symbol        Date      Open      High       Low  Close  Adj Close  \\\n",
              "0  AMARAJABAT  01-07-2002  5.763333  5.833333  5.696666   5.72   4.567834   \n",
              "1  AMARAJABAT  02-07-2002  5.766666  5.820000  5.746666   5.79   4.623735   \n",
              "\n",
              "     Volume  \n",
              "0  838110.0  \n",
              "1  688305.0  "
            ],
            "text/html": [
              "\n",
              "  <div id=\"df-35166614-76aa-4606-b755-5b4ce138e03e\">\n",
              "    <div class=\"colab-df-container\">\n",
              "      <div>\n",
              "<style scoped>\n",
              "    .dataframe tbody tr th:only-of-type {\n",
              "        vertical-align: middle;\n",
              "    }\n",
              "\n",
              "    .dataframe tbody tr th {\n",
              "        vertical-align: top;\n",
              "    }\n",
              "\n",
              "    .dataframe thead th {\n",
              "        text-align: right;\n",
              "    }\n",
              "</style>\n",
              "<table border=\"1\" class=\"dataframe\">\n",
              "  <thead>\n",
              "    <tr style=\"text-align: right;\">\n",
              "      <th></th>\n",
              "      <th>Symbol</th>\n",
              "      <th>Date</th>\n",
              "      <th>Open</th>\n",
              "      <th>High</th>\n",
              "      <th>Low</th>\n",
              "      <th>Close</th>\n",
              "      <th>Adj Close</th>\n",
              "      <th>Volume</th>\n",
              "    </tr>\n",
              "  </thead>\n",
              "  <tbody>\n",
              "    <tr>\n",
              "      <th>0</th>\n",
              "      <td>AMARAJABAT</td>\n",
              "      <td>01-07-2002</td>\n",
              "      <td>5.763333</td>\n",
              "      <td>5.833333</td>\n",
              "      <td>5.696666</td>\n",
              "      <td>5.72</td>\n",
              "      <td>4.567834</td>\n",
              "      <td>838110.0</td>\n",
              "    </tr>\n",
              "    <tr>\n",
              "      <th>1</th>\n",
              "      <td>AMARAJABAT</td>\n",
              "      <td>02-07-2002</td>\n",
              "      <td>5.766666</td>\n",
              "      <td>5.820000</td>\n",
              "      <td>5.746666</td>\n",
              "      <td>5.79</td>\n",
              "      <td>4.623735</td>\n",
              "      <td>688305.0</td>\n",
              "    </tr>\n",
              "  </tbody>\n",
              "</table>\n",
              "</div>\n",
              "      <button class=\"colab-df-convert\" onclick=\"convertToInteractive('df-35166614-76aa-4606-b755-5b4ce138e03e')\"\n",
              "              title=\"Convert this dataframe to an interactive table.\"\n",
              "              style=\"display:none;\">\n",
              "        \n",
              "  <svg xmlns=\"http://www.w3.org/2000/svg\" height=\"24px\"viewBox=\"0 0 24 24\"\n",
              "       width=\"24px\">\n",
              "    <path d=\"M0 0h24v24H0V0z\" fill=\"none\"/>\n",
              "    <path d=\"M18.56 5.44l.94 2.06.94-2.06 2.06-.94-2.06-.94-.94-2.06-.94 2.06-2.06.94zm-11 1L8.5 8.5l.94-2.06 2.06-.94-2.06-.94L8.5 2.5l-.94 2.06-2.06.94zm10 10l.94 2.06.94-2.06 2.06-.94-2.06-.94-.94-2.06-.94 2.06-2.06.94z\"/><path d=\"M17.41 7.96l-1.37-1.37c-.4-.4-.92-.59-1.43-.59-.52 0-1.04.2-1.43.59L10.3 9.45l-7.72 7.72c-.78.78-.78 2.05 0 2.83L4 21.41c.39.39.9.59 1.41.59.51 0 1.02-.2 1.41-.59l7.78-7.78 2.81-2.81c.8-.78.8-2.07 0-2.86zM5.41 20L4 18.59l7.72-7.72 1.47 1.35L5.41 20z\"/>\n",
              "  </svg>\n",
              "      </button>\n",
              "      \n",
              "  <style>\n",
              "    .colab-df-container {\n",
              "      display:flex;\n",
              "      flex-wrap:wrap;\n",
              "      gap: 12px;\n",
              "    }\n",
              "\n",
              "    .colab-df-convert {\n",
              "      background-color: #E8F0FE;\n",
              "      border: none;\n",
              "      border-radius: 50%;\n",
              "      cursor: pointer;\n",
              "      display: none;\n",
              "      fill: #1967D2;\n",
              "      height: 32px;\n",
              "      padding: 0 0 0 0;\n",
              "      width: 32px;\n",
              "    }\n",
              "\n",
              "    .colab-df-convert:hover {\n",
              "      background-color: #E2EBFA;\n",
              "      box-shadow: 0px 1px 2px rgba(60, 64, 67, 0.3), 0px 1px 3px 1px rgba(60, 64, 67, 0.15);\n",
              "      fill: #174EA6;\n",
              "    }\n",
              "\n",
              "    [theme=dark] .colab-df-convert {\n",
              "      background-color: #3B4455;\n",
              "      fill: #D2E3FC;\n",
              "    }\n",
              "\n",
              "    [theme=dark] .colab-df-convert:hover {\n",
              "      background-color: #434B5C;\n",
              "      box-shadow: 0px 1px 3px 1px rgba(0, 0, 0, 0.15);\n",
              "      filter: drop-shadow(0px 1px 2px rgba(0, 0, 0, 0.3));\n",
              "      fill: #FFFFFF;\n",
              "    }\n",
              "  </style>\n",
              "\n",
              "      <script>\n",
              "        const buttonEl =\n",
              "          document.querySelector('#df-35166614-76aa-4606-b755-5b4ce138e03e button.colab-df-convert');\n",
              "        buttonEl.style.display =\n",
              "          google.colab.kernel.accessAllowed ? 'block' : 'none';\n",
              "\n",
              "        async function convertToInteractive(key) {\n",
              "          const element = document.querySelector('#df-35166614-76aa-4606-b755-5b4ce138e03e');\n",
              "          const dataTable =\n",
              "            await google.colab.kernel.invokeFunction('convertToInteractive',\n",
              "                                                     [key], {});\n",
              "          if (!dataTable) return;\n",
              "\n",
              "          const docLinkHtml = 'Like what you see? Visit the ' +\n",
              "            '<a target=\"_blank\" href=https://colab.research.google.com/notebooks/data_table.ipynb>data table notebook</a>'\n",
              "            + ' to learn more about interactive tables.';\n",
              "          element.innerHTML = '';\n",
              "          dataTable['output_type'] = 'display_data';\n",
              "          await google.colab.output.renderOutput(dataTable, element);\n",
              "          const docLink = document.createElement('div');\n",
              "          docLink.innerHTML = docLinkHtml;\n",
              "          element.appendChild(docLink);\n",
              "        }\n",
              "      </script>\n",
              "    </div>\n",
              "  </div>\n",
              "  "
            ]
          },
          "metadata": {},
          "execution_count": 5
        }
      ]
    },
    {
      "cell_type": "code",
      "source": [
        "df_merged.shape"
      ],
      "metadata": {
        "colab": {
          "base_uri": "https://localhost:8080/"
        },
        "id": "EXuTDthXdfqx",
        "outputId": "635054e9-8518-4b1c-f365-2e4d52b7e991"
      },
      "execution_count": 6,
      "outputs": [
        {
          "output_type": "execute_result",
          "data": {
            "text/plain": [
              "(122361, 8)"
            ]
          },
          "metadata": {},
          "execution_count": 6
        }
      ]
    },
    {
      "cell_type": "code",
      "source": [
        "df_merged.info()"
      ],
      "metadata": {
        "colab": {
          "base_uri": "https://localhost:8080/"
        },
        "id": "DUFFltpHdmqj",
        "outputId": "1921644a-2712-4129-d294-3e87dafc7ee9"
      },
      "execution_count": 7,
      "outputs": [
        {
          "output_type": "stream",
          "name": "stdout",
          "text": [
            "<class 'pandas.core.frame.DataFrame'>\n",
            "RangeIndex: 122361 entries, 0 to 122360\n",
            "Data columns (total 8 columns):\n",
            " #   Column     Non-Null Count   Dtype  \n",
            "---  ------     --------------   -----  \n",
            " 0   Symbol     122361 non-null  object \n",
            " 1   Date       122361 non-null  object \n",
            " 2   Open       122156 non-null  float64\n",
            " 3   High       122156 non-null  float64\n",
            " 4   Low        122156 non-null  float64\n",
            " 5   Close      122156 non-null  float64\n",
            " 6   Adj Close  122156 non-null  float64\n",
            " 7   Volume     122156 non-null  float64\n",
            "dtypes: float64(6), object(2)\n",
            "memory usage: 7.5+ MB\n"
          ]
        }
      ]
    },
    {
      "cell_type": "code",
      "source": [
        "company_list=df_merged.Symbol.unique()\n",
        "company_list"
      ],
      "metadata": {
        "colab": {
          "base_uri": "https://localhost:8080/"
        },
        "id": "-G49OvOIWPlC",
        "outputId": "0cdf7537-f1b1-4faf-97da-b3347a421870"
      },
      "execution_count": 8,
      "outputs": [
        {
          "output_type": "execute_result",
          "data": {
            "text/plain": [
              "array(['AMARAJABAT', 'APOLLOTYRE', 'BAJAJFINSV', 'BERGEPAINT',\n",
              "       'COALINDIA', 'COLPAL', 'DABUR', 'DRREDDY', 'FINPIPE', 'HDFCBANK',\n",
              "       'HINDPETRO', 'INFY', 'KOTAKBANK', 'M&M', 'MARUTI', 'MINDTREE',\n",
              "       'RELIANCE', 'SAIL', 'TATASTEEL', 'TCS', 'TITAN', 'ULTRACEMCO',\n",
              "       'VOLTAS', 'WIPRO', 'SUNPHARMA'], dtype=object)"
            ]
          },
          "metadata": {},
          "execution_count": 8
        }
      ]
    },
    {
      "cell_type": "markdown",
      "source": [
        "##Data Preprocessing"
      ],
      "metadata": {
        "id": "GTIaEYcrVDsD"
      }
    },
    {
      "cell_type": "markdown",
      "source": [
        "###Format date column"
      ],
      "metadata": {
        "id": "w0sK9yzGdBCp"
      }
    },
    {
      "cell_type": "code",
      "source": [
        "df_merged['Date']=pd.to_datetime(df_merged['Date'],dayfirst=True)"
      ],
      "metadata": {
        "id": "PPe2SwTIc26A"
      },
      "execution_count": 9,
      "outputs": []
    },
    {
      "cell_type": "code",
      "source": [
        "df_merged.head(3)"
      ],
      "metadata": {
        "colab": {
          "base_uri": "https://localhost:8080/",
          "height": 0
        },
        "id": "MiJOwcVmdFNE",
        "outputId": "ff430f51-0596-4906-bc4a-6aff8b4c28c0"
      },
      "execution_count": 10,
      "outputs": [
        {
          "output_type": "execute_result",
          "data": {
            "text/plain": [
              "       Symbol       Date      Open      High       Low     Close  Adj Close  \\\n",
              "0  AMARAJABAT 2002-07-01  5.763333  5.833333  5.696666  5.720000   4.567834   \n",
              "1  AMARAJABAT 2002-07-02  5.766666  5.820000  5.746666  5.790000   4.623735   \n",
              "2  AMARAJABAT 2002-07-03  5.793333  6.113333  5.793333  5.926666   4.732872   \n",
              "\n",
              "      Volume  \n",
              "0   838110.0  \n",
              "1   688305.0  \n",
              "2  1731270.0  "
            ],
            "text/html": [
              "\n",
              "  <div id=\"df-2c250b00-07f5-4ce8-967d-4580d4a70e33\">\n",
              "    <div class=\"colab-df-container\">\n",
              "      <div>\n",
              "<style scoped>\n",
              "    .dataframe tbody tr th:only-of-type {\n",
              "        vertical-align: middle;\n",
              "    }\n",
              "\n",
              "    .dataframe tbody tr th {\n",
              "        vertical-align: top;\n",
              "    }\n",
              "\n",
              "    .dataframe thead th {\n",
              "        text-align: right;\n",
              "    }\n",
              "</style>\n",
              "<table border=\"1\" class=\"dataframe\">\n",
              "  <thead>\n",
              "    <tr style=\"text-align: right;\">\n",
              "      <th></th>\n",
              "      <th>Symbol</th>\n",
              "      <th>Date</th>\n",
              "      <th>Open</th>\n",
              "      <th>High</th>\n",
              "      <th>Low</th>\n",
              "      <th>Close</th>\n",
              "      <th>Adj Close</th>\n",
              "      <th>Volume</th>\n",
              "    </tr>\n",
              "  </thead>\n",
              "  <tbody>\n",
              "    <tr>\n",
              "      <th>0</th>\n",
              "      <td>AMARAJABAT</td>\n",
              "      <td>2002-07-01</td>\n",
              "      <td>5.763333</td>\n",
              "      <td>5.833333</td>\n",
              "      <td>5.696666</td>\n",
              "      <td>5.720000</td>\n",
              "      <td>4.567834</td>\n",
              "      <td>838110.0</td>\n",
              "    </tr>\n",
              "    <tr>\n",
              "      <th>1</th>\n",
              "      <td>AMARAJABAT</td>\n",
              "      <td>2002-07-02</td>\n",
              "      <td>5.766666</td>\n",
              "      <td>5.820000</td>\n",
              "      <td>5.746666</td>\n",
              "      <td>5.790000</td>\n",
              "      <td>4.623735</td>\n",
              "      <td>688305.0</td>\n",
              "    </tr>\n",
              "    <tr>\n",
              "      <th>2</th>\n",
              "      <td>AMARAJABAT</td>\n",
              "      <td>2002-07-03</td>\n",
              "      <td>5.793333</td>\n",
              "      <td>6.113333</td>\n",
              "      <td>5.793333</td>\n",
              "      <td>5.926666</td>\n",
              "      <td>4.732872</td>\n",
              "      <td>1731270.0</td>\n",
              "    </tr>\n",
              "  </tbody>\n",
              "</table>\n",
              "</div>\n",
              "      <button class=\"colab-df-convert\" onclick=\"convertToInteractive('df-2c250b00-07f5-4ce8-967d-4580d4a70e33')\"\n",
              "              title=\"Convert this dataframe to an interactive table.\"\n",
              "              style=\"display:none;\">\n",
              "        \n",
              "  <svg xmlns=\"http://www.w3.org/2000/svg\" height=\"24px\"viewBox=\"0 0 24 24\"\n",
              "       width=\"24px\">\n",
              "    <path d=\"M0 0h24v24H0V0z\" fill=\"none\"/>\n",
              "    <path d=\"M18.56 5.44l.94 2.06.94-2.06 2.06-.94-2.06-.94-.94-2.06-.94 2.06-2.06.94zm-11 1L8.5 8.5l.94-2.06 2.06-.94-2.06-.94L8.5 2.5l-.94 2.06-2.06.94zm10 10l.94 2.06.94-2.06 2.06-.94-2.06-.94-.94-2.06-.94 2.06-2.06.94z\"/><path d=\"M17.41 7.96l-1.37-1.37c-.4-.4-.92-.59-1.43-.59-.52 0-1.04.2-1.43.59L10.3 9.45l-7.72 7.72c-.78.78-.78 2.05 0 2.83L4 21.41c.39.39.9.59 1.41.59.51 0 1.02-.2 1.41-.59l7.78-7.78 2.81-2.81c.8-.78.8-2.07 0-2.86zM5.41 20L4 18.59l7.72-7.72 1.47 1.35L5.41 20z\"/>\n",
              "  </svg>\n",
              "      </button>\n",
              "      \n",
              "  <style>\n",
              "    .colab-df-container {\n",
              "      display:flex;\n",
              "      flex-wrap:wrap;\n",
              "      gap: 12px;\n",
              "    }\n",
              "\n",
              "    .colab-df-convert {\n",
              "      background-color: #E8F0FE;\n",
              "      border: none;\n",
              "      border-radius: 50%;\n",
              "      cursor: pointer;\n",
              "      display: none;\n",
              "      fill: #1967D2;\n",
              "      height: 32px;\n",
              "      padding: 0 0 0 0;\n",
              "      width: 32px;\n",
              "    }\n",
              "\n",
              "    .colab-df-convert:hover {\n",
              "      background-color: #E2EBFA;\n",
              "      box-shadow: 0px 1px 2px rgba(60, 64, 67, 0.3), 0px 1px 3px 1px rgba(60, 64, 67, 0.15);\n",
              "      fill: #174EA6;\n",
              "    }\n",
              "\n",
              "    [theme=dark] .colab-df-convert {\n",
              "      background-color: #3B4455;\n",
              "      fill: #D2E3FC;\n",
              "    }\n",
              "\n",
              "    [theme=dark] .colab-df-convert:hover {\n",
              "      background-color: #434B5C;\n",
              "      box-shadow: 0px 1px 3px 1px rgba(0, 0, 0, 0.15);\n",
              "      filter: drop-shadow(0px 1px 2px rgba(0, 0, 0, 0.3));\n",
              "      fill: #FFFFFF;\n",
              "    }\n",
              "  </style>\n",
              "\n",
              "      <script>\n",
              "        const buttonEl =\n",
              "          document.querySelector('#df-2c250b00-07f5-4ce8-967d-4580d4a70e33 button.colab-df-convert');\n",
              "        buttonEl.style.display =\n",
              "          google.colab.kernel.accessAllowed ? 'block' : 'none';\n",
              "\n",
              "        async function convertToInteractive(key) {\n",
              "          const element = document.querySelector('#df-2c250b00-07f5-4ce8-967d-4580d4a70e33');\n",
              "          const dataTable =\n",
              "            await google.colab.kernel.invokeFunction('convertToInteractive',\n",
              "                                                     [key], {});\n",
              "          if (!dataTable) return;\n",
              "\n",
              "          const docLinkHtml = 'Like what you see? Visit the ' +\n",
              "            '<a target=\"_blank\" href=https://colab.research.google.com/notebooks/data_table.ipynb>data table notebook</a>'\n",
              "            + ' to learn more about interactive tables.';\n",
              "          element.innerHTML = '';\n",
              "          dataTable['output_type'] = 'display_data';\n",
              "          await google.colab.output.renderOutput(dataTable, element);\n",
              "          const docLink = document.createElement('div');\n",
              "          docLink.innerHTML = docLinkHtml;\n",
              "          element.appendChild(docLink);\n",
              "        }\n",
              "      </script>\n",
              "    </div>\n",
              "  </div>\n",
              "  "
            ]
          },
          "metadata": {},
          "execution_count": 10
        }
      ]
    },
    {
      "cell_type": "code",
      "source": [
        "df_merged.info()"
      ],
      "metadata": {
        "colab": {
          "base_uri": "https://localhost:8080/"
        },
        "id": "R1f-f-Z3dSEY",
        "outputId": "d646717b-44e1-4354-99aa-f92a8b05e86d"
      },
      "execution_count": 11,
      "outputs": [
        {
          "output_type": "stream",
          "name": "stdout",
          "text": [
            "<class 'pandas.core.frame.DataFrame'>\n",
            "RangeIndex: 122361 entries, 0 to 122360\n",
            "Data columns (total 8 columns):\n",
            " #   Column     Non-Null Count   Dtype         \n",
            "---  ------     --------------   -----         \n",
            " 0   Symbol     122361 non-null  object        \n",
            " 1   Date       122361 non-null  datetime64[ns]\n",
            " 2   Open       122156 non-null  float64       \n",
            " 3   High       122156 non-null  float64       \n",
            " 4   Low        122156 non-null  float64       \n",
            " 5   Close      122156 non-null  float64       \n",
            " 6   Adj Close  122156 non-null  float64       \n",
            " 7   Volume     122156 non-null  float64       \n",
            "dtypes: datetime64[ns](1), float64(6), object(1)\n",
            "memory usage: 7.5+ MB\n"
          ]
        }
      ]
    },
    {
      "cell_type": "code",
      "source": [
        ""
      ],
      "metadata": {
        "id": "0I84g_lIRHiq"
      },
      "execution_count": 11,
      "outputs": []
    },
    {
      "cell_type": "markdown",
      "source": [
        "###Remove null values \n",
        "\n",
        "on holidays only\n",
        "\n",
        "*   on saturdays and sundays\n",
        "*   public holidays\n",
        "\n"
      ],
      "metadata": {
        "id": "yMVOhzoNeFem"
      }
    },
    {
      "cell_type": "code",
      "source": [
        "#check for null values \n",
        "df_null=pd.isnull(df_merged)\n",
        "c=pd.isnull(df_merged).sum()\n",
        "c\n"
      ],
      "metadata": {
        "colab": {
          "base_uri": "https://localhost:8080/"
        },
        "id": "cdS7TG0Ad47W",
        "outputId": "d8cef28e-6ae4-4eca-b951-241494b9c928"
      },
      "execution_count": 12,
      "outputs": [
        {
          "output_type": "execute_result",
          "data": {
            "text/plain": [
              "Symbol         0\n",
              "Date           0\n",
              "Open         205\n",
              "High         205\n",
              "Low          205\n",
              "Close        205\n",
              "Adj Close    205\n",
              "Volume       205\n",
              "dtype: int64"
            ]
          },
          "metadata": {},
          "execution_count": 12
        }
      ]
    },
    {
      "cell_type": "code",
      "source": [
        "#Add day column \n",
        "df_merged['Date'].dt.strftime('%d-%m-%y')\n",
        "df_merged['Day']=df_merged['Date'].dt.day_name()"
      ],
      "metadata": {
        "id": "IrAnNl9Qd_7_"
      },
      "execution_count": 13,
      "outputs": []
    },
    {
      "cell_type": "code",
      "source": [
        "df_merged.head()"
      ],
      "metadata": {
        "colab": {
          "base_uri": "https://localhost:8080/",
          "height": 0
        },
        "id": "fuXBd2Koe0No",
        "outputId": "1e133645-940e-4775-9860-6e2c433f61e2"
      },
      "execution_count": 14,
      "outputs": [
        {
          "output_type": "execute_result",
          "data": {
            "text/plain": [
              "       Symbol       Date      Open      High       Low     Close  Adj Close  \\\n",
              "0  AMARAJABAT 2002-07-01  5.763333  5.833333  5.696666  5.720000   4.567834   \n",
              "1  AMARAJABAT 2002-07-02  5.766666  5.820000  5.746666  5.790000   4.623735   \n",
              "2  AMARAJABAT 2002-07-03  5.793333  6.113333  5.793333  5.926666   4.732872   \n",
              "3  AMARAJABAT 2002-07-04  5.993333  5.996666  5.883333  5.893333   4.706254   \n",
              "4  AMARAJABAT 2002-07-05  6.026666  6.026666  5.886666  5.910000   4.719563   \n",
              "\n",
              "      Volume        Day  \n",
              "0   838110.0     Monday  \n",
              "1   688305.0    Tuesday  \n",
              "2  1731270.0  Wednesday  \n",
              "3   472860.0   Thursday  \n",
              "4   688410.0     Friday  "
            ],
            "text/html": [
              "\n",
              "  <div id=\"df-216fab48-357a-4012-a4ba-114a4bdd718c\">\n",
              "    <div class=\"colab-df-container\">\n",
              "      <div>\n",
              "<style scoped>\n",
              "    .dataframe tbody tr th:only-of-type {\n",
              "        vertical-align: middle;\n",
              "    }\n",
              "\n",
              "    .dataframe tbody tr th {\n",
              "        vertical-align: top;\n",
              "    }\n",
              "\n",
              "    .dataframe thead th {\n",
              "        text-align: right;\n",
              "    }\n",
              "</style>\n",
              "<table border=\"1\" class=\"dataframe\">\n",
              "  <thead>\n",
              "    <tr style=\"text-align: right;\">\n",
              "      <th></th>\n",
              "      <th>Symbol</th>\n",
              "      <th>Date</th>\n",
              "      <th>Open</th>\n",
              "      <th>High</th>\n",
              "      <th>Low</th>\n",
              "      <th>Close</th>\n",
              "      <th>Adj Close</th>\n",
              "      <th>Volume</th>\n",
              "      <th>Day</th>\n",
              "    </tr>\n",
              "  </thead>\n",
              "  <tbody>\n",
              "    <tr>\n",
              "      <th>0</th>\n",
              "      <td>AMARAJABAT</td>\n",
              "      <td>2002-07-01</td>\n",
              "      <td>5.763333</td>\n",
              "      <td>5.833333</td>\n",
              "      <td>5.696666</td>\n",
              "      <td>5.720000</td>\n",
              "      <td>4.567834</td>\n",
              "      <td>838110.0</td>\n",
              "      <td>Monday</td>\n",
              "    </tr>\n",
              "    <tr>\n",
              "      <th>1</th>\n",
              "      <td>AMARAJABAT</td>\n",
              "      <td>2002-07-02</td>\n",
              "      <td>5.766666</td>\n",
              "      <td>5.820000</td>\n",
              "      <td>5.746666</td>\n",
              "      <td>5.790000</td>\n",
              "      <td>4.623735</td>\n",
              "      <td>688305.0</td>\n",
              "      <td>Tuesday</td>\n",
              "    </tr>\n",
              "    <tr>\n",
              "      <th>2</th>\n",
              "      <td>AMARAJABAT</td>\n",
              "      <td>2002-07-03</td>\n",
              "      <td>5.793333</td>\n",
              "      <td>6.113333</td>\n",
              "      <td>5.793333</td>\n",
              "      <td>5.926666</td>\n",
              "      <td>4.732872</td>\n",
              "      <td>1731270.0</td>\n",
              "      <td>Wednesday</td>\n",
              "    </tr>\n",
              "    <tr>\n",
              "      <th>3</th>\n",
              "      <td>AMARAJABAT</td>\n",
              "      <td>2002-07-04</td>\n",
              "      <td>5.993333</td>\n",
              "      <td>5.996666</td>\n",
              "      <td>5.883333</td>\n",
              "      <td>5.893333</td>\n",
              "      <td>4.706254</td>\n",
              "      <td>472860.0</td>\n",
              "      <td>Thursday</td>\n",
              "    </tr>\n",
              "    <tr>\n",
              "      <th>4</th>\n",
              "      <td>AMARAJABAT</td>\n",
              "      <td>2002-07-05</td>\n",
              "      <td>6.026666</td>\n",
              "      <td>6.026666</td>\n",
              "      <td>5.886666</td>\n",
              "      <td>5.910000</td>\n",
              "      <td>4.719563</td>\n",
              "      <td>688410.0</td>\n",
              "      <td>Friday</td>\n",
              "    </tr>\n",
              "  </tbody>\n",
              "</table>\n",
              "</div>\n",
              "      <button class=\"colab-df-convert\" onclick=\"convertToInteractive('df-216fab48-357a-4012-a4ba-114a4bdd718c')\"\n",
              "              title=\"Convert this dataframe to an interactive table.\"\n",
              "              style=\"display:none;\">\n",
              "        \n",
              "  <svg xmlns=\"http://www.w3.org/2000/svg\" height=\"24px\"viewBox=\"0 0 24 24\"\n",
              "       width=\"24px\">\n",
              "    <path d=\"M0 0h24v24H0V0z\" fill=\"none\"/>\n",
              "    <path d=\"M18.56 5.44l.94 2.06.94-2.06 2.06-.94-2.06-.94-.94-2.06-.94 2.06-2.06.94zm-11 1L8.5 8.5l.94-2.06 2.06-.94-2.06-.94L8.5 2.5l-.94 2.06-2.06.94zm10 10l.94 2.06.94-2.06 2.06-.94-2.06-.94-.94-2.06-.94 2.06-2.06.94z\"/><path d=\"M17.41 7.96l-1.37-1.37c-.4-.4-.92-.59-1.43-.59-.52 0-1.04.2-1.43.59L10.3 9.45l-7.72 7.72c-.78.78-.78 2.05 0 2.83L4 21.41c.39.39.9.59 1.41.59.51 0 1.02-.2 1.41-.59l7.78-7.78 2.81-2.81c.8-.78.8-2.07 0-2.86zM5.41 20L4 18.59l7.72-7.72 1.47 1.35L5.41 20z\"/>\n",
              "  </svg>\n",
              "      </button>\n",
              "      \n",
              "  <style>\n",
              "    .colab-df-container {\n",
              "      display:flex;\n",
              "      flex-wrap:wrap;\n",
              "      gap: 12px;\n",
              "    }\n",
              "\n",
              "    .colab-df-convert {\n",
              "      background-color: #E8F0FE;\n",
              "      border: none;\n",
              "      border-radius: 50%;\n",
              "      cursor: pointer;\n",
              "      display: none;\n",
              "      fill: #1967D2;\n",
              "      height: 32px;\n",
              "      padding: 0 0 0 0;\n",
              "      width: 32px;\n",
              "    }\n",
              "\n",
              "    .colab-df-convert:hover {\n",
              "      background-color: #E2EBFA;\n",
              "      box-shadow: 0px 1px 2px rgba(60, 64, 67, 0.3), 0px 1px 3px 1px rgba(60, 64, 67, 0.15);\n",
              "      fill: #174EA6;\n",
              "    }\n",
              "\n",
              "    [theme=dark] .colab-df-convert {\n",
              "      background-color: #3B4455;\n",
              "      fill: #D2E3FC;\n",
              "    }\n",
              "\n",
              "    [theme=dark] .colab-df-convert:hover {\n",
              "      background-color: #434B5C;\n",
              "      box-shadow: 0px 1px 3px 1px rgba(0, 0, 0, 0.15);\n",
              "      filter: drop-shadow(0px 1px 2px rgba(0, 0, 0, 0.3));\n",
              "      fill: #FFFFFF;\n",
              "    }\n",
              "  </style>\n",
              "\n",
              "      <script>\n",
              "        const buttonEl =\n",
              "          document.querySelector('#df-216fab48-357a-4012-a4ba-114a4bdd718c button.colab-df-convert');\n",
              "        buttonEl.style.display =\n",
              "          google.colab.kernel.accessAllowed ? 'block' : 'none';\n",
              "\n",
              "        async function convertToInteractive(key) {\n",
              "          const element = document.querySelector('#df-216fab48-357a-4012-a4ba-114a4bdd718c');\n",
              "          const dataTable =\n",
              "            await google.colab.kernel.invokeFunction('convertToInteractive',\n",
              "                                                     [key], {});\n",
              "          if (!dataTable) return;\n",
              "\n",
              "          const docLinkHtml = 'Like what you see? Visit the ' +\n",
              "            '<a target=\"_blank\" href=https://colab.research.google.com/notebooks/data_table.ipynb>data table notebook</a>'\n",
              "            + ' to learn more about interactive tables.';\n",
              "          element.innerHTML = '';\n",
              "          dataTable['output_type'] = 'display_data';\n",
              "          await google.colab.output.renderOutput(dataTable, element);\n",
              "          const docLink = document.createElement('div');\n",
              "          docLink.innerHTML = docLinkHtml;\n",
              "          element.appendChild(docLink);\n",
              "        }\n",
              "      </script>\n",
              "    </div>\n",
              "  </div>\n",
              "  "
            ]
          },
          "metadata": {},
          "execution_count": 14
        }
      ]
    },
    {
      "cell_type": "code",
      "source": [
        "#Remove rows with days Saturday and Sunday\n",
        "df_merged.drop(df_merged.index[df_merged['Day']=='Saturday'],inplace=True)\n",
        "df_merged.drop(df_merged.index[df_merged['Day']=='Sunday'],inplace=True)\n"
      ],
      "metadata": {
        "id": "ZNm-pBzFe1Dp"
      },
      "execution_count": 15,
      "outputs": []
    },
    {
      "cell_type": "code",
      "source": [
        "c=pd.isnull(df_merged).sum()\n",
        "c"
      ],
      "metadata": {
        "colab": {
          "base_uri": "https://localhost:8080/"
        },
        "id": "Iu3GHZBgfQK6",
        "outputId": "6dab007f-88c1-4f3f-a073-a2b27a813e23"
      },
      "execution_count": 16,
      "outputs": [
        {
          "output_type": "execute_result",
          "data": {
            "text/plain": [
              "Symbol        0\n",
              "Date          0\n",
              "Open         31\n",
              "High         31\n",
              "Low          31\n",
              "Close        31\n",
              "Adj Close    31\n",
              "Volume       31\n",
              "Day           0\n",
              "dtype: int64"
            ]
          },
          "metadata": {},
          "execution_count": 16
        }
      ]
    },
    {
      "cell_type": "code",
      "source": [
        "#NA on public holidays -- Remove rows where volume=0 (means no trading happens)\n",
        "df_merged=df_merged[(df_merged['Volume']>0)]"
      ],
      "metadata": {
        "id": "_7eoAtQ1fTMW"
      },
      "execution_count": 17,
      "outputs": []
    },
    {
      "cell_type": "code",
      "source": [
        "c=pd.isnull(df_merged).sum()\n",
        "c"
      ],
      "metadata": {
        "colab": {
          "base_uri": "https://localhost:8080/"
        },
        "id": "jhgGWaZnfg2r",
        "outputId": "6a2cb8e6-1d94-46ef-d994-313d60916a80"
      },
      "execution_count": 18,
      "outputs": [
        {
          "output_type": "execute_result",
          "data": {
            "text/plain": [
              "Symbol       0\n",
              "Date         0\n",
              "Open         0\n",
              "High         0\n",
              "Low          0\n",
              "Close        0\n",
              "Adj Close    0\n",
              "Volume       0\n",
              "Day          0\n",
              "dtype: int64"
            ]
          },
          "metadata": {},
          "execution_count": 18
        }
      ]
    },
    {
      "cell_type": "code",
      "source": [
        "df_merged.info()"
      ],
      "metadata": {
        "colab": {
          "base_uri": "https://localhost:8080/"
        },
        "id": "PWtrE4mYfgwP",
        "outputId": "085d3b38-6151-4c02-e5d0-f87ea4c9a446"
      },
      "execution_count": 19,
      "outputs": [
        {
          "output_type": "stream",
          "name": "stdout",
          "text": [
            "<class 'pandas.core.frame.DataFrame'>\n",
            "Int64Index: 120837 entries, 0 to 122360\n",
            "Data columns (total 9 columns):\n",
            " #   Column     Non-Null Count   Dtype         \n",
            "---  ------     --------------   -----         \n",
            " 0   Symbol     120837 non-null  object        \n",
            " 1   Date       120837 non-null  datetime64[ns]\n",
            " 2   Open       120837 non-null  float64       \n",
            " 3   High       120837 non-null  float64       \n",
            " 4   Low        120837 non-null  float64       \n",
            " 5   Close      120837 non-null  float64       \n",
            " 6   Adj Close  120837 non-null  float64       \n",
            " 7   Volume     120837 non-null  float64       \n",
            " 8   Day        120837 non-null  object        \n",
            "dtypes: datetime64[ns](1), float64(6), object(2)\n",
            "memory usage: 9.2+ MB\n"
          ]
        }
      ]
    },
    {
      "cell_type": "code",
      "source": [
        "#Remove day column\n",
        "df_merged.drop('Day',axis=1,inplace=True)"
      ],
      "metadata": {
        "id": "BsxaI4qafm99"
      },
      "execution_count": 20,
      "outputs": []
    },
    {
      "cell_type": "code",
      "source": [
        "df_merged.columns\n"
      ],
      "metadata": {
        "colab": {
          "base_uri": "https://localhost:8080/"
        },
        "id": "VZkGYNkFkG6s",
        "outputId": "70bf6666-0537-459c-e80e-181b1712b96e"
      },
      "execution_count": 21,
      "outputs": [
        {
          "output_type": "execute_result",
          "data": {
            "text/plain": [
              "Index(['Symbol', 'Date', 'Open', 'High', 'Low', 'Close', 'Adj Close',\n",
              "       'Volume'],\n",
              "      dtype='object')"
            ]
          },
          "metadata": {},
          "execution_count": 21
        }
      ]
    },
    {
      "cell_type": "markdown",
      "source": [
        "##EDA"
      ],
      "metadata": {
        "id": "8AwFAtwoLxaK"
      }
    },
    {
      "cell_type": "markdown",
      "source": [
        "####Consider TCS Stocks"
      ],
      "metadata": {
        "id": "tDao1U8ggiY0"
      }
    },
    {
      "cell_type": "code",
      "source": [
        "from matplotlib import pyplot as plt\n",
        "import seaborn as sns"
      ],
      "metadata": {
        "id": "zvoBJjzaVcgG"
      },
      "execution_count": null,
      "outputs": []
    },
    {
      "cell_type": "code",
      "source": [
        "df=df_merged.loc[(df_merged[\"Symbol\"] == \"TCS\")]"
      ],
      "metadata": {
        "id": "Gzoo_jKNLw92"
      },
      "execution_count": null,
      "outputs": []
    },
    {
      "cell_type": "code",
      "source": [
        "df.head(10)"
      ],
      "metadata": {
        "colab": {
          "base_uri": "https://localhost:8080/",
          "height": 363
        },
        "id": "t3H_s9P8Tnyk",
        "outputId": "b95fcb26-dec3-42db-85d1-902461c5520c"
      },
      "execution_count": null,
      "outputs": [
        {
          "output_type": "execute_result",
          "data": {
            "text/plain": [
              "      Symbol       Date       Open       High        Low      Close  \\\n",
              "92200    TCS 2002-08-12  38.724998  40.000000  38.724998  39.700001   \n",
              "92201    TCS 2002-08-13  39.750000  40.387501  38.875000  39.162498   \n",
              "92202    TCS 2002-08-14  39.250000  39.250000  35.724998  36.462502   \n",
              "92204    TCS 2002-08-16  36.275002  38.000000  35.750000  36.375000   \n",
              "92205    TCS 2002-08-19  36.674999  36.674999  35.137501  35.474998   \n",
              "92206    TCS 2002-08-20  35.724998  38.724998  35.487499  36.462502   \n",
              "92207    TCS 2002-08-21  38.474998  39.200001  36.525002  38.250000   \n",
              "92208    TCS 2002-08-22  39.512501  41.575001  39.312500  39.900002   \n",
              "92209    TCS 2002-08-23  40.250000  43.625000  39.762501  42.299999   \n",
              "92210    TCS 2002-08-26  42.974998  43.250000  41.812500  42.150002   \n",
              "\n",
              "       Adj Close     Volume  \n",
              "92200  29.410915   212976.0  \n",
              "92201  29.012718   153576.0  \n",
              "92202  27.012482   822776.0  \n",
              "92204  26.947678   811856.0  \n",
              "92205  26.280922   205880.0  \n",
              "92206  27.012482  3773624.0  \n",
              "92207  28.336710  3011064.0  \n",
              "92208  29.559090  6732480.0  \n",
              "92209  31.337076  4841672.0  \n",
              "92210  31.225956  2576912.0  "
            ],
            "text/html": [
              "\n",
              "  <div id=\"df-efefe7b0-17c4-4766-b582-b8afe11dab90\">\n",
              "    <div class=\"colab-df-container\">\n",
              "      <div>\n",
              "<style scoped>\n",
              "    .dataframe tbody tr th:only-of-type {\n",
              "        vertical-align: middle;\n",
              "    }\n",
              "\n",
              "    .dataframe tbody tr th {\n",
              "        vertical-align: top;\n",
              "    }\n",
              "\n",
              "    .dataframe thead th {\n",
              "        text-align: right;\n",
              "    }\n",
              "</style>\n",
              "<table border=\"1\" class=\"dataframe\">\n",
              "  <thead>\n",
              "    <tr style=\"text-align: right;\">\n",
              "      <th></th>\n",
              "      <th>Symbol</th>\n",
              "      <th>Date</th>\n",
              "      <th>Open</th>\n",
              "      <th>High</th>\n",
              "      <th>Low</th>\n",
              "      <th>Close</th>\n",
              "      <th>Adj Close</th>\n",
              "      <th>Volume</th>\n",
              "    </tr>\n",
              "  </thead>\n",
              "  <tbody>\n",
              "    <tr>\n",
              "      <th>92200</th>\n",
              "      <td>TCS</td>\n",
              "      <td>2002-08-12</td>\n",
              "      <td>38.724998</td>\n",
              "      <td>40.000000</td>\n",
              "      <td>38.724998</td>\n",
              "      <td>39.700001</td>\n",
              "      <td>29.410915</td>\n",
              "      <td>212976.0</td>\n",
              "    </tr>\n",
              "    <tr>\n",
              "      <th>92201</th>\n",
              "      <td>TCS</td>\n",
              "      <td>2002-08-13</td>\n",
              "      <td>39.750000</td>\n",
              "      <td>40.387501</td>\n",
              "      <td>38.875000</td>\n",
              "      <td>39.162498</td>\n",
              "      <td>29.012718</td>\n",
              "      <td>153576.0</td>\n",
              "    </tr>\n",
              "    <tr>\n",
              "      <th>92202</th>\n",
              "      <td>TCS</td>\n",
              "      <td>2002-08-14</td>\n",
              "      <td>39.250000</td>\n",
              "      <td>39.250000</td>\n",
              "      <td>35.724998</td>\n",
              "      <td>36.462502</td>\n",
              "      <td>27.012482</td>\n",
              "      <td>822776.0</td>\n",
              "    </tr>\n",
              "    <tr>\n",
              "      <th>92204</th>\n",
              "      <td>TCS</td>\n",
              "      <td>2002-08-16</td>\n",
              "      <td>36.275002</td>\n",
              "      <td>38.000000</td>\n",
              "      <td>35.750000</td>\n",
              "      <td>36.375000</td>\n",
              "      <td>26.947678</td>\n",
              "      <td>811856.0</td>\n",
              "    </tr>\n",
              "    <tr>\n",
              "      <th>92205</th>\n",
              "      <td>TCS</td>\n",
              "      <td>2002-08-19</td>\n",
              "      <td>36.674999</td>\n",
              "      <td>36.674999</td>\n",
              "      <td>35.137501</td>\n",
              "      <td>35.474998</td>\n",
              "      <td>26.280922</td>\n",
              "      <td>205880.0</td>\n",
              "    </tr>\n",
              "    <tr>\n",
              "      <th>92206</th>\n",
              "      <td>TCS</td>\n",
              "      <td>2002-08-20</td>\n",
              "      <td>35.724998</td>\n",
              "      <td>38.724998</td>\n",
              "      <td>35.487499</td>\n",
              "      <td>36.462502</td>\n",
              "      <td>27.012482</td>\n",
              "      <td>3773624.0</td>\n",
              "    </tr>\n",
              "    <tr>\n",
              "      <th>92207</th>\n",
              "      <td>TCS</td>\n",
              "      <td>2002-08-21</td>\n",
              "      <td>38.474998</td>\n",
              "      <td>39.200001</td>\n",
              "      <td>36.525002</td>\n",
              "      <td>38.250000</td>\n",
              "      <td>28.336710</td>\n",
              "      <td>3011064.0</td>\n",
              "    </tr>\n",
              "    <tr>\n",
              "      <th>92208</th>\n",
              "      <td>TCS</td>\n",
              "      <td>2002-08-22</td>\n",
              "      <td>39.512501</td>\n",
              "      <td>41.575001</td>\n",
              "      <td>39.312500</td>\n",
              "      <td>39.900002</td>\n",
              "      <td>29.559090</td>\n",
              "      <td>6732480.0</td>\n",
              "    </tr>\n",
              "    <tr>\n",
              "      <th>92209</th>\n",
              "      <td>TCS</td>\n",
              "      <td>2002-08-23</td>\n",
              "      <td>40.250000</td>\n",
              "      <td>43.625000</td>\n",
              "      <td>39.762501</td>\n",
              "      <td>42.299999</td>\n",
              "      <td>31.337076</td>\n",
              "      <td>4841672.0</td>\n",
              "    </tr>\n",
              "    <tr>\n",
              "      <th>92210</th>\n",
              "      <td>TCS</td>\n",
              "      <td>2002-08-26</td>\n",
              "      <td>42.974998</td>\n",
              "      <td>43.250000</td>\n",
              "      <td>41.812500</td>\n",
              "      <td>42.150002</td>\n",
              "      <td>31.225956</td>\n",
              "      <td>2576912.0</td>\n",
              "    </tr>\n",
              "  </tbody>\n",
              "</table>\n",
              "</div>\n",
              "      <button class=\"colab-df-convert\" onclick=\"convertToInteractive('df-efefe7b0-17c4-4766-b582-b8afe11dab90')\"\n",
              "              title=\"Convert this dataframe to an interactive table.\"\n",
              "              style=\"display:none;\">\n",
              "        \n",
              "  <svg xmlns=\"http://www.w3.org/2000/svg\" height=\"24px\"viewBox=\"0 0 24 24\"\n",
              "       width=\"24px\">\n",
              "    <path d=\"M0 0h24v24H0V0z\" fill=\"none\"/>\n",
              "    <path d=\"M18.56 5.44l.94 2.06.94-2.06 2.06-.94-2.06-.94-.94-2.06-.94 2.06-2.06.94zm-11 1L8.5 8.5l.94-2.06 2.06-.94-2.06-.94L8.5 2.5l-.94 2.06-2.06.94zm10 10l.94 2.06.94-2.06 2.06-.94-2.06-.94-.94-2.06-.94 2.06-2.06.94z\"/><path d=\"M17.41 7.96l-1.37-1.37c-.4-.4-.92-.59-1.43-.59-.52 0-1.04.2-1.43.59L10.3 9.45l-7.72 7.72c-.78.78-.78 2.05 0 2.83L4 21.41c.39.39.9.59 1.41.59.51 0 1.02-.2 1.41-.59l7.78-7.78 2.81-2.81c.8-.78.8-2.07 0-2.86zM5.41 20L4 18.59l7.72-7.72 1.47 1.35L5.41 20z\"/>\n",
              "  </svg>\n",
              "      </button>\n",
              "      \n",
              "  <style>\n",
              "    .colab-df-container {\n",
              "      display:flex;\n",
              "      flex-wrap:wrap;\n",
              "      gap: 12px;\n",
              "    }\n",
              "\n",
              "    .colab-df-convert {\n",
              "      background-color: #E8F0FE;\n",
              "      border: none;\n",
              "      border-radius: 50%;\n",
              "      cursor: pointer;\n",
              "      display: none;\n",
              "      fill: #1967D2;\n",
              "      height: 32px;\n",
              "      padding: 0 0 0 0;\n",
              "      width: 32px;\n",
              "    }\n",
              "\n",
              "    .colab-df-convert:hover {\n",
              "      background-color: #E2EBFA;\n",
              "      box-shadow: 0px 1px 2px rgba(60, 64, 67, 0.3), 0px 1px 3px 1px rgba(60, 64, 67, 0.15);\n",
              "      fill: #174EA6;\n",
              "    }\n",
              "\n",
              "    [theme=dark] .colab-df-convert {\n",
              "      background-color: #3B4455;\n",
              "      fill: #D2E3FC;\n",
              "    }\n",
              "\n",
              "    [theme=dark] .colab-df-convert:hover {\n",
              "      background-color: #434B5C;\n",
              "      box-shadow: 0px 1px 3px 1px rgba(0, 0, 0, 0.15);\n",
              "      filter: drop-shadow(0px 1px 2px rgba(0, 0, 0, 0.3));\n",
              "      fill: #FFFFFF;\n",
              "    }\n",
              "  </style>\n",
              "\n",
              "      <script>\n",
              "        const buttonEl =\n",
              "          document.querySelector('#df-efefe7b0-17c4-4766-b582-b8afe11dab90 button.colab-df-convert');\n",
              "        buttonEl.style.display =\n",
              "          google.colab.kernel.accessAllowed ? 'block' : 'none';\n",
              "\n",
              "        async function convertToInteractive(key) {\n",
              "          const element = document.querySelector('#df-efefe7b0-17c4-4766-b582-b8afe11dab90');\n",
              "          const dataTable =\n",
              "            await google.colab.kernel.invokeFunction('convertToInteractive',\n",
              "                                                     [key], {});\n",
              "          if (!dataTable) return;\n",
              "\n",
              "          const docLinkHtml = 'Like what you see? Visit the ' +\n",
              "            '<a target=\"_blank\" href=https://colab.research.google.com/notebooks/data_table.ipynb>data table notebook</a>'\n",
              "            + ' to learn more about interactive tables.';\n",
              "          element.innerHTML = '';\n",
              "          dataTable['output_type'] = 'display_data';\n",
              "          await google.colab.output.renderOutput(dataTable, element);\n",
              "          const docLink = document.createElement('div');\n",
              "          docLink.innerHTML = docLinkHtml;\n",
              "          element.appendChild(docLink);\n",
              "        }\n",
              "      </script>\n",
              "    </div>\n",
              "  </div>\n",
              "  "
            ]
          },
          "metadata": {},
          "execution_count": 14
        }
      ]
    },
    {
      "cell_type": "code",
      "source": [
        ""
      ],
      "metadata": {
        "id": "ZyjUkwnEWwql"
      },
      "execution_count": null,
      "outputs": []
    },
    {
      "cell_type": "code",
      "source": [
        "plt.plot(df[\"Date\"],df[\"High\"])\n"
      ],
      "metadata": {
        "colab": {
          "base_uri": "https://localhost:8080/",
          "height": 282
        },
        "id": "vuk0keNgUAiH",
        "outputId": "27ecc96f-9302-4558-bf45-bbcf1d922925"
      },
      "execution_count": null,
      "outputs": [
        {
          "output_type": "execute_result",
          "data": {
            "text/plain": [
              "[<matplotlib.lines.Line2D at 0x7fc07cb21d10>]"
            ]
          },
          "metadata": {},
          "execution_count": 15
        },
        {
          "output_type": "display_data",
          "data": {
            "text/plain": [
              "<Figure size 432x288 with 1 Axes>"
            ],
            "image/png": "[encoded data removed]"
          },
          "metadata": {
            "needs_background": "light"
          }
        }
      ]
    },
    {
      "cell_type": "code",
      "source": [
        "plt.plot(df[\"Date\"],df[\"Volume\"])\n",
        "plt.title(\"Volume vs Date\")"
      ],
      "metadata": {
        "colab": {
          "base_uri": "https://localhost:8080/",
          "height": 298
        },
        "id": "FlonQ9g8VpwG",
        "outputId": "523b6a14-f1cd-46bb-e5e4-6bf2ec009210"
      },
      "execution_count": null,
      "outputs": [
        {
          "output_type": "execute_result",
          "data": {
            "text/plain": [
              "Text(0.5, 1.0, 'Volume vs Date')"
            ]
          },
          "metadata": {},
          "execution_count": 16
        },
        {
          "output_type": "display_data",
          "data": {
            "text/plain": [
              "<Figure size 432x288 with 1 Axes>"
            ],
            "image/png": "[encoded data removed]"
          },
          "metadata": {
            "needs_background": "light"
          }
        }
      ]
    },
    {
      "cell_type": "markdown",
      "source": [
        "###Adjacent close price plot "
      ],
      "metadata": {
        "id": "lTu6M0iUYMjM"
      }
    },
    {
      "cell_type": "code",
      "source": [
        "df['Adj Close'].plot()\n",
        "plt.ylabel(\"Adjusted Close Prices\")\n",
        "plt.show()"
      ],
      "metadata": {
        "colab": {
          "base_uri": "https://localhost:8080/",
          "height": 265
        },
        "id": "k-fItd5WKn0t",
        "outputId": "9b364430-f80b-441d-a712-f8a0390c5b18"
      },
      "execution_count": null,
      "outputs": [
        {
          "output_type": "display_data",
          "data": {
            "text/plain": [
              "<Figure size 432x288 with 1 Axes>"
            ],
            "image/png": "[encoded data removed]"
          },
          "metadata": {
            "needs_background": "light"
          }
        }
      ]
    },
    {
      "cell_type": "markdown",
      "source": [
        "###Comparison of volume traded by each company from 2001-2021"
      ],
      "metadata": {
        "id": "aOMlytH_fbdZ"
      }
    },
    {
      "cell_type": "code",
      "source": [
        "plt.figure(figsize = (20, 5))\n",
        "plt.bar(df_merged.Symbol, df_merged.Volume, color ='maroon',\n",
        "        width = 0.4)\n",
        "plt.xlabel(\"Symbol\")\n",
        "plt.ylabel(\"Volume\")\n",
        "plt.title(\"Volume traded in last 20 years\")\n",
        "plt.show()"
      ],
      "metadata": {
        "colab": {
          "base_uri": "https://localhost:8080/",
          "height": 350
        },
        "id": "PRH_83ylekzF",
        "outputId": "0a5cb76f-706c-4aa7-874a-61fb5ac55538"
      },
      "execution_count": null,
      "outputs": [
        {
          "output_type": "display_data",
          "data": {
            "text/plain": [
              "<Figure size 1440x360 with 1 Axes>"
            ],
            "image/png": "[encoded data removed]"
          },
          "metadata": {
            "needs_background": "light"
          }
        }
      ]
    },
    {
      "cell_type": "markdown",
      "source": [
        "##Model training and performance"
      ],
      "metadata": {
        "id": "cI1brDp8fqxb"
      }
    },
    {
      "cell_type": "code",
      "source": [
        "import numpy as np\n",
        "from sklearn.metrics import mean_absolute_error,r2_score\n",
        "from sklearn.metrics import mean_squared_error\n"
      ],
      "metadata": {
        "id": "prRJ23vR1OCF"
      },
      "execution_count": 22,
      "outputs": []
    },
    {
      "cell_type": "code",
      "source": [
        "company_list=df_merged.Symbol.unique()"
      ],
      "metadata": {
        "id": "adqXDPhziUeE"
      },
      "execution_count": 23,
      "outputs": []
    },
    {
      "cell_type": "code",
      "source": [
        "company_list"
      ],
      "metadata": {
        "colab": {
          "base_uri": "https://localhost:8080/"
        },
        "id": "qWqOx9ffiWkL",
        "outputId": "be657092-00e8-446a-bc8f-f04e1a491f4d"
      },
      "execution_count": 24,
      "outputs": [
        {
          "output_type": "execute_result",
          "data": {
            "text/plain": [
              "array(['AMARAJABAT', 'APOLLOTYRE', 'BAJAJFINSV', 'BERGEPAINT',\n",
              "       'COALINDIA', 'COLPAL', 'DABUR', 'DRREDDY', 'FINPIPE', 'HDFCBANK',\n",
              "       'HINDPETRO', 'INFY', 'KOTAKBANK', 'M&M', 'MARUTI', 'MINDTREE',\n",
              "       'RELIANCE', 'SAIL', 'TATASTEEL', 'TCS', 'TITAN', 'ULTRACEMCO',\n",
              "       'VOLTAS', 'WIPRO', 'SUNPHARMA'], dtype=object)"
            ]
          },
          "metadata": {},
          "execution_count": 24
        }
      ]
    },
    {
      "cell_type": "markdown",
      "source": [
        "###Random Forest Regression"
      ],
      "metadata": {
        "id": "qwKNFE-vKcry"
      }
    },
    {
      "cell_type": "code",
      "source": [
        "df=df_merged.loc[(df_merged[\"Symbol\"] == \"TCS\")]\n",
        "df.head(3)"
      ],
      "metadata": {
        "id": "txqoriUiKex6",
        "colab": {
          "base_uri": "https://localhost:8080/",
          "height": 143
        },
        "outputId": "33a55b2d-ec54-4eab-b1d6-85d422902a85"
      },
      "execution_count": null,
      "outputs": [
        {
          "output_type": "execute_result",
          "data": {
            "text/plain": [
              "      Symbol       Date       Open       High        Low      Close  \\\n",
              "92200    TCS 2002-08-12  38.724998  40.000000  38.724998  39.700001   \n",
              "92201    TCS 2002-08-13  39.750000  40.387501  38.875000  39.162498   \n",
              "92202    TCS 2002-08-14  39.250000  39.250000  35.724998  36.462502   \n",
              "\n",
              "       Adj Close    Volume  \n",
              "92200  29.410915  212976.0  \n",
              "92201  29.012718  153576.0  \n",
              "92202  27.012482  822776.0  "
            ],
            "text/html": [
              "\n",
              "  <div id=\"df-1dfce1d8-5a31-457c-8bda-03a951f21608\">\n",
              "    <div class=\"colab-df-container\">\n",
              "      <div>\n",
              "<style scoped>\n",
              "    .dataframe tbody tr th:only-of-type {\n",
              "        vertical-align: middle;\n",
              "    }\n",
              "\n",
              "    .dataframe tbody tr th {\n",
              "        vertical-align: top;\n",
              "    }\n",
              "\n",
              "    .dataframe thead th {\n",
              "        text-align: right;\n",
              "    }\n",
              "</style>\n",
              "<table border=\"1\" class=\"dataframe\">\n",
              "  <thead>\n",
              "    <tr style=\"text-align: right;\">\n",
              "      <th></th>\n",
              "      <th>Symbol</th>\n",
              "      <th>Date</th>\n",
              "      <th>Open</th>\n",
              "      <th>High</th>\n",
              "      <th>Low</th>\n",
              "      <th>Close</th>\n",
              "      <th>Adj Close</th>\n",
              "      <th>Volume</th>\n",
              "    </tr>\n",
              "  </thead>\n",
              "  <tbody>\n",
              "    <tr>\n",
              "      <th>92200</th>\n",
              "      <td>TCS</td>\n",
              "      <td>2002-08-12</td>\n",
              "      <td>38.724998</td>\n",
              "      <td>40.000000</td>\n",
              "      <td>38.724998</td>\n",
              "      <td>39.700001</td>\n",
              "      <td>29.410915</td>\n",
              "      <td>212976.0</td>\n",
              "    </tr>\n",
              "    <tr>\n",
              "      <th>92201</th>\n",
              "      <td>TCS</td>\n",
              "      <td>2002-08-13</td>\n",
              "      <td>39.750000</td>\n",
              "      <td>40.387501</td>\n",
              "      <td>38.875000</td>\n",
              "      <td>39.162498</td>\n",
              "      <td>29.012718</td>\n",
              "      <td>153576.0</td>\n",
              "    </tr>\n",
              "    <tr>\n",
              "      <th>92202</th>\n",
              "      <td>TCS</td>\n",
              "      <td>2002-08-14</td>\n",
              "      <td>39.250000</td>\n",
              "      <td>39.250000</td>\n",
              "      <td>35.724998</td>\n",
              "      <td>36.462502</td>\n",
              "      <td>27.012482</td>\n",
              "      <td>822776.0</td>\n",
              "    </tr>\n",
              "  </tbody>\n",
              "</table>\n",
              "</div>\n",
              "      <button class=\"colab-df-convert\" onclick=\"convertToInteractive('df-1dfce1d8-5a31-457c-8bda-03a951f21608')\"\n",
              "              title=\"Convert this dataframe to an interactive table.\"\n",
              "              style=\"display:none;\">\n",
              "        \n",
              "  <svg xmlns=\"http://www.w3.org/2000/svg\" height=\"24px\"viewBox=\"0 0 24 24\"\n",
              "       width=\"24px\">\n",
              "    <path d=\"M0 0h24v24H0V0z\" fill=\"none\"/>\n",
              "    <path d=\"M18.56 5.44l.94 2.06.94-2.06 2.06-.94-2.06-.94-.94-2.06-.94 2.06-2.06.94zm-11 1L8.5 8.5l.94-2.06 2.06-.94-2.06-.94L8.5 2.5l-.94 2.06-2.06.94zm10 10l.94 2.06.94-2.06 2.06-.94-2.06-.94-.94-2.06-.94 2.06-2.06.94z\"/><path d=\"M17.41 7.96l-1.37-1.37c-.4-.4-.92-.59-1.43-.59-.52 0-1.04.2-1.43.59L10.3 9.45l-7.72 7.72c-.78.78-.78 2.05 0 2.83L4 21.41c.39.39.9.59 1.41.59.51 0 1.02-.2 1.41-.59l7.78-7.78 2.81-2.81c.8-.78.8-2.07 0-2.86zM5.41 20L4 18.59l7.72-7.72 1.47 1.35L5.41 20z\"/>\n",
              "  </svg>\n",
              "      </button>\n",
              "      \n",
              "  <style>\n",
              "    .colab-df-container {\n",
              "      display:flex;\n",
              "      flex-wrap:wrap;\n",
              "      gap: 12px;\n",
              "    }\n",
              "\n",
              "    .colab-df-convert {\n",
              "      background-color: #E8F0FE;\n",
              "      border: none;\n",
              "      border-radius: 50%;\n",
              "      cursor: pointer;\n",
              "      display: none;\n",
              "      fill: #1967D2;\n",
              "      height: 32px;\n",
              "      padding: 0 0 0 0;\n",
              "      width: 32px;\n",
              "    }\n",
              "\n",
              "    .colab-df-convert:hover {\n",
              "      background-color: #E2EBFA;\n",
              "      box-shadow: 0px 1px 2px rgba(60, 64, 67, 0.3), 0px 1px 3px 1px rgba(60, 64, 67, 0.15);\n",
              "      fill: #174EA6;\n",
              "    }\n",
              "\n",
              "    [theme=dark] .colab-df-convert {\n",
              "      background-color: #3B4455;\n",
              "      fill: #D2E3FC;\n",
              "    }\n",
              "\n",
              "    [theme=dark] .colab-df-convert:hover {\n",
              "      background-color: #434B5C;\n",
              "      box-shadow: 0px 1px 3px 1px rgba(0, 0, 0, 0.15);\n",
              "      filter: drop-shadow(0px 1px 2px rgba(0, 0, 0, 0.3));\n",
              "      fill: #FFFFFF;\n",
              "    }\n",
              "  </style>\n",
              "\n",
              "      <script>\n",
              "        const buttonEl =\n",
              "          document.querySelector('#df-1dfce1d8-5a31-457c-8bda-03a951f21608 button.colab-df-convert');\n",
              "        buttonEl.style.display =\n",
              "          google.colab.kernel.accessAllowed ? 'block' : 'none';\n",
              "\n",
              "        async function convertToInteractive(key) {\n",
              "          const element = document.querySelector('#df-1dfce1d8-5a31-457c-8bda-03a951f21608');\n",
              "          const dataTable =\n",
              "            await google.colab.kernel.invokeFunction('convertToInteractive',\n",
              "                                                     [key], {});\n",
              "          if (!dataTable) return;\n",
              "\n",
              "          const docLinkHtml = 'Like what you see? Visit the ' +\n",
              "            '<a target=\"_blank\" href=https://colab.research.google.com/notebooks/data_table.ipynb>data table notebook</a>'\n",
              "            + ' to learn more about interactive tables.';\n",
              "          element.innerHTML = '';\n",
              "          dataTable['output_type'] = 'display_data';\n",
              "          await google.colab.output.renderOutput(dataTable, element);\n",
              "          const docLink = document.createElement('div');\n",
              "          docLink.innerHTML = docLinkHtml;\n",
              "          element.appendChild(docLink);\n",
              "        }\n",
              "      </script>\n",
              "    </div>\n",
              "  </div>\n",
              "  "
            ]
          },
          "metadata": {},
          "execution_count": 136
        }
      ]
    },
    {
      "cell_type": "code",
      "source": [
        "pip install pandas_ta"
      ],
      "metadata": {
        "colab": {
          "base_uri": "https://localhost:8080/"
        },
        "id": "qBNSIjE_LUti",
        "outputId": "897475e3-4968-437d-c0f7-a42cf11f5457"
      },
      "execution_count": null,
      "outputs": [
        {
          "output_type": "stream",
          "name": "stdout",
          "text": [
            "Collecting pandas_ta\n",
            "  Downloading pandas_ta-0.3.14b.tar.gz (115 kB)\n",
            "\u001b[?25l\r\u001b[K     |██▉                             | 10 kB 22.5 MB/s eta 0:00:01\r\u001b[K     |█████▊                          | 20 kB 16.3 MB/s eta 0:00:01\r\u001b[K     |████████▌                       | 30 kB 11.2 MB/s eta 0:00:01\r\u001b[K     |███████████▍                    | 40 kB 9.4 MB/s eta 0:00:01\r\u001b[K     |██████████████▎                 | 51 kB 4.7 MB/s eta 0:00:01\r\u001b[K     |█████████████████               | 61 kB 5.5 MB/s eta 0:00:01\r\u001b[K     |████████████████████            | 71 kB 5.6 MB/s eta 0:00:01\r\u001b[K     |██████████████████████▊         | 81 kB 5.6 MB/s eta 0:00:01\r\u001b[K     |█████████████████████████▋      | 92 kB 6.2 MB/s eta 0:00:01\r\u001b[K     |████████████████████████████▌   | 102 kB 5.3 MB/s eta 0:00:01\r\u001b[K     |███████████████████████████████▎| 112 kB 5.3 MB/s eta 0:00:01\r\u001b[K     |████████████████████████████████| 115 kB 5.3 MB/s \n",
            "\u001b[?25hRequirement already satisfied: pandas in /usr/local/lib/python3.7/dist-packages (from pandas_ta) (1.3.5)\n",
            "Requirement already satisfied: python-dateutil>=2.7.3 in /usr/local/lib/python3.7/dist-packages (from pandas->pandas_ta) (2.8.2)\n",
            "Requirement already satisfied: numpy>=1.17.3 in /usr/local/lib/python3.7/dist-packages (from pandas->pandas_ta) (1.21.5)\n",
            "Requirement already satisfied: pytz>=2017.3 in /usr/local/lib/python3.7/dist-packages (from pandas->pandas_ta) (2018.9)\n",
            "Requirement already satisfied: six>=1.5 in /usr/local/lib/python3.7/dist-packages (from python-dateutil>=2.7.3->pandas->pandas_ta) (1.15.0)\n",
            "Building wheels for collected packages: pandas-ta\n",
            "  Building wheel for pandas-ta (setup.py) ... \u001b[?25l\u001b[?25hdone\n",
            "  Created wheel for pandas-ta: filename=pandas_ta-0.3.14b0-py3-none-any.whl size=218923 sha256=2f6060c6849f0dd84f56ccc1f1499252664dddabeca8ceb10757cc02d1c986fb\n",
            "  Stored in directory: /root/.cache/pip/wheels/0b/81/f0/cca85757840e4616a2c6b9fe12569d97d324c27cac60724c58\n",
            "Successfully built pandas-ta\n",
            "Installing collected packages: pandas-ta\n",
            "Successfully installed pandas-ta-0.3.14b0\n"
          ]
        }
      ]
    },
    {
      "cell_type": "code",
      "source": [
        "import pandas_ta \n"
      ],
      "metadata": {
        "id": "hkkv3eHALryS"
      },
      "execution_count": null,
      "outputs": []
    },
    {
      "cell_type": "code",
      "source": [
        "#Install talib-binary library for adding technical indicators on data\n",
        "!pip install talib-binary"
      ],
      "metadata": {
        "colab": {
          "base_uri": "https://localhost:8080/"
        },
        "id": "k2tPX1AfMC0I",
        "outputId": "5ad85916-2e20-4726-8887-feef2b987e64"
      },
      "execution_count": null,
      "outputs": [
        {
          "output_type": "stream",
          "name": "stdout",
          "text": [
            "Collecting talib-binary\n",
            "  Downloading talib_binary-0.4.19-cp37-cp37m-manylinux1_x86_64.whl (2.4 MB)\n",
            "\u001b[K     |████████████████████████████████| 2.4 MB 5.2 MB/s \n",
            "\u001b[?25hRequirement already satisfied: numpy in /usr/local/lib/python3.7/dist-packages (from talib-binary) (1.21.5)\n",
            "Installing collected packages: talib-binary\n",
            "Successfully installed talib-binary-0.4.19\n"
          ]
        }
      ]
    },
    {
      "cell_type": "code",
      "source": [
        "import talib as tb"
      ],
      "metadata": {
        "id": "g7vUhzNVMIJ6"
      },
      "execution_count": null,
      "outputs": []
    },
    {
      "cell_type": "code",
      "source": [
        "#Calculate moving average(MA) and relative strength index (RSI) for 14,30,50 and 200 days.\n",
        "feature_names = []\n",
        "for n in [14, 30, 50, 200]:\n",
        "    df['ma' + str(n)] = tb.SMA(df['Adj Close'].values, timeperiod=n)\n",
        "    df['rsi' + str(n)] = tb.RSI(df['Adj Close'].values, timeperiod=n)\n",
        "\n",
        "    feature_names = feature_names + ['ma' + str(n), 'rsi' + str(n)]"
      ],
      "metadata": {
        "id": "l6q65JmTLN1U"
      },
      "execution_count": null,
      "outputs": []
    },
    {
      "cell_type": "code",
      "source": [
        "#calculate volume percentage change.\n",
        "df['Volume_1d_change'] = df['Volume'].pct_change()\n",
        "\n",
        "volume_features = ['Volume_1d_change']\n",
        "feature_names.extend(volume_features)"
      ],
      "metadata": {
        "id": "bV7xRk8JMoFf"
      },
      "execution_count": null,
      "outputs": []
    },
    {
      "cell_type": "code",
      "source": [
        "#calculate 5 days close future prediction\n",
        "df['5d_future_close'] = df['Adj Close'].shift(-5)\n",
        "df['5d_close_future_pct'] = df['5d_future_close'].pct_change(5)"
      ],
      "metadata": {
        "id": "QVR43rgBMviP"
      },
      "execution_count": null,
      "outputs": []
    },
    {
      "cell_type": "code",
      "source": [
        "df.tail(3)"
      ],
      "metadata": {
        "colab": {
          "base_uri": "https://localhost:8080/",
          "height": 260
        },
        "id": "2fUjv0xFU0HC",
        "outputId": "bbfcf0b7-dd13-4328-9e01-4264cc1fa4fc"
      },
      "execution_count": null,
      "outputs": [
        {
          "output_type": "execute_result",
          "data": {
            "text/plain": [
              "      Symbol       Date         Open         High          Low        Close  \\\n",
              "97023    TCS 2021-12-28  3710.000000  3725.000000  3693.850098  3706.550049   \n",
              "97024    TCS 2021-12-29  3692.250000  3719.949951  3685.000000  3694.699951   \n",
              "97025    TCS 2021-12-30  3681.350098  3740.000000  3680.000000  3733.750000   \n",
              "\n",
              "         Adj Close     Volume         ma14      rsi14         ma30      rsi30  \\\n",
              "97023  3700.048340  1456218.0  3617.963989  64.320414  3566.842375  57.013557   \n",
              "97024  3688.218994  1456923.0  3624.591622  62.266441  3571.444287  56.247509   \n",
              "97025  3727.200684  1966475.0  3631.504482  66.107367  3578.493571  58.163767   \n",
              "\n",
              "              ma50      rsi50        ma200     rsi200  Volume_1d_change  \\\n",
              "97023  3542.201675  55.368705  3382.169968  55.343667         -0.050789   \n",
              "97024  3543.151006  54.938237  3385.736805  55.236355          0.000484   \n",
              "97025  3545.139517  56.086261  3389.280901  55.521983          0.349745   \n",
              "\n",
              "       5d_future_close  5d_close_future_pct  \n",
              "97023              NaN             0.007338  \n",
              "97024              NaN             0.010569  \n",
              "97025              NaN             0.000000  "
            ],
            "text/html": [
              "\n",
              "  <div id=\"df-ccfd8a4b-9807-4f49-8852-a905e9997cab\">\n",
              "    <div class=\"colab-df-container\">\n",
              "      <div>\n",
              "<style scoped>\n",
              "    .dataframe tbody tr th:only-of-type {\n",
              "        vertical-align: middle;\n",
              "    }\n",
              "\n",
              "    .dataframe tbody tr th {\n",
              "        vertical-align: top;\n",
              "    }\n",
              "\n",
              "    .dataframe thead th {\n",
              "        text-align: right;\n",
              "    }\n",
              "</style>\n",
              "<table border=\"1\" class=\"dataframe\">\n",
              "  <thead>\n",
              "    <tr style=\"text-align: right;\">\n",
              "      <th></th>\n",
              "      <th>Symbol</th>\n",
              "      <th>Date</th>\n",
              "      <th>Open</th>\n",
              "      <th>High</th>\n",
              "      <th>Low</th>\n",
              "      <th>Close</th>\n",
              "      <th>Adj Close</th>\n",
              "      <th>Volume</th>\n",
              "      <th>ma14</th>\n",
              "      <th>rsi14</th>\n",
              "      <th>ma30</th>\n",
              "      <th>rsi30</th>\n",
              "      <th>ma50</th>\n",
              "      <th>rsi50</th>\n",
              "      <th>ma200</th>\n",
              "      <th>rsi200</th>\n",
              "      <th>Volume_1d_change</th>\n",
              "      <th>5d_future_close</th>\n",
              "      <th>5d_close_future_pct</th>\n",
              "    </tr>\n",
              "  </thead>\n",
              "  <tbody>\n",
              "    <tr>\n",
              "      <th>97023</th>\n",
              "      <td>TCS</td>\n",
              "      <td>2021-12-28</td>\n",
              "      <td>3710.000000</td>\n",
              "      <td>3725.000000</td>\n",
              "      <td>3693.850098</td>\n",
              "      <td>3706.550049</td>\n",
              "      <td>3700.048340</td>\n",
              "      <td>1456218.0</td>\n",
              "      <td>3617.963989</td>\n",
              "      <td>64.320414</td>\n",
              "      <td>3566.842375</td>\n",
              "      <td>57.013557</td>\n",
              "      <td>3542.201675</td>\n",
              "      <td>55.368705</td>\n",
              "      <td>3382.169968</td>\n",
              "      <td>55.343667</td>\n",
              "      <td>-0.050789</td>\n",
              "      <td>NaN</td>\n",
              "      <td>0.007338</td>\n",
              "    </tr>\n",
              "    <tr>\n",
              "      <th>97024</th>\n",
              "      <td>TCS</td>\n",
              "      <td>2021-12-29</td>\n",
              "      <td>3692.250000</td>\n",
              "      <td>3719.949951</td>\n",
              "      <td>3685.000000</td>\n",
              "      <td>3694.699951</td>\n",
              "      <td>3688.218994</td>\n",
              "      <td>1456923.0</td>\n",
              "      <td>3624.591622</td>\n",
              "      <td>62.266441</td>\n",
              "      <td>3571.444287</td>\n",
              "      <td>56.247509</td>\n",
              "      <td>3543.151006</td>\n",
              "      <td>54.938237</td>\n",
              "      <td>3385.736805</td>\n",
              "      <td>55.236355</td>\n",
              "      <td>0.000484</td>\n",
              "      <td>NaN</td>\n",
              "      <td>0.010569</td>\n",
              "    </tr>\n",
              "    <tr>\n",
              "      <th>97025</th>\n",
              "      <td>TCS</td>\n",
              "      <td>2021-12-30</td>\n",
              "      <td>3681.350098</td>\n",
              "      <td>3740.000000</td>\n",
              "      <td>3680.000000</td>\n",
              "      <td>3733.750000</td>\n",
              "      <td>3727.200684</td>\n",
              "      <td>1966475.0</td>\n",
              "      <td>3631.504482</td>\n",
              "      <td>66.107367</td>\n",
              "      <td>3578.493571</td>\n",
              "      <td>58.163767</td>\n",
              "      <td>3545.139517</td>\n",
              "      <td>56.086261</td>\n",
              "      <td>3389.280901</td>\n",
              "      <td>55.521983</td>\n",
              "      <td>0.349745</td>\n",
              "      <td>NaN</td>\n",
              "      <td>0.000000</td>\n",
              "    </tr>\n",
              "  </tbody>\n",
              "</table>\n",
              "</div>\n",
              "      <button class=\"colab-df-convert\" onclick=\"convertToInteractive('df-ccfd8a4b-9807-4f49-8852-a905e9997cab')\"\n",
              "              title=\"Convert this dataframe to an interactive table.\"\n",
              "              style=\"display:none;\">\n",
              "        \n",
              "  <svg xmlns=\"http://www.w3.org/2000/svg\" height=\"24px\"viewBox=\"0 0 24 24\"\n",
              "       width=\"24px\">\n",
              "    <path d=\"M0 0h24v24H0V0z\" fill=\"none\"/>\n",
              "    <path d=\"M18.56 5.44l.94 2.06.94-2.06 2.06-.94-2.06-.94-.94-2.06-.94 2.06-2.06.94zm-11 1L8.5 8.5l.94-2.06 2.06-.94-2.06-.94L8.5 2.5l-.94 2.06-2.06.94zm10 10l.94 2.06.94-2.06 2.06-.94-2.06-.94-.94-2.06-.94 2.06-2.06.94z\"/><path d=\"M17.41 7.96l-1.37-1.37c-.4-.4-.92-.59-1.43-.59-.52 0-1.04.2-1.43.59L10.3 9.45l-7.72 7.72c-.78.78-.78 2.05 0 2.83L4 21.41c.39.39.9.59 1.41.59.51 0 1.02-.2 1.41-.59l7.78-7.78 2.81-2.81c.8-.78.8-2.07 0-2.86zM5.41 20L4 18.59l7.72-7.72 1.47 1.35L5.41 20z\"/>\n",
              "  </svg>\n",
              "      </button>\n",
              "      \n",
              "  <style>\n",
              "    .colab-df-container {\n",
              "      display:flex;\n",
              "      flex-wrap:wrap;\n",
              "      gap: 12px;\n",
              "    }\n",
              "\n",
              "    .colab-df-convert {\n",
              "      background-color: #E8F0FE;\n",
              "      border: none;\n",
              "      border-radius: 50%;\n",
              "      cursor: pointer;\n",
              "      display: none;\n",
              "      fill: #1967D2;\n",
              "      height: 32px;\n",
              "      padding: 0 0 0 0;\n",
              "      width: 32px;\n",
              "    }\n",
              "\n",
              "    .colab-df-convert:hover {\n",
              "      background-color: #E2EBFA;\n",
              "      box-shadow: 0px 1px 2px rgba(60, 64, 67, 0.3), 0px 1px 3px 1px rgba(60, 64, 67, 0.15);\n",
              "      fill: #174EA6;\n",
              "    }\n",
              "\n",
              "    [theme=dark] .colab-df-convert {\n",
              "      background-color: #3B4455;\n",
              "      fill: #D2E3FC;\n",
              "    }\n",
              "\n",
              "    [theme=dark] .colab-df-convert:hover {\n",
              "      background-color: #434B5C;\n",
              "      box-shadow: 0px 1px 3px 1px rgba(0, 0, 0, 0.15);\n",
              "      filter: drop-shadow(0px 1px 2px rgba(0, 0, 0, 0.3));\n",
              "      fill: #FFFFFF;\n",
              "    }\n",
              "  </style>\n",
              "\n",
              "      <script>\n",
              "        const buttonEl =\n",
              "          document.querySelector('#df-ccfd8a4b-9807-4f49-8852-a905e9997cab button.colab-df-convert');\n",
              "        buttonEl.style.display =\n",
              "          google.colab.kernel.accessAllowed ? 'block' : 'none';\n",
              "\n",
              "        async function convertToInteractive(key) {\n",
              "          const element = document.querySelector('#df-ccfd8a4b-9807-4f49-8852-a905e9997cab');\n",
              "          const dataTable =\n",
              "            await google.colab.kernel.invokeFunction('convertToInteractive',\n",
              "                                                     [key], {});\n",
              "          if (!dataTable) return;\n",
              "\n",
              "          const docLinkHtml = 'Like what you see? Visit the ' +\n",
              "            '<a target=\"_blank\" href=https://colab.research.google.com/notebooks/data_table.ipynb>data table notebook</a>'\n",
              "            + ' to learn more about interactive tables.';\n",
              "          element.innerHTML = '';\n",
              "          dataTable['output_type'] = 'display_data';\n",
              "          await google.colab.output.renderOutput(dataTable, element);\n",
              "          const docLink = document.createElement('div');\n",
              "          docLink.innerHTML = docLinkHtml;\n",
              "          element.appendChild(docLink);\n",
              "        }\n",
              "      </script>\n",
              "    </div>\n",
              "  </div>\n",
              "  "
            ]
          },
          "metadata": {},
          "execution_count": 66
        }
      ]
    },
    {
      "cell_type": "code",
      "source": [
        "from sklearn.preprocessing import MinMaxScaler"
      ],
      "metadata": {
        "id": "BO3inMFfc9v3"
      },
      "execution_count": null,
      "outputs": []
    },
    {
      "cell_type": "code",
      "source": [
        "#Train test split\n",
        "df.dropna(inplace=True)\n",
        "\n",
        "X = df[feature_names]\n",
        "y = df['5d_close_future_pct']\n",
        "scale=MinMaxScaler()\n",
        "X=scale.fit_transform(X)\n",
        "train_size = int(0.85 * y.shape[0])\n",
        "X_train = X[:train_size]\n",
        "y_train = y[:train_size]\n",
        "X_test = X[train_size:]\n",
        "y_test = y[train_size:]"
      ],
      "metadata": {
        "id": "K-UZo09rNn5k"
      },
      "execution_count": null,
      "outputs": []
    },
    {
      "cell_type": "code",
      "source": [
        "X_train"
      ],
      "metadata": {
        "colab": {
          "base_uri": "https://localhost:8080/"
        },
        "id": "CL6sQ8zvcfE3",
        "outputId": "ea2a24c1-a837-45eb-d24d-708934136a27"
      },
      "execution_count": null,
      "outputs": [
        {
          "output_type": "execute_result",
          "data": {
            "text/plain": [
              "array([[0.00000000e+00, 4.58113003e-01, 0.00000000e+00, ...,\n",
              "        0.00000000e+00, 6.56495862e-01, 1.20995149e-03],\n",
              "       [1.85777651e-05, 4.96928804e-01, 5.33121139e-05, ...,\n",
              "        5.35239144e-05, 6.67026403e-01, 2.55269554e-03],\n",
              "       [7.51892600e-05, 5.20647396e-01, 1.07530832e-04, ...,\n",
              "        1.11203559e-04, 6.73535783e-01, 7.29852217e-03],\n",
              "       ...,\n",
              "       [5.24493970e-01, 4.65084648e-01, 5.12451099e-01, ...,\n",
              "        5.51071002e-01, 5.65041013e-01, 2.80216739e-03],\n",
              "       [5.23264443e-01, 3.90447439e-01, 5.13368768e-01, ...,\n",
              "        5.51245417e-01, 5.38130525e-01, 4.86393349e-03],\n",
              "       [5.22203054e-01, 3.97630485e-01, 5.14435338e-01, ...,\n",
              "        5.51412778e-01, 5.40056825e-01, 3.21247883e-03]])"
            ]
          },
          "metadata": {},
          "execution_count": 89
        }
      ]
    },
    {
      "cell_type": "code",
      "source": [
        "#Model creation and evaluation\n",
        "from sklearn.ensemble import RandomForestRegressor\n",
        "rf_model = RandomForestRegressor(n_estimators=500, random_state=42)\n",
        "rf_model.fit(X_train, y_train)\n",
        "\n",
        "y_pred = rf_model.predict(X_test)\n",
        "\n",
        "y_pred = pd.Series(y_pred, index=y_test.index)\n",
        "y_pred.plot()\n",
        "plt.ylabel(\"Predicted 5 Day Close Price Change Percent\")\n",
        "plt.show()"
      ],
      "metadata": {
        "colab": {
          "base_uri": "https://localhost:8080/",
          "height": 266
        },
        "id": "2Fvn15HoNvbK",
        "outputId": "13e75199-b006-4c14-a222-c958359b36b9"
      },
      "execution_count": null,
      "outputs": [
        {
          "output_type": "display_data",
          "data": {
            "text/plain": [
              "<Figure size 432x288 with 1 Axes>"
            ],
            "image/png": "[encoded data removed]"
          },
          "metadata": {
            "needs_background": "light"
          }
        }
      ]
    },
    {
      "cell_type": "code",
      "source": [
        "print('Mean Absolute Error:', mean_absolute_error(y_test, y_pred))\n",
        "print('Mean Squared Error:',mean_squared_error(y_test, y_pred))\n",
        "print('Root Mean Squared Error:', np.sqrt(mean_squared_error(y_test, y_pred)))\n",
        "print(\"(R^2) Score:\", round(r2_score(y_test, y_pred), 4))"
      ],
      "metadata": {
        "colab": {
          "base_uri": "https://localhost:8080/"
        },
        "id": "8YUadsqpOmFb",
        "outputId": "83dd1fae-bbc7-4a7d-cb65-1c6e49529555"
      },
      "execution_count": null,
      "outputs": [
        {
          "output_type": "stream",
          "name": "stdout",
          "text": [
            "Mean Absolute Error: 0.029750672083437117\n",
            "Mean Squared Error: 0.00156960489044258\n",
            "Root Mean Squared Error: 0.03961823936575905\n",
            "(R^2) Score: -0.2383\n"
          ]
        }
      ]
    },
    {
      "cell_type": "code",
      "source": [
        "y_test"
      ],
      "metadata": {
        "colab": {
          "base_uri": "https://localhost:8080/"
        },
        "id": "IJIAZ0YJg_pJ",
        "outputId": "acc4915e-80c1-4156-83f4-9ef0d4411226"
      },
      "execution_count": null,
      "outputs": [
        {
          "output_type": "execute_result",
          "data": {
            "text/plain": [
              "96374   -0.025939\n",
              "96375   -0.022644\n",
              "96376   -0.041419\n",
              "96377   -0.017064\n",
              "96378    0.012393\n",
              "           ...   \n",
              "97016    0.024147\n",
              "97017    0.039135\n",
              "97018    0.027229\n",
              "97019    0.017613\n",
              "97020    0.019398\n",
              "Name: 5d_close_future_pct, Length: 645, dtype: float64"
            ]
          },
          "metadata": {},
          "execution_count": 101
        }
      ]
    },
    {
      "cell_type": "code",
      "source": [
        "y_pred"
      ],
      "metadata": {
        "colab": {
          "base_uri": "https://localhost:8080/"
        },
        "id": "UkxO2lSihDKk",
        "outputId": "7299a386-e059-4d0e-cca7-40c29427305a"
      },
      "execution_count": null,
      "outputs": [
        {
          "output_type": "execute_result",
          "data": {
            "text/plain": [
              "96374   -0.002542\n",
              "96375   -0.002435\n",
              "96376   -0.002433\n",
              "96377   -0.003214\n",
              "96378   -0.003418\n",
              "           ...   \n",
              "97016   -0.002606\n",
              "97017   -0.002542\n",
              "97018   -0.002743\n",
              "97019   -0.003403\n",
              "97020   -0.003669\n",
              "Length: 645, dtype: float64"
            ]
          },
          "metadata": {},
          "execution_count": 102
        }
      ]
    },
    {
      "cell_type": "code",
      "source": [
        "#Percentage close price change for next 5 days for all companies using random forest regression\n",
        "company_list=df_merged.Symbol.unique()\n",
        "for company in company_list:\n",
        "    df=df_merged.loc[(df_merged[\"Symbol\"] == company)]\n",
        "    #Add more features in data using ta_lib \n",
        "    feature_names = []\n",
        "    for n in [14, 30, 50, 200]:\n",
        "      df['ma' + str(n)] = tb.SMA(df['Adj Close'].values, timeperiod=n)\n",
        "      df['rsi' + str(n)] = tb.RSI(df['Adj Close'].values, timeperiod=n)\n",
        "\n",
        "      feature_names = feature_names + ['ma' + str(n), 'rsi' + str(n)]\n",
        "      df['Volume_1d_change'] = df['Volume'].pct_change()\n",
        "\n",
        "    volume_features = ['Volume_1d_change']\n",
        "    feature_names.extend(volume_features)\n",
        "    df['5d_future_close'] = df['Adj Close'].shift(-5)\n",
        "    df['5d_close_future_pct'] = df['5d_future_close'].pct_change(5)\n",
        "    df.dropna(inplace=True)\n",
        "\n",
        "    #Independent Variables - ma,rsi,volume change etc. \n",
        "    #Dependent Variable - future 5 days close price change percentage\n",
        "    X = df[feature_names]\n",
        "    y = df['5d_close_future_pct']\n",
        "\n",
        "    #Scale the independent variables\n",
        "    scale=MinMaxScaler()\n",
        "    X=scale.fit_transform(X)\n",
        "\n",
        "    #Train test split\n",
        "    train_size = int(0.85 * y.shape[0])\n",
        "    X_train = X[:train_size]\n",
        "    y_train = y[:train_size]\n",
        "    X_test = X[train_size:]\n",
        "    y_test = y[train_size:]\n",
        "\n",
        "    #Model creation and prediction\n",
        "    rf_model = RandomForestRegressor(n_estimators=200, random_state=42)\n",
        "    rf_model.fit(X_train, y_train)\n",
        "    y_pred = rf_model.predict(X_test)\n",
        "\n",
        "    #Measure performance \n",
        "    print(company)\n",
        "    print('Mean Absolute Error:', mean_absolute_error(y_test, y_pred))\n",
        "    print('Mean Squared Error:',mean_squared_error(y_test, y_pred))\n",
        "    print('Root Mean Squared Error:', np.sqrt(mean_squared_error(y_test, y_pred)))\n",
        "    print(\"(R^2) Score:\", round(r2_score(y_test, y_pred), 4))\n",
        "    print()\n",
        "\n",
        "    \n"
      ],
      "metadata": {
        "colab": {
          "base_uri": "https://localhost:8080/"
        },
        "id": "9D9j-WQEPaea",
        "outputId": "26e73673-703f-4c44-be6f-228e596eb7bd"
      },
      "execution_count": null,
      "outputs": [
        {
          "output_type": "stream",
          "name": "stdout",
          "text": [
            "AMARAJABAT\n",
            "Mean Absolute Error: 0.04357136592682486\n",
            "Mean Squared Error: 0.003668642042294257\n",
            "Root Mean Squared Error: 0.060569316013095745\n",
            "(R^2) Score: -0.5611\n",
            "\n",
            "APOLLOTYRE\n",
            "Mean Absolute Error: 0.04609883852712773\n",
            "Mean Squared Error: 0.004049772012403644\n",
            "Root Mean Squared Error: 0.06363781904185313\n",
            "(R^2) Score: -0.0857\n",
            "\n",
            "BAJAJFINSV\n",
            "Mean Absolute Error: 0.07095895176051051\n",
            "Mean Squared Error: 0.008198126995697818\n",
            "Root Mean Squared Error: 0.09054350885457123\n",
            "(R^2) Score: -1.1948\n",
            "\n",
            "BERGEPAINT\n",
            "Mean Absolute Error: 0.05546258528934753\n",
            "Mean Squared Error: 0.004376907036605199\n",
            "Root Mean Squared Error: 0.0661581970477219\n",
            "(R^2) Score: -1.3751\n",
            "\n",
            "COALINDIA\n",
            "Mean Absolute Error: 0.051690709970625526\n",
            "Mean Squared Error: 0.004203530558400354\n",
            "Root Mean Squared Error: 0.0648346401115974\n",
            "(R^2) Score: -0.826\n",
            "\n",
            "COLPAL\n",
            "Mean Absolute Error: 0.02895449603811441\n",
            "Mean Squared Error: 0.0014559116583368573\n",
            "Root Mean Squared Error: 0.03815641044879428\n",
            "(R^2) Score: -0.176\n",
            "\n",
            "DABUR\n",
            "Mean Absolute Error: 0.03143308849950902\n",
            "Mean Squared Error: 0.001578923211764157\n",
            "Root Mean Squared Error: 0.03973566674618858\n",
            "(R^2) Score: -0.4821\n",
            "\n",
            "DRREDDY\n",
            "Mean Absolute Error: 0.09334714390984926\n",
            "Mean Squared Error: 0.014354464105395948\n",
            "Root Mean Squared Error: 0.1198101168741436\n",
            "(R^2) Score: -7.5692\n",
            "\n",
            "FINPIPE\n",
            "Mean Absolute Error: 0.05836333383479413\n",
            "Mean Squared Error: 0.005975906741714632\n",
            "Root Mean Squared Error: 0.07730398917077069\n",
            "(R^2) Score: -0.8683\n",
            "\n",
            "HDFCBANK\n",
            "Mean Absolute Error: 0.03478916532625594\n",
            "Mean Squared Error: 0.0031797256282857004\n",
            "Root Mean Squared Error: 0.0563890559265333\n",
            "(R^2) Score: -0.9804\n",
            "\n",
            "HINDPETRO\n",
            "Mean Absolute Error: 0.043507645399177945\n",
            "Mean Squared Error: 0.003105090030249448\n",
            "Root Mean Squared Error: 0.05572333470144664\n",
            "(R^2) Score: -0.0686\n",
            "\n",
            "INFY\n",
            "Mean Absolute Error: 0.039492154382365724\n",
            "Mean Squared Error: 0.0026414006999550925\n",
            "Root Mean Squared Error: 0.05139455905010853\n",
            "(R^2) Score: -0.5199\n",
            "\n",
            "KOTAKBANK\n",
            "Mean Absolute Error: 0.04140754359699643\n",
            "Mean Squared Error: 0.00319285512963629\n",
            "Root Mean Squared Error: 0.056505354875766335\n",
            "(R^2) Score: -0.4816\n",
            "\n",
            "M&M\n",
            "Mean Absolute Error: 0.04900625140598214\n",
            "Mean Squared Error: 0.0067912159005952075\n",
            "Root Mean Squared Error: 0.08240883387474432\n",
            "(R^2) Score: -1.1884\n",
            "\n",
            "MARUTI\n",
            "Mean Absolute Error: 0.039067981332154396\n",
            "Mean Squared Error: 0.002882875521433628\n",
            "Root Mean Squared Error: 0.05369241586512594\n",
            "(R^2) Score: -0.1759\n",
            "\n",
            "MINDTREE\n",
            "Mean Absolute Error: 0.13692959955868428\n",
            "Mean Squared Error: 0.024499142630651914\n",
            "Root Mean Squared Error: 0.1565220196351041\n",
            "(R^2) Score: -7.224\n",
            "\n",
            "RELIANCE\n",
            "Mean Absolute Error: 0.08571437627037322\n",
            "Mean Squared Error: 0.009471654160873502\n",
            "Root Mean Squared Error: 0.09732242373098555\n",
            "(R^2) Score: -3.2033\n",
            "\n",
            "SAIL\n",
            "Mean Absolute Error: 0.06931745034782841\n",
            "Mean Squared Error: 0.008049084052219069\n",
            "Root Mean Squared Error: 0.08971668770200486\n",
            "(R^2) Score: -0.3012\n",
            "\n",
            "TATASTEEL\n",
            "Mean Absolute Error: 0.06279997033434778\n",
            "Mean Squared Error: 0.0062717539133512286\n",
            "Root Mean Squared Error: 0.07919440582106307\n",
            "(R^2) Score: -0.8034\n",
            "\n",
            "TCS\n",
            "Mean Absolute Error: 0.02988065384080933\n",
            "Mean Squared Error: 0.0015836154044832952\n",
            "Root Mean Squared Error: 0.03979466552797366\n",
            "(R^2) Score: -0.2494\n",
            "\n",
            "TITAN\n",
            "Mean Absolute Error: 0.038579431879098174\n",
            "Mean Squared Error: 0.002604360510100921\n",
            "Root Mean Squared Error: 0.05103293554265638\n",
            "(R^2) Score: -0.1604\n",
            "\n",
            "ULTRACEMCO\n",
            "Mean Absolute Error: 0.04236780323849556\n",
            "Mean Squared Error: 0.002878548010455415\n",
            "Root Mean Squared Error: 0.05365210164061996\n",
            "(R^2) Score: -0.6221\n",
            "\n",
            "VOLTAS\n",
            "Mean Absolute Error: 0.05144639400468531\n",
            "Mean Squared Error: 0.0074969097861828215\n",
            "Root Mean Squared Error: 0.08658469718248613\n",
            "(R^2) Score: -2.5033\n",
            "\n",
            "WIPRO\n",
            "Mean Absolute Error: 0.04677637141216163\n",
            "Mean Squared Error: 0.003799108774626461\n",
            "Root Mean Squared Error: 0.061636910813460316\n",
            "(R^2) Score: -0.9552\n",
            "\n",
            "SUNPHARMA\n",
            "Mean Absolute Error: 0.03809775292371526\n",
            "Mean Squared Error: 0.0025775205486270594\n",
            "Root Mean Squared Error: 0.05076928745439569\n",
            "(R^2) Score: -0.2631\n",
            "\n"
          ]
        }
      ]
    },
    {
      "cell_type": "code",
      "source": [
        ""
      ],
      "metadata": {
        "id": "n_G4x-ErGRce"
      },
      "execution_count": null,
      "outputs": []
    },
    {
      "cell_type": "code",
      "source": [
        "rf_model = RandomForestRegressor(n_estimators=500, max_depth=100, min_samples_split=50,min_samples_leaf= 5, random_state=42)\n",
        "rf_model.fit(X_train, y_train)\n",
        "\n",
        "y_pred = rf_model.predict(X_test)\n",
        "\n",
        "y_pred = pd.Series(y_pred, index=y_test.index)\n",
        "y_pred.plot()\n",
        "plt.ylabel(\"Predicted 5 Day Close Price Change Percent\")\n",
        "plt.show()"
      ],
      "metadata": {
        "colab": {
          "base_uri": "https://localhost:8080/",
          "height": 266
        },
        "id": "hn2R6h5rlxdd",
        "outputId": "aed1130f-1e35-475b-e1ef-e4ea0c8ba297"
      },
      "execution_count": null,
      "outputs": [
        {
          "output_type": "display_data",
          "data": {
            "text/plain": [
              "<Figure size 432x288 with 1 Axes>"
            ],
            "image/png": "[encoded data removed]"
          },
          "metadata": {
            "needs_background": "light"
          }
        }
      ]
    },
    {
      "cell_type": "code",
      "source": [
        "    print('Mean Absolute Error:', mean_absolute_error(y_test, y_pred))\n",
        "    print('Mean Squared Error:',mean_squared_error(y_test, y_pred))\n",
        "    print('Root Mean Squared Error:', np.sqrt(mean_squared_error(y_test, y_pred)))\n",
        "    print(\"(R^2) Score:\", round(r2_score(y_test, y_pred), 4))\n",
        "    print()"
      ],
      "metadata": {
        "colab": {
          "base_uri": "https://localhost:8080/"
        },
        "id": "SyFR6pNsmFpk",
        "outputId": "e79e3581-61b4-4bdd-8c5f-ff07594d7bdd"
      },
      "execution_count": null,
      "outputs": [
        {
          "output_type": "stream",
          "name": "stdout",
          "text": [
            "Mean Absolute Error: 0.035770718695367694\n",
            "Mean Squared Error: 0.0020723725165265575\n",
            "Root Mean Squared Error: 0.045523318382193506\n",
            "(R^2) Score: -0.635\n",
            "\n"
          ]
        }
      ]
    },
    {
      "cell_type": "markdown",
      "source": [
        "###Linear Regression\n"
      ],
      "metadata": {
        "id": "-lziX9GpFWpQ"
      }
    },
    {
      "cell_type": "code",
      "source": [
        "df=df_merged.loc[(df_merged[\"Symbol\"] == \"INFY\")]"
      ],
      "metadata": {
        "id": "AZcsWl_3Xr_l"
      },
      "execution_count": null,
      "outputs": []
    },
    {
      "cell_type": "code",
      "source": [
        "df.drop('Symbol',axis=1,inplace=True)"
      ],
      "metadata": {
        "colab": {
          "base_uri": "https://localhost:8080/"
        },
        "id": "owbHLbYhaSr1",
        "outputId": "5a516803-df49-4a54-ab95-1b26e9e3c593"
      },
      "execution_count": null,
      "outputs": [
        {
          "output_type": "stream",
          "name": "stderr",
          "text": [
            "/usr/local/lib/python3.7/dist-packages/pandas/core/frame.py:4913: SettingWithCopyWarning: \n",
            "A value is trying to be set on a copy of a slice from a DataFrame\n",
            "\n",
            "See the caveats in the documentation: https://pandas.pydata.org/pandas-docs/stable/user_guide/indexing.html#returning-a-view-versus-a-copy\n",
            "  errors=errors,\n"
          ]
        }
      ]
    },
    {
      "cell_type": "code",
      "source": [
        "df.head(10)"
      ],
      "metadata": {
        "colab": {
          "base_uri": "https://localhost:8080/",
          "height": 363
        },
        "id": "_iSXyyiBXztd",
        "outputId": "c8c26a09-c9b1-439b-d39e-ff20fa07baa6"
      },
      "execution_count": null,
      "outputs": [
        {
          "output_type": "execute_result",
          "data": {
            "text/plain": [
              "            Date       Open       High        Low      Close  Adj Close  \\\n",
              "52584 2001-01-01  89.140625  90.623436  86.875000  87.400002  60.825027   \n",
              "52585 2001-01-02  87.515625  89.531250  85.937500  88.763283  61.773792   \n",
              "52586 2001-01-03  87.500000  88.281250  85.682816  87.723434  61.050106   \n",
              "52587 2001-01-04  87.968750  96.718750  87.968750  95.333595  66.346321   \n",
              "52588 2001-01-05  95.296875  99.984375  94.656250  99.709373  69.391579   \n",
              "52589 2001-01-08  98.625000  99.140625  92.671875  93.510155  65.077316   \n",
              "52590 2001-01-09  92.750000  94.921875  91.190628  92.623436  64.460220   \n",
              "52591 2001-01-10  93.751564  94.198441  88.002342  88.532814  61.613392   \n",
              "52592 2001-01-11  88.671875  89.687500  86.296875  86.692970  60.332970   \n",
              "52593 2001-01-12  86.875000  91.406250  86.753906  90.635155  63.076504   \n",
              "\n",
              "           Volume  \n",
              "52584  59981248.0  \n",
              "52585  68767872.0  \n",
              "52586  64125952.0  \n",
              "52587  71192960.0  \n",
              "52588  67941888.0  \n",
              "52589  76229504.0  \n",
              "52590  64873024.0  \n",
              "52591  91550336.0  \n",
              "52592  68442560.0  \n",
              "52593  92083584.0  "
            ],
            "text/html": [
              "\n",
              "  <div id=\"df-8c564b17-6a90-4da5-9dee-f870f7ac0620\">\n",
              "    <div class=\"colab-df-container\">\n",
              "      <div>\n",
              "<style scoped>\n",
              "    .dataframe tbody tr th:only-of-type {\n",
              "        vertical-align: middle;\n",
              "    }\n",
              "\n",
              "    .dataframe tbody tr th {\n",
              "        vertical-align: top;\n",
              "    }\n",
              "\n",
              "    .dataframe thead th {\n",
              "        text-align: right;\n",
              "    }\n",
              "</style>\n",
              "<table border=\"1\" class=\"dataframe\">\n",
              "  <thead>\n",
              "    <tr style=\"text-align: right;\">\n",
              "      <th></th>\n",
              "      <th>Date</th>\n",
              "      <th>Open</th>\n",
              "      <th>High</th>\n",
              "      <th>Low</th>\n",
              "      <th>Close</th>\n",
              "      <th>Adj Close</th>\n",
              "      <th>Volume</th>\n",
              "    </tr>\n",
              "  </thead>\n",
              "  <tbody>\n",
              "    <tr>\n",
              "      <th>52584</th>\n",
              "      <td>2001-01-01</td>\n",
              "      <td>89.140625</td>\n",
              "      <td>90.623436</td>\n",
              "      <td>86.875000</td>\n",
              "      <td>87.400002</td>\n",
              "      <td>60.825027</td>\n",
              "      <td>59981248.0</td>\n",
              "    </tr>\n",
              "    <tr>\n",
              "      <th>52585</th>\n",
              "      <td>2001-01-02</td>\n",
              "      <td>87.515625</td>\n",
              "      <td>89.531250</td>\n",
              "      <td>85.937500</td>\n",
              "      <td>88.763283</td>\n",
              "      <td>61.773792</td>\n",
              "      <td>68767872.0</td>\n",
              "    </tr>\n",
              "    <tr>\n",
              "      <th>52586</th>\n",
              "      <td>2001-01-03</td>\n",
              "      <td>87.500000</td>\n",
              "      <td>88.281250</td>\n",
              "      <td>85.682816</td>\n",
              "      <td>87.723434</td>\n",
              "      <td>61.050106</td>\n",
              "      <td>64125952.0</td>\n",
              "    </tr>\n",
              "    <tr>\n",
              "      <th>52587</th>\n",
              "      <td>2001-01-04</td>\n",
              "      <td>87.968750</td>\n",
              "      <td>96.718750</td>\n",
              "      <td>87.968750</td>\n",
              "      <td>95.333595</td>\n",
              "      <td>66.346321</td>\n",
              "      <td>71192960.0</td>\n",
              "    </tr>\n",
              "    <tr>\n",
              "      <th>52588</th>\n",
              "      <td>2001-01-05</td>\n",
              "      <td>95.296875</td>\n",
              "      <td>99.984375</td>\n",
              "      <td>94.656250</td>\n",
              "      <td>99.709373</td>\n",
              "      <td>69.391579</td>\n",
              "      <td>67941888.0</td>\n",
              "    </tr>\n",
              "    <tr>\n",
              "      <th>52589</th>\n",
              "      <td>2001-01-08</td>\n",
              "      <td>98.625000</td>\n",
              "      <td>99.140625</td>\n",
              "      <td>92.671875</td>\n",
              "      <td>93.510155</td>\n",
              "      <td>65.077316</td>\n",
              "      <td>76229504.0</td>\n",
              "    </tr>\n",
              "    <tr>\n",
              "      <th>52590</th>\n",
              "      <td>2001-01-09</td>\n",
              "      <td>92.750000</td>\n",
              "      <td>94.921875</td>\n",
              "      <td>91.190628</td>\n",
              "      <td>92.623436</td>\n",
              "      <td>64.460220</td>\n",
              "      <td>64873024.0</td>\n",
              "    </tr>\n",
              "    <tr>\n",
              "      <th>52591</th>\n",
              "      <td>2001-01-10</td>\n",
              "      <td>93.751564</td>\n",
              "      <td>94.198441</td>\n",
              "      <td>88.002342</td>\n",
              "      <td>88.532814</td>\n",
              "      <td>61.613392</td>\n",
              "      <td>91550336.0</td>\n",
              "    </tr>\n",
              "    <tr>\n",
              "      <th>52592</th>\n",
              "      <td>2001-01-11</td>\n",
              "      <td>88.671875</td>\n",
              "      <td>89.687500</td>\n",
              "      <td>86.296875</td>\n",
              "      <td>86.692970</td>\n",
              "      <td>60.332970</td>\n",
              "      <td>68442560.0</td>\n",
              "    </tr>\n",
              "    <tr>\n",
              "      <th>52593</th>\n",
              "      <td>2001-01-12</td>\n",
              "      <td>86.875000</td>\n",
              "      <td>91.406250</td>\n",
              "      <td>86.753906</td>\n",
              "      <td>90.635155</td>\n",
              "      <td>63.076504</td>\n",
              "      <td>92083584.0</td>\n",
              "    </tr>\n",
              "  </tbody>\n",
              "</table>\n",
              "</div>\n",
              "      <button class=\"colab-df-convert\" onclick=\"convertToInteractive('df-8c564b17-6a90-4da5-9dee-f870f7ac0620')\"\n",
              "              title=\"Convert this dataframe to an interactive table.\"\n",
              "              style=\"display:none;\">\n",
              "        \n",
              "  <svg xmlns=\"http://www.w3.org/2000/svg\" height=\"24px\"viewBox=\"0 0 24 24\"\n",
              "       width=\"24px\">\n",
              "    <path d=\"M0 0h24v24H0V0z\" fill=\"none\"/>\n",
              "    <path d=\"M18.56 5.44l.94 2.06.94-2.06 2.06-.94-2.06-.94-.94-2.06-.94 2.06-2.06.94zm-11 1L8.5 8.5l.94-2.06 2.06-.94-2.06-.94L8.5 2.5l-.94 2.06-2.06.94zm10 10l.94 2.06.94-2.06 2.06-.94-2.06-.94-.94-2.06-.94 2.06-2.06.94z\"/><path d=\"M17.41 7.96l-1.37-1.37c-.4-.4-.92-.59-1.43-.59-.52 0-1.04.2-1.43.59L10.3 9.45l-7.72 7.72c-.78.78-.78 2.05 0 2.83L4 21.41c.39.39.9.59 1.41.59.51 0 1.02-.2 1.41-.59l7.78-7.78 2.81-2.81c.8-.78.8-2.07 0-2.86zM5.41 20L4 18.59l7.72-7.72 1.47 1.35L5.41 20z\"/>\n",
              "  </svg>\n",
              "      </button>\n",
              "      \n",
              "  <style>\n",
              "    .colab-df-container {\n",
              "      display:flex;\n",
              "      flex-wrap:wrap;\n",
              "      gap: 12px;\n",
              "    }\n",
              "\n",
              "    .colab-df-convert {\n",
              "      background-color: #E8F0FE;\n",
              "      border: none;\n",
              "      border-radius: 50%;\n",
              "      cursor: pointer;\n",
              "      display: none;\n",
              "      fill: #1967D2;\n",
              "      height: 32px;\n",
              "      padding: 0 0 0 0;\n",
              "      width: 32px;\n",
              "    }\n",
              "\n",
              "    .colab-df-convert:hover {\n",
              "      background-color: #E2EBFA;\n",
              "      box-shadow: 0px 1px 2px rgba(60, 64, 67, 0.3), 0px 1px 3px 1px rgba(60, 64, 67, 0.15);\n",
              "      fill: #174EA6;\n",
              "    }\n",
              "\n",
              "    [theme=dark] .colab-df-convert {\n",
              "      background-color: #3B4455;\n",
              "      fill: #D2E3FC;\n",
              "    }\n",
              "\n",
              "    [theme=dark] .colab-df-convert:hover {\n",
              "      background-color: #434B5C;\n",
              "      box-shadow: 0px 1px 3px 1px rgba(0, 0, 0, 0.15);\n",
              "      filter: drop-shadow(0px 1px 2px rgba(0, 0, 0, 0.3));\n",
              "      fill: #FFFFFF;\n",
              "    }\n",
              "  </style>\n",
              "\n",
              "      <script>\n",
              "        const buttonEl =\n",
              "          document.querySelector('#df-8c564b17-6a90-4da5-9dee-f870f7ac0620 button.colab-df-convert');\n",
              "        buttonEl.style.display =\n",
              "          google.colab.kernel.accessAllowed ? 'block' : 'none';\n",
              "\n",
              "        async function convertToInteractive(key) {\n",
              "          const element = document.querySelector('#df-8c564b17-6a90-4da5-9dee-f870f7ac0620');\n",
              "          const dataTable =\n",
              "            await google.colab.kernel.invokeFunction('convertToInteractive',\n",
              "                                                     [key], {});\n",
              "          if (!dataTable) return;\n",
              "\n",
              "          const docLinkHtml = 'Like what you see? Visit the ' +\n",
              "            '<a target=\"_blank\" href=https://colab.research.google.com/notebooks/data_table.ipynb>data table notebook</a>'\n",
              "            + ' to learn more about interactive tables.';\n",
              "          element.innerHTML = '';\n",
              "          dataTable['output_type'] = 'display_data';\n",
              "          await google.colab.output.renderOutput(dataTable, element);\n",
              "          const docLink = document.createElement('div');\n",
              "          docLink.innerHTML = docLinkHtml;\n",
              "          element.appendChild(docLink);\n",
              "        }\n",
              "      </script>\n",
              "    </div>\n",
              "  </div>\n",
              "  "
            ]
          },
          "metadata": {},
          "execution_count": 215
        }
      ]
    },
    {
      "cell_type": "code",
      "source": [
        "df.set_index(pd.DatetimeIndex(df['Date']), inplace=True)"
      ],
      "metadata": {
        "id": "Wt44KqOje7c4"
      },
      "execution_count": null,
      "outputs": []
    },
    {
      "cell_type": "code",
      "source": [
        "df = df[['Adj Close']]"
      ],
      "metadata": {
        "id": "gK8L6DGue-TH"
      },
      "execution_count": null,
      "outputs": []
    },
    {
      "cell_type": "code",
      "source": [
        "pip install  pandas_ta"
      ],
      "metadata": {
        "colab": {
          "base_uri": "https://localhost:8080/"
        },
        "id": "RN7gT985e1C3",
        "outputId": "84831f5a-9411-4a9a-b206-66be768fa332"
      },
      "execution_count": null,
      "outputs": [
        {
          "output_type": "stream",
          "name": "stdout",
          "text": [
            "Collecting pandas_ta\n",
            "  Downloading pandas_ta-0.3.14b.tar.gz (115 kB)\n",
            "\u001b[?25l\r\u001b[K     |██▉                             | 10 kB 13.8 MB/s eta 0:00:01\r\u001b[K     |█████▊                          | 20 kB 16.4 MB/s eta 0:00:01\r\u001b[K     |████████▌                       | 30 kB 18.9 MB/s eta 0:00:01\r\u001b[K     |███████████▍                    | 40 kB 20.9 MB/s eta 0:00:01\r\u001b[K     |██████████████▎                 | 51 kB 22.4 MB/s eta 0:00:01\r\u001b[K     |█████████████████               | 61 kB 24.9 MB/s eta 0:00:01\r\u001b[K     |████████████████████            | 71 kB 20.1 MB/s eta 0:00:01\r\u001b[K     |██████████████████████▊         | 81 kB 18.1 MB/s eta 0:00:01\r\u001b[K     |█████████████████████████▋      | 92 kB 19.2 MB/s eta 0:00:01\r\u001b[K     |████████████████████████████▌   | 102 kB 20.3 MB/s eta 0:00:01\r\u001b[K     |███████████████████████████████▎| 112 kB 20.3 MB/s eta 0:00:01\r\u001b[K     |████████████████████████████████| 115 kB 20.3 MB/s \n",
            "\u001b[?25hRequirement already satisfied: pandas in /usr/local/lib/python3.7/dist-packages (from pandas_ta) (1.3.5)\n",
            "Requirement already satisfied: python-dateutil>=2.7.3 in /usr/local/lib/python3.7/dist-packages (from pandas->pandas_ta) (2.8.2)\n",
            "Requirement already satisfied: numpy>=1.17.3 in /usr/local/lib/python3.7/dist-packages (from pandas->pandas_ta) (1.21.5)\n",
            "Requirement already satisfied: pytz>=2017.3 in /usr/local/lib/python3.7/dist-packages (from pandas->pandas_ta) (2018.9)\n",
            "Requirement already satisfied: six>=1.5 in /usr/local/lib/python3.7/dist-packages (from python-dateutil>=2.7.3->pandas->pandas_ta) (1.15.0)\n",
            "Building wheels for collected packages: pandas-ta\n",
            "  Building wheel for pandas-ta (setup.py) ... \u001b[?25l\u001b[?25hdone\n",
            "  Created wheel for pandas-ta: filename=pandas_ta-0.3.14b0-py3-none-any.whl size=218923 sha256=685caf3950ff6015d0773957d6d5f9d3a6f6e44131e2e5845b8b42063000f141\n",
            "  Stored in directory: /root/.cache/pip/wheels/0b/81/f0/cca85757840e4616a2c6b9fe12569d97d324c27cac60724c58\n",
            "Successfully built pandas-ta\n",
            "Installing collected packages: pandas-ta\n",
            "Successfully installed pandas-ta-0.3.14b0\n"
          ]
        }
      ]
    },
    {
      "cell_type": "code",
      "source": [
        "import pandas_ta\n",
        "# Add EMA to dataframe\n",
        "df.ta.ema(close='Adj Close', length=10, append=True)"
      ],
      "metadata": {
        "colab": {
          "base_uri": "https://localhost:8080/"
        },
        "id": "UtZvGW-GfMw0",
        "outputId": "5e4979b1-3bdd-4e1c-c743-a746887fa3f5"
      },
      "execution_count": null,
      "outputs": [
        {
          "output_type": "stream",
          "name": "stderr",
          "text": [
            "/usr/local/lib/python3.7/dist-packages/pandas_ta/core.py:426: SettingWithCopyWarning: \n",
            "A value is trying to be set on a copy of a slice from a DataFrame.\n",
            "Try using .loc[row_indexer,col_indexer] = value instead\n",
            "\n",
            "See the caveats in the documentation: https://pandas.pydata.org/pandas-docs/stable/user_guide/indexing.html#returning-a-view-versus-a-copy\n",
            "  df[ind_name] = result\n"
          ]
        },
        {
          "output_type": "execute_result",
          "data": {
            "text/plain": [
              "52584            NaN\n",
              "52585            NaN\n",
              "52586            NaN\n",
              "52587            NaN\n",
              "52588            NaN\n",
              "            ...     \n",
              "57825    1809.342140\n",
              "57826    1819.670846\n",
              "57827    1832.094329\n",
              "57828    1841.813551\n",
              "57829    1851.092901\n",
              "Name: EMA_10, Length: 5187, dtype: float64"
            ]
          },
          "metadata": {},
          "execution_count": 216
        }
      ]
    },
    {
      "cell_type": "code",
      "source": [
        "df = df.iloc[10:]\n",
        "print(df.head(10))"
      ],
      "metadata": {
        "colab": {
          "base_uri": "https://localhost:8080/"
        },
        "id": "kC6TwK22fkEs",
        "outputId": "edc0579b-6180-4882-8bd8-2c844fd83b2a"
      },
      "execution_count": null,
      "outputs": [
        {
          "output_type": "stream",
          "name": "stdout",
          "text": [
            "            Date        Open        High         Low       Close  Adj Close  \\\n",
            "52594 2001-01-15   91.015625   97.103905   90.937500   96.396095  67.085739   \n",
            "52595 2001-01-16   96.717186   97.484375   94.314064   95.284378  66.312080   \n",
            "52596 2001-01-17   99.218750   99.359375   97.034378   98.403908  68.483086   \n",
            "52597 2001-01-18   98.828125  101.328125   98.828125  100.473434  69.923332   \n",
            "52598 2001-01-19  100.750000  106.166405  100.750000  105.467972  73.399208   \n",
            "52599 2001-01-22  106.171875  108.203125  105.500000  106.821877  74.341461   \n",
            "52600 2001-01-23  105.953903  106.404686  104.376564  105.563278  73.465546   \n",
            "52601 2001-01-24  106.093750  107.031250  105.017189  106.698441  74.255531   \n",
            "52602 2001-01-25  106.266403  106.873436  103.911720  106.048439  73.803185   \n",
            "52604 2001-01-29  105.484375  105.484375  101.015625  103.685158  72.158485   \n",
            "\n",
            "            Volume     EMA_10  \n",
            "52594  102845952.0  64.065817  \n",
            "52595   41221824.0  64.474228  \n",
            "52596   51214528.0  65.203111  \n",
            "52597   43274496.0  66.061333  \n",
            "52598   56089536.0  67.395492  \n",
            "52599   46704576.0  68.658396  \n",
            "52600   32817280.0  69.532423  \n",
            "52601   40703168.0  70.391170  \n",
            "52602   30341568.0  71.011536  \n",
            "52604   32839808.0  71.220072  \n"
          ]
        }
      ]
    },
    {
      "cell_type": "code",
      "source": [
        " from sklearn.model_selection import train_test_split"
      ],
      "metadata": {
        "id": "d008GWv2f5u1"
      },
      "execution_count": null,
      "outputs": []
    },
    {
      "cell_type": "code",
      "source": [
        "X_train, X_test, y_train, y_test = train_test_split(df[['Adj Close']], df[['EMA_10']], test_size=.2,shuffle=False)"
      ],
      "metadata": {
        "id": "EWxDzXOEfz9s"
      },
      "execution_count": null,
      "outputs": []
    },
    {
      "cell_type": "code",
      "source": [
        "from sklearn.linear_model import LinearRegression\n",
        "# Create Regression Model\n",
        "model = LinearRegression()\n",
        "# Train the model\n",
        "model.fit(X_train, y_train)\n",
        "# Use model to make predictions\n",
        "y_pred = model.predict(X_test)"
      ],
      "metadata": {
        "id": "YvkMcEUGgLc8"
      },
      "execution_count": null,
      "outputs": []
    },
    {
      "cell_type": "code",
      "source": [
        "print(\"Model Coefficients:\", model.coef_)\n",
        "print(\"Mean Absolute Error:\", mean_absolute_error(y_test, y_pred))\n",
        "print(\"Coefficient of Determination:\", r2_score(y_test, y_pred))"
      ],
      "metadata": {
        "colab": {
          "base_uri": "https://localhost:8080/"
        },
        "id": "m-sWNdw1gUGL",
        "outputId": "0f0f12f0-2fa6-462a-e61e-75f6193771d6"
      },
      "execution_count": null,
      "outputs": [
        {
          "output_type": "stream",
          "name": "stdout",
          "text": [
            "Model Coefficients: [[0.99767611]]\n",
            "Mean Absolute Error: 14.509778702063924\n",
            "Coefficient of Determination: 0.9971380777926814\n"
          ]
        }
      ]
    },
    {
      "cell_type": "code",
      "source": [
        "model = LinearRegression()\n",
        "for company in company_list:\n",
        "    df=df_merged.loc[(df_merged[\"Symbol\"] == company)]\n",
        "    df.drop('Symbol',axis=1,inplace=True)\n",
        "    df.set_index(pd.DatetimeIndex(df['Date']), inplace=True)\n",
        "    df = df[['Adj Close']]\n",
        "    df.ta.ema(close='Adj Close', length=10, append=True)\n",
        "    df = df.iloc[10:]\n",
        "    X_train, X_test, y_train, y_test = train_test_split(df[['Adj Close']], df[['EMA_10']], test_size=.2,shuffle=False)\n",
        "    model.fit(X_train, y_train)\n",
        "# Use model to make predictions\n",
        "    y_pred = model.predict(X_test)\n",
        "    print(company)\n",
        "    print(\"Model Coefficients:\", model.coef_)\n",
        "    print(\"Mean Absolute Error:\", mean_absolute_error(y_test, y_pred))\n",
        "    print(\"Mean Squared Error:\", round(mean_squared_error(y_test, y_pred), 4))\n",
        "    print(\"Root Mean Squared Error:\", round(np.sqrt(mean_squared_error(y_test, y_pred)), 4))\n",
        "    print(\"Coefficient of Determination:\", r2_score(y_test, y_pred))\n",
        "    print()"
      ],
      "metadata": {
        "colab": {
          "base_uri": "https://localhost:8080/"
        },
        "id": "N91eAhkHgoPF",
        "outputId": "da880076-f284-4606-dca5-76ab3083c307"
      },
      "execution_count": null,
      "outputs": [
        {
          "output_type": "stream",
          "name": "stdout",
          "text": [
            "AMARAJABAT\n",
            "Model Coefficients: [[0.99753723]]\n",
            "Mean Absolute Error: 14.130238505866307\n",
            "Mean Squared Error: 369.0695\n",
            "Root Mean Squared Error: 19.2112\n",
            "Coefficient of Determination: 0.9565424557257667\n",
            "\n",
            "APOLLOTYRE\n",
            "Model Coefficients: [[0.99377122]]\n",
            "Mean Absolute Error: 4.832678555045389\n",
            "Mean Squared Error: 38.8789\n",
            "Root Mean Squared Error: 6.2353\n",
            "Coefficient of Determination: 0.9821321279551074\n",
            "\n",
            "BAJAJFINSV\n",
            "Model Coefficients: [[0.99203489]]\n",
            "Mean Absolute Error: 196.74914331296543\n",
            "Mean Squared Error: 89799.4586\n",
            "Root Mean Squared Error: 299.6656\n",
            "Coefficient of Determination: 0.9926270282038129\n",
            "\n",
            "BERGEPAINT\n",
            "Model Coefficients: [[0.99531829]]\n",
            "Mean Absolute Error: 9.019690286727853\n",
            "Mean Squared Error: 173.3445\n",
            "Root Mean Squared Error: 13.166\n",
            "Coefficient of Determination: 0.995577440652016\n",
            "\n",
            "COALINDIA\n",
            "Model Coefficients: [[0.96911445]]\n",
            "Mean Absolute Error: 3.4536068286820627\n",
            "Mean Squared Error: 20.5424\n",
            "Root Mean Squared Error: 4.5324\n",
            "Coefficient of Determination: 0.9458990266445476\n",
            "\n",
            "COLPAL\n",
            "Model Coefficients: [[0.99709552]]\n",
            "Mean Absolute Error: 19.86910088670002\n",
            "Mean Squared Error: 753.7975\n",
            "Root Mean Squared Error: 27.4554\n",
            "Coefficient of Determination: 0.9838683222299471\n",
            "\n",
            "DABUR\n",
            "Model Coefficients: [[0.99627067]]\n",
            "Mean Absolute Error: 7.2692550235984\n",
            "Mean Squared Error: 94.7168\n",
            "Root Mean Squared Error: 9.7323\n",
            "Coefficient of Determination: 0.9848798777731487\n",
            "\n",
            "DRREDDY\n",
            "Model Coefficients: [[0.99781069]]\n",
            "Mean Absolute Error: 60.513375096859505\n",
            "Mean Squared Error: 8338.2909\n",
            "Root Mean Squared Error: 91.3142\n",
            "Coefficient of Determination: 0.9935908210425405\n",
            "\n",
            "FINPIPE\n",
            "Model Coefficients: [[0.99336146]]\n",
            "Mean Absolute Error: 2.689915410950812\n",
            "Mean Squared Error: 14.7002\n",
            "Root Mean Squared Error: 3.8341\n",
            "Coefficient of Determination: 0.9877349419253945\n",
            "\n",
            "HDFCBANK\n",
            "Model Coefficients: [[0.99398055]]\n",
            "Mean Absolute Error: 18.410136062434105\n",
            "Mean Squared Error: 687.5158\n",
            "Root Mean Squared Error: 26.2205\n",
            "Coefficient of Determination: 0.9857605500627958\n",
            "\n",
            "HINDPETRO\n",
            "Model Coefficients: [[0.98704017]]\n",
            "Mean Absolute Error: 6.051467243680714\n",
            "Mean Squared Error: 61.6329\n",
            "Root Mean Squared Error: 7.8507\n",
            "Coefficient of Determination: 0.9736142307522155\n",
            "\n",
            "INFY\n",
            "Model Coefficients: [[0.99767611]]\n",
            "Mean Absolute Error: 14.509778702063924\n",
            "Mean Squared Error: 436.2698\n",
            "Root Mean Squared Error: 20.8871\n",
            "Coefficient of Determination: 0.9971380777926814\n",
            "\n",
            "KOTAKBANK\n",
            "Model Coefficients: [[0.99544339]]\n",
            "Mean Absolute Error: 27.953585789657115\n",
            "Mean Squared Error: 1574.13\n",
            "Root Mean Squared Error: 39.6753\n",
            "Coefficient of Determination: 0.9808954610482624\n",
            "\n",
            "M&M\n",
            "Model Coefficients: [[0.99761343]]\n",
            "Mean Absolute Error: 14.844477305384565\n",
            "Mean Squared Error: 391.3167\n",
            "Root Mean Squared Error: 19.7817\n",
            "Coefficient of Determination: 0.9798709531001183\n",
            "\n",
            "MARUTI\n",
            "Model Coefficients: [[0.9929214]]\n",
            "Mean Absolute Error: 147.18243014708275\n",
            "Mean Squared Error: 37403.6689\n",
            "Root Mean Squared Error: 193.4003\n",
            "Coefficient of Determination: 0.952456099213803\n",
            "\n",
            "MINDTREE\n",
            "Model Coefficients: [[0.99439266]]\n",
            "Mean Absolute Error: 39.51297911985013\n",
            "Mean Squared Error: 4671.6979\n",
            "Root Mean Squared Error: 68.3498\n",
            "Coefficient of Determination: 0.9965574539187165\n",
            "\n",
            "RELIANCE\n",
            "Model Coefficients: [[0.9941193]]\n",
            "Mean Absolute Error: 30.95613619748205\n",
            "Mean Squared Error: 1859.5788\n",
            "Root Mean Squared Error: 43.1228\n",
            "Coefficient of Determination: 0.9928414605064274\n",
            "\n",
            "SAIL\n",
            "Model Coefficients: [[0.99527578]]\n",
            "Mean Absolute Error: 2.195638979897696\n",
            "Mean Squared Error: 10.2687\n",
            "Root Mean Squared Error: 3.2045\n",
            "Coefficient of Determination: 0.9878522170824787\n",
            "\n",
            "TATASTEEL\n",
            "Model Coefficients: [[0.99081176]]\n",
            "Mean Absolute Error: 16.14625503138143\n",
            "Mean Squared Error: 560.5381\n",
            "Root Mean Squared Error: 23.6757\n",
            "Coefficient of Determination: 0.9939773745325706\n",
            "\n",
            "TCS\n",
            "Model Coefficients: [[0.9955882]]\n",
            "Mean Absolute Error: 38.23337863989294\n",
            "Mean Squared Error: 2667.0967\n",
            "Root Mean Squared Error: 51.6439\n",
            "Coefficient of Determination: 0.9933637097524248\n",
            "\n",
            "TITAN\n",
            "Model Coefficients: [[0.99373896]]\n",
            "Mean Absolute Error: 24.830394526771666\n",
            "Mean Squared Error: 1295.27\n",
            "Root Mean Squared Error: 35.9899\n",
            "Coefficient of Determination: 0.9925305967620022\n",
            "\n",
            "ULTRACEMCO\n",
            "Model Coefficients: [[0.99570457]]\n",
            "Mean Absolute Error: 90.60764722939484\n",
            "Mean Squared Error: 14623.4322\n",
            "Root Mean Squared Error: 120.9274\n",
            "Coefficient of Determination: 0.9918737808047234\n",
            "\n",
            "VOLTAS\n",
            "Model Coefficients: [[0.99158918]]\n",
            "Mean Absolute Error: 14.436661013058567\n",
            "Mean Squared Error: 424.8492\n",
            "Root Mean Squared Error: 20.6119\n",
            "Coefficient of Determination: 0.9914919108446183\n",
            "\n",
            "WIPRO\n",
            "Model Coefficients: [[0.99535701]]\n",
            "Mean Absolute Error: 5.890272167903011\n",
            "Mean Squared Error: 73.2232\n",
            "Root Mean Squared Error: 8.5571\n",
            "Coefficient of Determination: 0.9963255639573041\n",
            "\n",
            "SUNPHARMA\n",
            "Model Coefficients: [[0.99831967]]\n",
            "Mean Absolute Error: 10.500552242893658\n",
            "Mean Squared Error: 203.426\n",
            "Root Mean Squared Error: 14.2627\n",
            "Coefficient of Determination: 0.9850409220976882\n",
            "\n"
          ]
        }
      ]
    },
    {
      "cell_type": "code",
      "source": [
        ""
      ],
      "metadata": {
        "id": "bybCIATuRlH4"
      },
      "execution_count": null,
      "outputs": []
    },
    {
      "cell_type": "markdown",
      "source": [
        "###Support Vector Regressor (SVR)"
      ],
      "metadata": {
        "id": "FRapUdLM_ncy"
      }
    },
    {
      "cell_type": "code",
      "source": [
        "from sklearn.svm import SVR"
      ],
      "metadata": {
        "id": "522ri0C-Rq6d"
      },
      "execution_count": null,
      "outputs": []
    },
    {
      "cell_type": "code",
      "source": [
        "df=df_merged.loc[(df_merged[\"Symbol\"] == \"TCS\")]\n",
        "df.head(3)"
      ],
      "metadata": {
        "colab": {
          "base_uri": "https://localhost:8080/",
          "height": 143
        },
        "id": "LAXhTf6PyzD1",
        "outputId": "be3de4fc-857b-48fb-e00e-78e30bd9fdf5"
      },
      "execution_count": null,
      "outputs": [
        {
          "output_type": "execute_result",
          "data": {
            "text/plain": [
              "      Symbol       Date       Open       High        Low      Close  \\\n",
              "92200    TCS 2002-08-12  38.724998  40.000000  38.724998  39.700001   \n",
              "92201    TCS 2002-08-13  39.750000  40.387501  38.875000  39.162498   \n",
              "92202    TCS 2002-08-14  39.250000  39.250000  35.724998  36.462502   \n",
              "\n",
              "       Adj Close    Volume  \n",
              "92200  29.410915  212976.0  \n",
              "92201  29.012718  153576.0  \n",
              "92202  27.012482  822776.0  "
            ],
            "text/html": [
              "\n",
              "  <div id=\"df-f1694714-24a3-45a9-a073-735c56c40fc4\">\n",
              "    <div class=\"colab-df-container\">\n",
              "      <div>\n",
              "<style scoped>\n",
              "    .dataframe tbody tr th:only-of-type {\n",
              "        vertical-align: middle;\n",
              "    }\n",
              "\n",
              "    .dataframe tbody tr th {\n",
              "        vertical-align: top;\n",
              "    }\n",
              "\n",
              "    .dataframe thead th {\n",
              "        text-align: right;\n",
              "    }\n",
              "</style>\n",
              "<table border=\"1\" class=\"dataframe\">\n",
              "  <thead>\n",
              "    <tr style=\"text-align: right;\">\n",
              "      <th></th>\n",
              "      <th>Symbol</th>\n",
              "      <th>Date</th>\n",
              "      <th>Open</th>\n",
              "      <th>High</th>\n",
              "      <th>Low</th>\n",
              "      <th>Close</th>\n",
              "      <th>Adj Close</th>\n",
              "      <th>Volume</th>\n",
              "    </tr>\n",
              "  </thead>\n",
              "  <tbody>\n",
              "    <tr>\n",
              "      <th>92200</th>\n",
              "      <td>TCS</td>\n",
              "      <td>2002-08-12</td>\n",
              "      <td>38.724998</td>\n",
              "      <td>40.000000</td>\n",
              "      <td>38.724998</td>\n",
              "      <td>39.700001</td>\n",
              "      <td>29.410915</td>\n",
              "      <td>212976.0</td>\n",
              "    </tr>\n",
              "    <tr>\n",
              "      <th>92201</th>\n",
              "      <td>TCS</td>\n",
              "      <td>2002-08-13</td>\n",
              "      <td>39.750000</td>\n",
              "      <td>40.387501</td>\n",
              "      <td>38.875000</td>\n",
              "      <td>39.162498</td>\n",
              "      <td>29.012718</td>\n",
              "      <td>153576.0</td>\n",
              "    </tr>\n",
              "    <tr>\n",
              "      <th>92202</th>\n",
              "      <td>TCS</td>\n",
              "      <td>2002-08-14</td>\n",
              "      <td>39.250000</td>\n",
              "      <td>39.250000</td>\n",
              "      <td>35.724998</td>\n",
              "      <td>36.462502</td>\n",
              "      <td>27.012482</td>\n",
              "      <td>822776.0</td>\n",
              "    </tr>\n",
              "  </tbody>\n",
              "</table>\n",
              "</div>\n",
              "      <button class=\"colab-df-convert\" onclick=\"convertToInteractive('df-f1694714-24a3-45a9-a073-735c56c40fc4')\"\n",
              "              title=\"Convert this dataframe to an interactive table.\"\n",
              "              style=\"display:none;\">\n",
              "        \n",
              "  <svg xmlns=\"http://www.w3.org/2000/svg\" height=\"24px\"viewBox=\"0 0 24 24\"\n",
              "       width=\"24px\">\n",
              "    <path d=\"M0 0h24v24H0V0z\" fill=\"none\"/>\n",
              "    <path d=\"M18.56 5.44l.94 2.06.94-2.06 2.06-.94-2.06-.94-.94-2.06-.94 2.06-2.06.94zm-11 1L8.5 8.5l.94-2.06 2.06-.94-2.06-.94L8.5 2.5l-.94 2.06-2.06.94zm10 10l.94 2.06.94-2.06 2.06-.94-2.06-.94-.94-2.06-.94 2.06-2.06.94z\"/><path d=\"M17.41 7.96l-1.37-1.37c-.4-.4-.92-.59-1.43-.59-.52 0-1.04.2-1.43.59L10.3 9.45l-7.72 7.72c-.78.78-.78 2.05 0 2.83L4 21.41c.39.39.9.59 1.41.59.51 0 1.02-.2 1.41-.59l7.78-7.78 2.81-2.81c.8-.78.8-2.07 0-2.86zM5.41 20L4 18.59l7.72-7.72 1.47 1.35L5.41 20z\"/>\n",
              "  </svg>\n",
              "      </button>\n",
              "      \n",
              "  <style>\n",
              "    .colab-df-container {\n",
              "      display:flex;\n",
              "      flex-wrap:wrap;\n",
              "      gap: 12px;\n",
              "    }\n",
              "\n",
              "    .colab-df-convert {\n",
              "      background-color: #E8F0FE;\n",
              "      border: none;\n",
              "      border-radius: 50%;\n",
              "      cursor: pointer;\n",
              "      display: none;\n",
              "      fill: #1967D2;\n",
              "      height: 32px;\n",
              "      padding: 0 0 0 0;\n",
              "      width: 32px;\n",
              "    }\n",
              "\n",
              "    .colab-df-convert:hover {\n",
              "      background-color: #E2EBFA;\n",
              "      box-shadow: 0px 1px 2px rgba(60, 64, 67, 0.3), 0px 1px 3px 1px rgba(60, 64, 67, 0.15);\n",
              "      fill: #174EA6;\n",
              "    }\n",
              "\n",
              "    [theme=dark] .colab-df-convert {\n",
              "      background-color: #3B4455;\n",
              "      fill: #D2E3FC;\n",
              "    }\n",
              "\n",
              "    [theme=dark] .colab-df-convert:hover {\n",
              "      background-color: #434B5C;\n",
              "      box-shadow: 0px 1px 3px 1px rgba(0, 0, 0, 0.15);\n",
              "      filter: drop-shadow(0px 1px 2px rgba(0, 0, 0, 0.3));\n",
              "      fill: #FFFFFF;\n",
              "    }\n",
              "  </style>\n",
              "\n",
              "      <script>\n",
              "        const buttonEl =\n",
              "          document.querySelector('#df-f1694714-24a3-45a9-a073-735c56c40fc4 button.colab-df-convert');\n",
              "        buttonEl.style.display =\n",
              "          google.colab.kernel.accessAllowed ? 'block' : 'none';\n",
              "\n",
              "        async function convertToInteractive(key) {\n",
              "          const element = document.querySelector('#df-f1694714-24a3-45a9-a073-735c56c40fc4');\n",
              "          const dataTable =\n",
              "            await google.colab.kernel.invokeFunction('convertToInteractive',\n",
              "                                                     [key], {});\n",
              "          if (!dataTable) return;\n",
              "\n",
              "          const docLinkHtml = 'Like what you see? Visit the ' +\n",
              "            '<a target=\"_blank\" href=https://colab.research.google.com/notebooks/data_table.ipynb>data table notebook</a>'\n",
              "            + ' to learn more about interactive tables.';\n",
              "          element.innerHTML = '';\n",
              "          dataTable['output_type'] = 'display_data';\n",
              "          await google.colab.output.renderOutput(dataTable, element);\n",
              "          const docLink = document.createElement('div');\n",
              "          docLink.innerHTML = docLinkHtml;\n",
              "          element.appendChild(docLink);\n",
              "        }\n",
              "      </script>\n",
              "    </div>\n",
              "  </div>\n",
              "  "
            ]
          },
          "metadata": {},
          "execution_count": 155
        }
      ]
    },
    {
      "cell_type": "code",
      "source": [
        "#Add column named 5th_future_closeprice and fill with the closing price of 5th day from the current date.\n",
        "future_days=5\n",
        "df['5th_future_closeprice']=df[['Close']].shift(-future_days)\n"
      ],
      "metadata": {
        "id": "PmvC5fAdy7eV"
      },
      "execution_count": null,
      "outputs": []
    },
    {
      "cell_type": "code",
      "source": [
        "df.dropna(inplace=True)"
      ],
      "metadata": {
        "id": "qw085NIe4Xfx"
      },
      "execution_count": null,
      "outputs": []
    },
    {
      "cell_type": "code",
      "source": [
        "df.tail(6)"
      ],
      "metadata": {
        "colab": {
          "base_uri": "https://localhost:8080/",
          "height": 238
        },
        "id": "szC0LwrO4ILp",
        "outputId": "00c6a1b1-592f-4de4-8394-df19ff502678"
      },
      "execution_count": null,
      "outputs": [
        {
          "output_type": "execute_result",
          "data": {
            "text/plain": [
              "      Symbol       Date         Open         High          Low        Close  \\\n",
              "97015    TCS 2021-12-16  3582.000000  3608.449951  3570.000000  3581.600098   \n",
              "97016    TCS 2021-12-17  3602.500000  3651.350098  3573.699951  3584.350098   \n",
              "97017    TCS 2021-12-20  3589.000000  3606.000000  3510.149902  3556.899902   \n",
              "97018    TCS 2021-12-21  3582.649902  3641.199951  3566.399902  3608.300049   \n",
              "97019    TCS 2021-12-22  3624.000000  3636.800049  3606.250000  3630.750000   \n",
              "97020    TCS 2021-12-23  3648.000000  3670.500000  3630.000000  3662.699951   \n",
              "\n",
              "         Adj Close     Volume  5th_future_closeprice  \n",
              "97015  3575.317627  2072320.0            3662.699951  \n",
              "97016  3578.062744  4333992.0            3670.899902  \n",
              "97017  3550.660645  2312310.0            3696.100098  \n",
              "97018  3601.970703  2340989.0            3706.550049  \n",
              "97019  3624.381348  1224328.0            3694.699951  \n",
              "97020  3656.275146  1792861.0            3733.750000  "
            ],
            "text/html": [
              "\n",
              "  <div id=\"df-4ed0cb01-bc53-4b2a-b454-765182e5edb4\">\n",
              "    <div class=\"colab-df-container\">\n",
              "      <div>\n",
              "<style scoped>\n",
              "    .dataframe tbody tr th:only-of-type {\n",
              "        vertical-align: middle;\n",
              "    }\n",
              "\n",
              "    .dataframe tbody tr th {\n",
              "        vertical-align: top;\n",
              "    }\n",
              "\n",
              "    .dataframe thead th {\n",
              "        text-align: right;\n",
              "    }\n",
              "</style>\n",
              "<table border=\"1\" class=\"dataframe\">\n",
              "  <thead>\n",
              "    <tr style=\"text-align: right;\">\n",
              "      <th></th>\n",
              "      <th>Symbol</th>\n",
              "      <th>Date</th>\n",
              "      <th>Open</th>\n",
              "      <th>High</th>\n",
              "      <th>Low</th>\n",
              "      <th>Close</th>\n",
              "      <th>Adj Close</th>\n",
              "      <th>Volume</th>\n",
              "      <th>5th_future_closeprice</th>\n",
              "    </tr>\n",
              "  </thead>\n",
              "  <tbody>\n",
              "    <tr>\n",
              "      <th>97015</th>\n",
              "      <td>TCS</td>\n",
              "      <td>2021-12-16</td>\n",
              "      <td>3582.000000</td>\n",
              "      <td>3608.449951</td>\n",
              "      <td>3570.000000</td>\n",
              "      <td>3581.600098</td>\n",
              "      <td>3575.317627</td>\n",
              "      <td>2072320.0</td>\n",
              "      <td>3662.699951</td>\n",
              "    </tr>\n",
              "    <tr>\n",
              "      <th>97016</th>\n",
              "      <td>TCS</td>\n",
              "      <td>2021-12-17</td>\n",
              "      <td>3602.500000</td>\n",
              "      <td>3651.350098</td>\n",
              "      <td>3573.699951</td>\n",
              "      <td>3584.350098</td>\n",
              "      <td>3578.062744</td>\n",
              "      <td>4333992.0</td>\n",
              "      <td>3670.899902</td>\n",
              "    </tr>\n",
              "    <tr>\n",
              "      <th>97017</th>\n",
              "      <td>TCS</td>\n",
              "      <td>2021-12-20</td>\n",
              "      <td>3589.000000</td>\n",
              "      <td>3606.000000</td>\n",
              "      <td>3510.149902</td>\n",
              "      <td>3556.899902</td>\n",
              "      <td>3550.660645</td>\n",
              "      <td>2312310.0</td>\n",
              "      <td>3696.100098</td>\n",
              "    </tr>\n",
              "    <tr>\n",
              "      <th>97018</th>\n",
              "      <td>TCS</td>\n",
              "      <td>2021-12-21</td>\n",
              "      <td>3582.649902</td>\n",
              "      <td>3641.199951</td>\n",
              "      <td>3566.399902</td>\n",
              "      <td>3608.300049</td>\n",
              "      <td>3601.970703</td>\n",
              "      <td>2340989.0</td>\n",
              "      <td>3706.550049</td>\n",
              "    </tr>\n",
              "    <tr>\n",
              "      <th>97019</th>\n",
              "      <td>TCS</td>\n",
              "      <td>2021-12-22</td>\n",
              "      <td>3624.000000</td>\n",
              "      <td>3636.800049</td>\n",
              "      <td>3606.250000</td>\n",
              "      <td>3630.750000</td>\n",
              "      <td>3624.381348</td>\n",
              "      <td>1224328.0</td>\n",
              "      <td>3694.699951</td>\n",
              "    </tr>\n",
              "    <tr>\n",
              "      <th>97020</th>\n",
              "      <td>TCS</td>\n",
              "      <td>2021-12-23</td>\n",
              "      <td>3648.000000</td>\n",
              "      <td>3670.500000</td>\n",
              "      <td>3630.000000</td>\n",
              "      <td>3662.699951</td>\n",
              "      <td>3656.275146</td>\n",
              "      <td>1792861.0</td>\n",
              "      <td>3733.750000</td>\n",
              "    </tr>\n",
              "  </tbody>\n",
              "</table>\n",
              "</div>\n",
              "      <button class=\"colab-df-convert\" onclick=\"convertToInteractive('df-4ed0cb01-bc53-4b2a-b454-765182e5edb4')\"\n",
              "              title=\"Convert this dataframe to an interactive table.\"\n",
              "              style=\"display:none;\">\n",
              "        \n",
              "  <svg xmlns=\"http://www.w3.org/2000/svg\" height=\"24px\"viewBox=\"0 0 24 24\"\n",
              "       width=\"24px\">\n",
              "    <path d=\"M0 0h24v24H0V0z\" fill=\"none\"/>\n",
              "    <path d=\"M18.56 5.44l.94 2.06.94-2.06 2.06-.94-2.06-.94-.94-2.06-.94 2.06-2.06.94zm-11 1L8.5 8.5l.94-2.06 2.06-.94-2.06-.94L8.5 2.5l-.94 2.06-2.06.94zm10 10l.94 2.06.94-2.06 2.06-.94-2.06-.94-.94-2.06-.94 2.06-2.06.94z\"/><path d=\"M17.41 7.96l-1.37-1.37c-.4-.4-.92-.59-1.43-.59-.52 0-1.04.2-1.43.59L10.3 9.45l-7.72 7.72c-.78.78-.78 2.05 0 2.83L4 21.41c.39.39.9.59 1.41.59.51 0 1.02-.2 1.41-.59l7.78-7.78 2.81-2.81c.8-.78.8-2.07 0-2.86zM5.41 20L4 18.59l7.72-7.72 1.47 1.35L5.41 20z\"/>\n",
              "  </svg>\n",
              "      </button>\n",
              "      \n",
              "  <style>\n",
              "    .colab-df-container {\n",
              "      display:flex;\n",
              "      flex-wrap:wrap;\n",
              "      gap: 12px;\n",
              "    }\n",
              "\n",
              "    .colab-df-convert {\n",
              "      background-color: #E8F0FE;\n",
              "      border: none;\n",
              "      border-radius: 50%;\n",
              "      cursor: pointer;\n",
              "      display: none;\n",
              "      fill: #1967D2;\n",
              "      height: 32px;\n",
              "      padding: 0 0 0 0;\n",
              "      width: 32px;\n",
              "    }\n",
              "\n",
              "    .colab-df-convert:hover {\n",
              "      background-color: #E2EBFA;\n",
              "      box-shadow: 0px 1px 2px rgba(60, 64, 67, 0.3), 0px 1px 3px 1px rgba(60, 64, 67, 0.15);\n",
              "      fill: #174EA6;\n",
              "    }\n",
              "\n",
              "    [theme=dark] .colab-df-convert {\n",
              "      background-color: #3B4455;\n",
              "      fill: #D2E3FC;\n",
              "    }\n",
              "\n",
              "    [theme=dark] .colab-df-convert:hover {\n",
              "      background-color: #434B5C;\n",
              "      box-shadow: 0px 1px 3px 1px rgba(0, 0, 0, 0.15);\n",
              "      filter: drop-shadow(0px 1px 2px rgba(0, 0, 0, 0.3));\n",
              "      fill: #FFFFFF;\n",
              "    }\n",
              "  </style>\n",
              "\n",
              "      <script>\n",
              "        const buttonEl =\n",
              "          document.querySelector('#df-4ed0cb01-bc53-4b2a-b454-765182e5edb4 button.colab-df-convert');\n",
              "        buttonEl.style.display =\n",
              "          google.colab.kernel.accessAllowed ? 'block' : 'none';\n",
              "\n",
              "        async function convertToInteractive(key) {\n",
              "          const element = document.querySelector('#df-4ed0cb01-bc53-4b2a-b454-765182e5edb4');\n",
              "          const dataTable =\n",
              "            await google.colab.kernel.invokeFunction('convertToInteractive',\n",
              "                                                     [key], {});\n",
              "          if (!dataTable) return;\n",
              "\n",
              "          const docLinkHtml = 'Like what you see? Visit the ' +\n",
              "            '<a target=\"_blank\" href=https://colab.research.google.com/notebooks/data_table.ipynb>data table notebook</a>'\n",
              "            + ' to learn more about interactive tables.';\n",
              "          element.innerHTML = '';\n",
              "          dataTable['output_type'] = 'display_data';\n",
              "          await google.colab.output.renderOutput(dataTable, element);\n",
              "          const docLink = document.createElement('div');\n",
              "          docLink.innerHTML = docLinkHtml;\n",
              "          element.appendChild(docLink);\n",
              "        }\n",
              "      </script>\n",
              "    </div>\n",
              "  </div>\n",
              "  "
            ]
          },
          "metadata": {},
          "execution_count": 163
        }
      ]
    },
    {
      "cell_type": "code",
      "source": [
        "X=np.array(df[['Close']])\n",
        "y=np.array(df[['5th_future_closeprice']])"
      ],
      "metadata": {
        "id": "XDsDHP9x32GA"
      },
      "execution_count": null,
      "outputs": []
    },
    {
      "cell_type": "code",
      "source": [
        "#Split train-test data\n",
        "from sklearn.model_selection import train_test_split\n",
        "X_train,X_test,y_train,y_test=train_test_split(X,y,test_size=0.2,shuffle=False)"
      ],
      "metadata": {
        "id": "1q0imIC440ox"
      },
      "execution_count": null,
      "outputs": []
    },
    {
      "cell_type": "code",
      "source": [
        "model_1=SVR(kernel='linear',C=100,gamma=0.00001)\n",
        "model_1.fit(X_train,y_train)"
      ],
      "metadata": {
        "colab": {
          "base_uri": "https://localhost:8080/"
        },
        "id": "3qYzCqt-zSjX",
        "outputId": "88ce65bb-fbbf-4b29-f5bd-5457b00aa242"
      },
      "execution_count": null,
      "outputs": [
        {
          "output_type": "execute_result",
          "data": {
            "text/plain": [
              "SVR(C=100, gamma=1e-05, kernel='linear')"
            ]
          },
          "metadata": {},
          "execution_count": 171
        }
      ]
    },
    {
      "cell_type": "code",
      "source": [
        "svr_confidence=model_1.score(X_test,y_test)\n",
        "print('svr_accuracy',svr_confidence)"
      ],
      "metadata": {
        "colab": {
          "base_uri": "https://localhost:8080/"
        },
        "id": "WcvHQUwZ51rj",
        "outputId": "a4f1ff98-baaf-4314-bd16-6590f11b5555"
      },
      "execution_count": null,
      "outputs": [
        {
          "output_type": "stream",
          "name": "stdout",
          "text": [
            "svr_accuracy 0.975231475490493\n"
          ]
        }
      ]
    },
    {
      "cell_type": "code",
      "source": [
        "param_grid = {'C': [0.1, 1, 10, 100, 1000],\n",
        "              'gamma': [1, 0.1, 0.01, 0.001, 0.0001],\n",
        "              'kernel': ['rbf']}"
      ],
      "metadata": {
        "id": "72KtgXrg9FIO"
      },
      "execution_count": null,
      "outputs": []
    },
    {
      "cell_type": "code",
      "source": [
        "model_svr=SVR()\n",
        "for company in company_list:\n",
        "    df=df_merged.loc[(df_merged[\"Symbol\"] == company)]\n",
        "    \n",
        "    future_days=5\n",
        "    df['5th_future_closeprice']=df[['Close']].shift(-future_days)\n",
        "    df.dropna(inplace=True)\n",
        "    X=np.array(df[['Close']])\n",
        "    y=np.array(df[['5th_future_closeprice']])\n",
        "\n",
        "    from sklearn.model_selection import train_test_split\n",
        "    X_train,X_test,y_train,y_test=train_test_split(X,y,test_size=0.2,shuffle=False)\n",
        "    model_1=SVR(kernel='linear',C=100,gamma=0.00001)\n",
        "    model_1.fit(X_train,y_train)\n",
        "    test_predict=model_1.predict(X_test)\n",
        "    print(company)\n",
        "\n",
        "    svr_confidence=model_1.score(X_test,y_test)\n",
        "    print('svr_accuracy',svr_confidence)\n",
        "    print(\"Mean Absolute Error:\", round(mean_absolute_error(y_test, test_predict), 4))\n",
        "    print(\"Mean Squared Error:\", round(mean_squared_error(y_test, test_predict), 4))\n",
        "    print(\"Root Mean Squared Error:\", round(np.sqrt(mean_squared_error(y_test, test_predict)), 4))\n",
        "    print(\"(R^2) Score:\", round(r2_score(y_test, test_predict), 4))\n",
        "  \n",
        "\n",
        "\n",
        "\n"
      ],
      "metadata": {
        "colab": {
          "base_uri": "https://localhost:8080/"
        },
        "id": "m3CPMG2WBU2T",
        "outputId": "d0ad5ede-d221-42d9-99e3-2f3e07b4c4b4"
      },
      "execution_count": null,
      "outputs": [
        {
          "output_type": "stream",
          "name": "stdout",
          "text": [
            "AMARAJABAT\n",
            "svr_accuracy 0.7734665028490897\n",
            "Mean Absolute Error: 39.2171\n",
            "Mean Squared Error: 2148.168\n",
            "Root Mean Squared Error: 46.3483\n",
            "(R^2) Score: 0.7735\n",
            "APOLLOTYRE\n",
            "svr_accuracy 0.9625608516811419\n",
            "Mean Absolute Error: 7.9191\n",
            "Mean Squared Error: 102.9076\n",
            "Root Mean Squared Error: 10.1443\n",
            "(R^2) Score: 0.9626\n",
            "BAJAJFINSV\n",
            "svr_accuracy 0.9821332731944198\n",
            "Mean Absolute Error: 325.3299\n",
            "Mean Squared Error: 223536.5848\n",
            "Root Mean Squared Error: 472.7966\n",
            "(R^2) Score: 0.9821\n",
            "BERGEPAINT\n",
            "svr_accuracy 0.988441955775893\n",
            "Mean Absolute Error: 14.4749\n",
            "Mean Squared Error: 448.0309\n",
            "Root Mean Squared Error: 21.1667\n",
            "(R^2) Score: 0.9884\n",
            "COALINDIA\n",
            "svr_accuracy 0.5850515223744761\n",
            "Mean Absolute Error: 14.7971\n",
            "Mean Squared Error: 278.7866\n",
            "Root Mean Squared Error: 16.6969\n",
            "(R^2) Score: 0.5851\n",
            "COLPAL\n",
            "svr_accuracy 0.938497510926785\n",
            "Mean Absolute Error: 36.7227\n",
            "Mean Squared Error: 2398.7832\n",
            "Root Mean Squared Error: 48.9774\n",
            "(R^2) Score: 0.9385\n",
            "DABUR\n",
            "svr_accuracy 0.9417267349815226\n",
            "Mean Absolute Error: 14.1247\n",
            "Mean Squared Error: 334.6667\n",
            "Root Mean Squared Error: 18.2939\n",
            "(R^2) Score: 0.9417\n",
            "DRREDDY\n",
            "svr_accuracy 0.9751413567837152\n",
            "Mean Absolute Error: 129.1392\n",
            "Mean Squared Error: 31712.2831\n",
            "Root Mean Squared Error: 178.0794\n",
            "(R^2) Score: 0.9751\n"
          ]
        }
      ]
    },
    {
      "cell_type": "markdown",
      "source": [
        "###Autoregressive Integrated Moving Average (ARIMA)"
      ],
      "metadata": {
        "id": "irlIniXUv7sV"
      }
    },
    {
      "cell_type": "code",
      "source": [
        "pip install pmdarima"
      ],
      "metadata": {
        "colab": {
          "base_uri": "https://localhost:8080/"
        },
        "id": "b36DjdC_-1pb",
        "outputId": "60d6d17b-a672-40d6-f812-ffbd34ed0ebe"
      },
      "execution_count": 47,
      "outputs": [
        {
          "output_type": "stream",
          "name": "stdout",
          "text": [
            "Requirement already satisfied: pmdarima in /usr/local/lib/python3.7/dist-packages (1.8.5)\n",
            "Requirement already satisfied: pandas>=0.19 in /usr/local/lib/python3.7/dist-packages (from pmdarima) (1.3.5)\n",
            "Requirement already satisfied: numpy>=1.19.3 in /usr/local/lib/python3.7/dist-packages (from pmdarima) (1.21.5)\n",
            "Requirement already satisfied: statsmodels!=0.12.0,>=0.11 in /usr/local/lib/python3.7/dist-packages (from pmdarima) (0.13.2)\n",
            "Requirement already satisfied: urllib3 in /usr/local/lib/python3.7/dist-packages (from pmdarima) (1.24.3)\n",
            "Requirement already satisfied: scikit-learn>=0.22 in /usr/local/lib/python3.7/dist-packages (from pmdarima) (1.0.2)\n",
            "Requirement already satisfied: joblib>=0.11 in /usr/local/lib/python3.7/dist-packages (from pmdarima) (1.1.0)\n",
            "Requirement already satisfied: scipy>=1.3.2 in /usr/local/lib/python3.7/dist-packages (from pmdarima) (1.4.1)\n",
            "Requirement already satisfied: Cython!=0.29.18,>=0.29 in /usr/local/lib/python3.7/dist-packages (from pmdarima) (0.29.28)\n",
            "Requirement already satisfied: setuptools!=50.0.0,>=38.6.0 in /usr/local/lib/python3.7/dist-packages (from pmdarima) (57.4.0)\n",
            "Requirement already satisfied: python-dateutil>=2.7.3 in /usr/local/lib/python3.7/dist-packages (from pandas>=0.19->pmdarima) (2.8.2)\n",
            "Requirement already satisfied: pytz>=2017.3 in /usr/local/lib/python3.7/dist-packages (from pandas>=0.19->pmdarima) (2018.9)\n",
            "Requirement already satisfied: six>=1.5 in /usr/local/lib/python3.7/dist-packages (from python-dateutil>=2.7.3->pandas>=0.19->pmdarima) (1.15.0)\n",
            "Requirement already satisfied: threadpoolctl>=2.0.0 in /usr/local/lib/python3.7/dist-packages (from scikit-learn>=0.22->pmdarima) (3.1.0)\n",
            "Requirement already satisfied: packaging>=21.3 in /usr/local/lib/python3.7/dist-packages (from statsmodels!=0.12.0,>=0.11->pmdarima) (21.3)\n",
            "Requirement already satisfied: patsy>=0.5.2 in /usr/local/lib/python3.7/dist-packages (from statsmodels!=0.12.0,>=0.11->pmdarima) (0.5.2)\n",
            "Requirement already satisfied: pyparsing!=3.0.5,>=2.0.2 in /usr/local/lib/python3.7/dist-packages (from packaging>=21.3->statsmodels!=0.12.0,>=0.11->pmdarima) (3.0.7)\n"
          ]
        }
      ]
    },
    {
      "cell_type": "code",
      "source": [
        "pip uninstall statsmodels"
      ],
      "metadata": {
        "colab": {
          "base_uri": "https://localhost:8080/"
        },
        "id": "g4qKIZfjOqBx",
        "outputId": "d3f3458f-3b8c-4587-a7a8-fc6f56e0f39f"
      },
      "execution_count": 49,
      "outputs": [
        {
          "output_type": "stream",
          "name": "stdout",
          "text": [
            "Found existing installation: statsmodels 0.13.2\n",
            "Uninstalling statsmodels-0.13.2:\n",
            "  Would remove:\n",
            "    /usr/local/lib/python3.7/dist-packages/statsmodels-0.13.2.dist-info/*\n",
            "    /usr/local/lib/python3.7/dist-packages/statsmodels/*\n",
            "Proceed (y/n)? y\n",
            "  Successfully uninstalled statsmodels-0.13.2\n"
          ]
        }
      ]
    },
    {
      "cell_type": "code",
      "source": [
        "pip install statsmodels\n"
      ],
      "metadata": {
        "colab": {
          "base_uri": "https://localhost:8080/",
          "height": 328
        },
        "id": "cYB6FG9dOrjM",
        "outputId": "16324300-7ff4-46c7-c63e-e4a432f1f63d"
      },
      "execution_count": 50,
      "outputs": [
        {
          "output_type": "stream",
          "name": "stdout",
          "text": [
            "Collecting statsmodels\n",
            "  Using cached statsmodels-0.13.2-cp37-cp37m-manylinux_2_17_x86_64.manylinux2014_x86_64.whl (9.8 MB)\n",
            "Requirement already satisfied: numpy>=1.17 in /usr/local/lib/python3.7/dist-packages (from statsmodels) (1.21.5)\n",
            "Requirement already satisfied: scipy>=1.3 in /usr/local/lib/python3.7/dist-packages (from statsmodels) (1.4.1)\n",
            "Requirement already satisfied: pandas>=0.25 in /usr/local/lib/python3.7/dist-packages (from statsmodels) (1.3.5)\n",
            "Requirement already satisfied: patsy>=0.5.2 in /usr/local/lib/python3.7/dist-packages (from statsmodels) (0.5.2)\n",
            "Requirement already satisfied: packaging>=21.3 in /usr/local/lib/python3.7/dist-packages (from statsmodels) (21.3)\n",
            "Requirement already satisfied: pyparsing!=3.0.5,>=2.0.2 in /usr/local/lib/python3.7/dist-packages (from packaging>=21.3->statsmodels) (3.0.7)\n",
            "Requirement already satisfied: python-dateutil>=2.7.3 in /usr/local/lib/python3.7/dist-packages (from pandas>=0.25->statsmodels) (2.8.2)\n",
            "Requirement already satisfied: pytz>=2017.3 in /usr/local/lib/python3.7/dist-packages (from pandas>=0.25->statsmodels) (2018.9)\n",
            "Requirement already satisfied: six in /usr/local/lib/python3.7/dist-packages (from patsy>=0.5.2->statsmodels) (1.15.0)\n",
            "Installing collected packages: statsmodels\n",
            "Successfully installed statsmodels-0.13.2\n"
          ]
        },
        {
          "output_type": "display_data",
          "data": {
            "application/vnd.colab-display-data+json": {
              "pip_warning": {
                "packages": [
                  "statsmodels"
                ]
              }
            }
          },
          "metadata": {}
        }
      ]
    },
    {
      "cell_type": "code",
      "source": [
        "from statsmodels.tsa.seasonal import seasonal_decompose\n",
        "from statsmodels.tsa.arima.model import ARIMA\n",
        "\n",
        "from statsmodels.tsa.stattools import adfuller"
      ],
      "metadata": {
        "id": "lX-r9Hstv9kn"
      },
      "execution_count": 25,
      "outputs": []
    },
    {
      "cell_type": "code",
      "source": [
        "df=df_merged.loc[(df_merged[\"Symbol\"] == \"INFY\")]\n",
        "df['Close'].plot()"
      ],
      "metadata": {
        "colab": {
          "base_uri": "https://localhost:8080/",
          "height": 282
        },
        "id": "j-5riRIY1cgh",
        "outputId": "e1fcaf42-1043-412b-a62d-183683ded63d"
      },
      "execution_count": 29,
      "outputs": [
        {
          "output_type": "execute_result",
          "data": {
            "text/plain": [
              "<matplotlib.axes._subplots.AxesSubplot at 0x7f77d769ac90>"
            ]
          },
          "metadata": {},
          "execution_count": 29
        },
        {
          "output_type": "display_data",
          "data": {
            "text/plain": [
              "<Figure size 432x288 with 1 Axes>"
            ],
            "image/png": "[encoded data removed]"
          },
          "metadata": {
            "needs_background": "light"
          }
        }
      ]
    },
    {
      "cell_type": "code",
      "source": [
        "def adfuller_test(close):\n",
        "    result=adfuller(close)\n",
        "    labels = ['ADF Test Statistic','p-value','#Lags Used','Number of Observations Used']\n",
        "    for value,label in zip(result,labels):\n",
        "        print(label+' : '+str(value) )\n",
        "    if result[1] <= 0.05:\n",
        "        print(\"It is stationary\")\n",
        "    else:\n",
        "        print(\" it is non-stationary \")"
      ],
      "metadata": {
        "id": "V-ONJ3EBy_Ol"
      },
      "execution_count": null,
      "outputs": []
    },
    {
      "cell_type": "code",
      "source": [
        "for company in company_list:\n",
        "    df=df_merged.loc[(df_merged[\"Symbol\"] == company)]\n",
        "    test_result=adfuller_test(df['Close'])\n",
        "    print(company)\n",
        "    "
      ],
      "metadata": {
        "colab": {
          "base_uri": "https://localhost:8080/"
        },
        "id": "uZsoW6qPxiaf",
        "outputId": "0c0fb65a-40aa-4b1f-86c4-9e8a16b2abcf"
      },
      "execution_count": null,
      "outputs": [
        {
          "output_type": "stream",
          "name": "stdout",
          "text": [
            "ADF Test Statistic : -1.0046270625843037\n",
            "p-value : 0.7515729474808719\n",
            "#Lags Used : 25\n",
            "Number of Observations Used : 4787\n",
            " it is non-stationary \n",
            "AMARAJABAT\n",
            "ADF Test Statistic : -1.1525164475623906\n",
            "p-value : 0.6936814264187737\n",
            "#Lags Used : 4\n",
            "Number of Observations Used : 4934\n",
            " it is non-stationary \n",
            "APOLLOTYRE\n",
            "ADF Test Statistic : 1.2466574946664073\n",
            "p-value : 0.9962929088651347\n",
            "#Lags Used : 27\n",
            "Number of Observations Used : 4716\n",
            " it is non-stationary \n",
            "BAJAJFINSV\n",
            "ADF Test Statistic : 2.3711783294164874\n",
            "p-value : 0.9989960941380881\n",
            "#Lags Used : 32\n",
            "Number of Observations Used : 4780\n",
            " it is non-stationary \n",
            "BERGEPAINT\n",
            "ADF Test Statistic : -1.448567625138803\n",
            "p-value : 0.5587836682007519\n",
            "#Lags Used : 0\n",
            "Number of Observations Used : 2744\n",
            " it is non-stationary \n",
            "COALINDIA\n",
            "ADF Test Statistic : -0.2243868450883818\n",
            "p-value : 0.935551652511642\n",
            "#Lags Used : 30\n",
            "Number of Observations Used : 4770\n",
            " it is non-stationary \n",
            "COLPAL\n",
            "ADF Test Statistic : 1.4364137064760927\n",
            "p-value : 0.9972734451319308\n",
            "#Lags Used : 32\n",
            "Number of Observations Used : 4780\n",
            " it is non-stationary \n",
            "DABUR\n",
            "ADF Test Statistic : 0.15638173720919651\n",
            "p-value : 0.9697062908924474\n",
            "#Lags Used : 28\n",
            "Number of Observations Used : 5158\n",
            " it is non-stationary \n",
            "DRREDDY\n",
            "ADF Test Statistic : 1.4170648915322561\n",
            "p-value : 0.9971903027370784\n",
            "#Lags Used : 30\n",
            "Number of Observations Used : 4781\n",
            " it is non-stationary \n",
            "FINPIPE\n",
            "ADF Test Statistic : 1.0277381341578538\n",
            "p-value : 0.9945501650274085\n",
            "#Lags Used : 29\n",
            "Number of Observations Used : 5157\n",
            " it is non-stationary \n",
            "HDFCBANK\n",
            "ADF Test Statistic : -1.0165379000388384\n",
            "p-value : 0.7471847944621863\n",
            "#Lags Used : 26\n",
            "Number of Observations Used : 5160\n",
            " it is non-stationary \n",
            "HINDPETRO\n",
            "ADF Test Statistic : 5.1549186445229465\n",
            "p-value : 1.0\n",
            "#Lags Used : 32\n",
            "Number of Observations Used : 5154\n",
            " it is non-stationary \n",
            "INFY\n",
            "ADF Test Statistic : 0.6053447253954035\n",
            "p-value : 0.9877466292423159\n",
            "#Lags Used : 29\n",
            "Number of Observations Used : 5052\n",
            " it is non-stationary \n",
            "KOTAKBANK\n",
            "ADF Test Statistic : -0.6945962511110647\n",
            "p-value : 0.8481442698275261\n",
            "#Lags Used : 13\n",
            "Number of Observations Used : 5173\n",
            " it is non-stationary \n",
            "M&M\n",
            "ADF Test Statistic : -0.6513354444657599\n",
            "p-value : 0.8589554343206693\n",
            "#Lags Used : 30\n",
            "Number of Observations Used : 4524\n",
            " it is non-stationary \n",
            "MARUTI\n",
            "ADF Test Statistic : 6.638780904948174\n",
            "p-value : 1.0\n",
            "#Lags Used : 30\n",
            "Number of Observations Used : 3616\n",
            " it is non-stationary \n",
            "MINDTREE\n",
            "ADF Test Statistic : 1.0620218289664947\n",
            "p-value : 0.9948790982261408\n",
            "#Lags Used : 18\n",
            "Number of Observations Used : 5168\n",
            " it is non-stationary \n",
            "RELIANCE\n",
            "ADF Test Statistic : -1.951517850260091\n",
            "p-value : 0.3082267240759027\n",
            "#Lags Used : 30\n",
            "Number of Observations Used : 5156\n",
            " it is non-stationary \n",
            "SAIL\n",
            "ADF Test Statistic : -1.3348107739018475\n",
            "p-value : 0.6130997488612663\n",
            "#Lags Used : 32\n",
            "Number of Observations Used : 5154\n",
            " it is non-stationary \n",
            "TATASTEEL\n",
            "ADF Test Statistic : 3.1230744928337724\n",
            "p-value : 1.0\n",
            "#Lags Used : 31\n",
            "Number of Observations Used : 4473\n",
            " it is non-stationary \n",
            "TCS\n",
            "ADF Test Statistic : 4.7243765522106465\n",
            "p-value : 1.0\n",
            "#Lags Used : 33\n",
            "Number of Observations Used : 5153\n",
            " it is non-stationary \n",
            "TITAN\n",
            "ADF Test Statistic : 1.1755673209386135\n",
            "p-value : 0.9958126520617038\n",
            "#Lags Used : 14\n",
            "Number of Observations Used : 4683\n",
            " it is non-stationary \n",
            "ULTRACEMCO\n",
            "ADF Test Statistic : 1.8050012774574782\n",
            "p-value : 0.9983588848767718\n",
            "#Lags Used : 30\n",
            "Number of Observations Used : 4782\n",
            " it is non-stationary \n",
            "VOLTAS\n",
            "ADF Test Statistic : 4.150268714483492\n",
            "p-value : 1.0\n",
            "#Lags Used : 2\n",
            "Number of Observations Used : 5184\n",
            " it is non-stationary \n",
            "WIPRO\n",
            "ADF Test Statistic : -0.3861355793903723\n",
            "p-value : 0.9123880299041663\n",
            "#Lags Used : 32\n",
            "Number of Observations Used : 5154\n",
            " it is non-stationary \n",
            "SUNPHARMA\n"
          ]
        }
      ]
    },
    {
      "cell_type": "markdown",
      "source": [
        "####Autocorrelation function (ACF)"
      ],
      "metadata": {
        "id": "j0EgFfr55Gh_"
      }
    },
    {
      "cell_type": "code",
      "source": [
        "from statsmodels.graphics.tsaplots import plot_acf"
      ],
      "metadata": {
        "id": "znJDm_SJ5MH6"
      },
      "execution_count": null,
      "outputs": []
    },
    {
      "cell_type": "code",
      "source": [
        "df=df_merged.loc[(df_merged[\"Symbol\"] == company)]"
      ],
      "metadata": {
        "id": "E22v4Tvj6HwE"
      },
      "execution_count": null,
      "outputs": []
    },
    {
      "cell_type": "code",
      "source": [
        "fig,(ax1,ax2)=plt.subplots(1,2,figsize=(16,4))\n",
        "ax1.plot(df.Close)\n",
        "ax1.set_title(\"Original\")\n",
        "plot_acf(df.Close,ax=ax2);"
      ],
      "metadata": {
        "colab": {
          "base_uri": "https://localhost:8080/",
          "height": 281
        },
        "id": "r3jYMzFy5cFW",
        "outputId": "1bd6a80c-362c-4f24-d2d9-70d0df4a0956"
      },
      "execution_count": null,
      "outputs": [
        {
          "output_type": "display_data",
          "data": {
            "text/plain": [
              "<Figure size 1152x288 with 2 Axes>"
            ],
            "image/png": "[encoded data removed]"
          },
          "metadata": {
            "needs_background": "light"
          }
        }
      ]
    },
    {
      "cell_type": "code",
      "source": [
        "diff=df.Close.diff().dropna()\n",
        "fig,(ax1,ax2)=plt.subplots(1,2,figsize=(16,4))\n",
        "ax1.plot(diff)\n",
        "ax1.set_title(\"Original\")\n",
        "plot_acf(diff,ax=ax2);"
      ],
      "metadata": {
        "colab": {
          "base_uri": "https://localhost:8080/",
          "height": 281
        },
        "id": "Nn_aTEZi6X3J",
        "outputId": "6910dba4-70f5-4833-84e3-ea849d49c231"
      },
      "execution_count": null,
      "outputs": [
        {
          "output_type": "display_data",
          "data": {
            "text/plain": [
              "<Figure size 1152x288 with 2 Axes>"
            ],
            "image/png": "[encoded data removed]"
          },
          "metadata": {
            "needs_background": "light"
          }
        }
      ]
    },
    {
      "cell_type": "code",
      "source": [
        "#pmdarima package to get the number of differencing\n",
        "pip install pmdarima"
      ],
      "metadata": {
        "colab": {
          "base_uri": "https://localhost:8080/",
          "height": 572
        },
        "id": "rC_Xwtix6vxT",
        "outputId": "aab491fe-2b7d-425f-9404-9d8ba176183d"
      },
      "execution_count": null,
      "outputs": [
        {
          "output_type": "stream",
          "name": "stdout",
          "text": [
            "Collecting pmdarima\n",
            "  Downloading pmdarima-1.8.5-cp37-cp37m-manylinux_2_17_x86_64.manylinux2014_x86_64.manylinux_2_24_x86_64.whl (1.4 MB)\n",
            "\u001b[?25l\r\u001b[K     |▎                               | 10 kB 12.8 MB/s eta 0:00:01\r\u001b[K     |▌                               | 20 kB 16.2 MB/s eta 0:00:01\r\u001b[K     |▊                               | 30 kB 19.2 MB/s eta 0:00:01\r\u001b[K     |█                               | 40 kB 21.2 MB/s eta 0:00:01\r\u001b[K     |█▏                              | 51 kB 22.4 MB/s eta 0:00:01\r\u001b[K     |█▍                              | 61 kB 24.2 MB/s eta 0:00:01\r\u001b[K     |█▋                              | 71 kB 13.1 MB/s eta 0:00:01\r\u001b[K     |██                              | 81 kB 13.7 MB/s eta 0:00:01\r\u001b[K     |██▏                             | 92 kB 14.8 MB/s eta 0:00:01\r\u001b[K     |██▍                             | 102 kB 15.5 MB/s eta 0:00:01\r\u001b[K     |██▋                             | 112 kB 15.5 MB/s eta 0:00:01\r\u001b[K     |██▉                             | 122 kB 15.5 MB/s eta 0:00:01\r\u001b[K     |███                             | 133 kB 15.5 MB/s eta 0:00:01\r\u001b[K     |███▎                            | 143 kB 15.5 MB/s eta 0:00:01\r\u001b[K     |███▌                            | 153 kB 15.5 MB/s eta 0:00:01\r\u001b[K     |███▉                            | 163 kB 15.5 MB/s eta 0:00:01\r\u001b[K     |████                            | 174 kB 15.5 MB/s eta 0:00:01\r\u001b[K     |████▎                           | 184 kB 15.5 MB/s eta 0:00:01\r\u001b[K     |████▌                           | 194 kB 15.5 MB/s eta 0:00:01\r\u001b[K     |████▊                           | 204 kB 15.5 MB/s eta 0:00:01\r\u001b[K     |█████                           | 215 kB 15.5 MB/s eta 0:00:01\r\u001b[K     |█████▏                          | 225 kB 15.5 MB/s eta 0:00:01\r\u001b[K     |█████▍                          | 235 kB 15.5 MB/s eta 0:00:01\r\u001b[K     |█████▊                          | 245 kB 15.5 MB/s eta 0:00:01\r\u001b[K     |██████                          | 256 kB 15.5 MB/s eta 0:00:01\r\u001b[K     |██████▏                         | 266 kB 15.5 MB/s eta 0:00:01\r\u001b[K     |██████▍                         | 276 kB 15.5 MB/s eta 0:00:01\r\u001b[K     |██████▋                         | 286 kB 15.5 MB/s eta 0:00:01\r\u001b[K     |██████▉                         | 296 kB 15.5 MB/s eta 0:00:01\r\u001b[K     |███████                         | 307 kB 15.5 MB/s eta 0:00:01\r\u001b[K     |███████▎                        | 317 kB 15.5 MB/s eta 0:00:01\r\u001b[K     |███████▋                        | 327 kB 15.5 MB/s eta 0:00:01\r\u001b[K     |███████▉                        | 337 kB 15.5 MB/s eta 0:00:01\r\u001b[K     |████████                        | 348 kB 15.5 MB/s eta 0:00:01\r\u001b[K     |████████▎                       | 358 kB 15.5 MB/s eta 0:00:01\r\u001b[K     |████████▌                       | 368 kB 15.5 MB/s eta 0:00:01\r\u001b[K     |████████▊                       | 378 kB 15.5 MB/s eta 0:00:01\r\u001b[K     |█████████                       | 389 kB 15.5 MB/s eta 0:00:01\r\u001b[K     |█████████▎                      | 399 kB 15.5 MB/s eta 0:00:01\r\u001b[K     |█████████▌                      | 409 kB 15.5 MB/s eta 0:00:01\r\u001b[K     |█████████▊                      | 419 kB 15.5 MB/s eta 0:00:01\r\u001b[K     |██████████                      | 430 kB 15.5 MB/s eta 0:00:01\r\u001b[K     |██████████▏                     | 440 kB 15.5 MB/s eta 0:00:01\r\u001b[K     |██████████▍                     | 450 kB 15.5 MB/s eta 0:00:01\r\u001b[K     |██████████▋                     | 460 kB 15.5 MB/s eta 0:00:01\r\u001b[K     |██████████▉                     | 471 kB 15.5 MB/s eta 0:00:01\r\u001b[K     |███████████▏                    | 481 kB 15.5 MB/s eta 0:00:01\r\u001b[K     |███████████▍                    | 491 kB 15.5 MB/s eta 0:00:01\r\u001b[K     |███████████▋                    | 501 kB 15.5 MB/s eta 0:00:01\r\u001b[K     |███████████▉                    | 512 kB 15.5 MB/s eta 0:00:01\r\u001b[K     |████████████                    | 522 kB 15.5 MB/s eta 0:00:01\r\u001b[K     |████████████▎                   | 532 kB 15.5 MB/s eta 0:00:01\r\u001b[K     |████████████▌                   | 542 kB 15.5 MB/s eta 0:00:01\r\u001b[K     |████████████▊                   | 552 kB 15.5 MB/s eta 0:00:01\r\u001b[K     |█████████████                   | 563 kB 15.5 MB/s eta 0:00:01\r\u001b[K     |█████████████▎                  | 573 kB 15.5 MB/s eta 0:00:01\r\u001b[K     |█████████████▌                  | 583 kB 15.5 MB/s eta 0:00:01\r\u001b[K     |█████████████▊                  | 593 kB 15.5 MB/s eta 0:00:01\r\u001b[K     |██████████████                  | 604 kB 15.5 MB/s eta 0:00:01\r\u001b[K     |██████████████▏                 | 614 kB 15.5 MB/s eta 0:00:01\r\u001b[K     |██████████████▍                 | 624 kB 15.5 MB/s eta 0:00:01\r\u001b[K     |██████████████▋                 | 634 kB 15.5 MB/s eta 0:00:01\r\u001b[K     |███████████████                 | 645 kB 15.5 MB/s eta 0:00:01\r\u001b[K     |███████████████▏                | 655 kB 15.5 MB/s eta 0:00:01\r\u001b[K     |███████████████▍                | 665 kB 15.5 MB/s eta 0:00:01\r\u001b[K     |███████████████▋                | 675 kB 15.5 MB/s eta 0:00:01\r\u001b[K     |███████████████▉                | 686 kB 15.5 MB/s eta 0:00:01\r\u001b[K     |████████████████                | 696 kB 15.5 MB/s eta 0:00:01\r\u001b[K     |████████████████▎               | 706 kB 15.5 MB/s eta 0:00:01\r\u001b[K     |████████████████▋               | 716 kB 15.5 MB/s eta 0:00:01\r\u001b[K     |████████████████▉               | 727 kB 15.5 MB/s eta 0:00:01\r\u001b[K     |█████████████████               | 737 kB 15.5 MB/s eta 0:00:01\r\u001b[K     |█████████████████▎              | 747 kB 15.5 MB/s eta 0:00:01\r\u001b[K     |█████████████████▌              | 757 kB 15.5 MB/s eta 0:00:01\r\u001b[K     |█████████████████▊              | 768 kB 15.5 MB/s eta 0:00:01\r\u001b[K     |██████████████████              | 778 kB 15.5 MB/s eta 0:00:01\r\u001b[K     |██████████████████▏             | 788 kB 15.5 MB/s eta 0:00:01\r\u001b[K     |██████████████████▌             | 798 kB 15.5 MB/s eta 0:00:01\r\u001b[K     |██████████████████▊             | 808 kB 15.5 MB/s eta 0:00:01\r\u001b[K     |███████████████████             | 819 kB 15.5 MB/s eta 0:00:01\r\u001b[K     |███████████████████▏            | 829 kB 15.5 MB/s eta 0:00:01\r\u001b[K     |███████████████████▍            | 839 kB 15.5 MB/s eta 0:00:01\r\u001b[K     |███████████████████▋            | 849 kB 15.5 MB/s eta 0:00:01\r\u001b[K     |███████████████████▉            | 860 kB 15.5 MB/s eta 0:00:01\r\u001b[K     |████████████████████            | 870 kB 15.5 MB/s eta 0:00:01\r\u001b[K     |████████████████████▍           | 880 kB 15.5 MB/s eta 0:00:01\r\u001b[K     |████████████████████▋           | 890 kB 15.5 MB/s eta 0:00:01\r\u001b[K     |████████████████████▉           | 901 kB 15.5 MB/s eta 0:00:01\r\u001b[K     |█████████████████████           | 911 kB 15.5 MB/s eta 0:00:01\r\u001b[K     |█████████████████████▎          | 921 kB 15.5 MB/s eta 0:00:01\r\u001b[K     |█████████████████████▌          | 931 kB 15.5 MB/s eta 0:00:01\r\u001b[K     |█████████████████████▊          | 942 kB 15.5 MB/s eta 0:00:01\r\u001b[K     |██████████████████████          | 952 kB 15.5 MB/s eta 0:00:01\r\u001b[K     |██████████████████████▎         | 962 kB 15.5 MB/s eta 0:00:01\r\u001b[K     |██████████████████████▌         | 972 kB 15.5 MB/s eta 0:00:01\r\u001b[K     |██████████████████████▊         | 983 kB 15.5 MB/s eta 0:00:01\r\u001b[K     |███████████████████████         | 993 kB 15.5 MB/s eta 0:00:01\r\u001b[K     |███████████████████████▏        | 1.0 MB 15.5 MB/s eta 0:00:01\r\u001b[K     |███████████████████████▍        | 1.0 MB 15.5 MB/s eta 0:00:01\r\u001b[K     |███████████████████████▋        | 1.0 MB 15.5 MB/s eta 0:00:01\r\u001b[K     |████████████████████████        | 1.0 MB 15.5 MB/s eta 0:00:01\r\u001b[K     |████████████████████████▏       | 1.0 MB 15.5 MB/s eta 0:00:01\r\u001b[K     |████████████████████████▍       | 1.1 MB 15.5 MB/s eta 0:00:01\r\u001b[K     |████████████████████████▋       | 1.1 MB 15.5 MB/s eta 0:00:01\r\u001b[K     |████████████████████████▉       | 1.1 MB 15.5 MB/s eta 0:00:01\r\u001b[K     |█████████████████████████       | 1.1 MB 15.5 MB/s eta 0:00:01\r\u001b[K     |█████████████████████████▎      | 1.1 MB 15.5 MB/s eta 0:00:01\r\u001b[K     |█████████████████████████▌      | 1.1 MB 15.5 MB/s eta 0:00:01\r\u001b[K     |█████████████████████████▉      | 1.1 MB 15.5 MB/s eta 0:00:01\r\u001b[K     |██████████████████████████      | 1.1 MB 15.5 MB/s eta 0:00:01\r\u001b[K     |██████████████████████████▎     | 1.1 MB 15.5 MB/s eta 0:00:01\r\u001b[K     |██████████████████████████▌     | 1.1 MB 15.5 MB/s eta 0:00:01\r\u001b[K     |██████████████████████████▊     | 1.2 MB 15.5 MB/s eta 0:00:01\r\u001b[K     |███████████████████████████     | 1.2 MB 15.5 MB/s eta 0:00:01\r\u001b[K     |███████████████████████████▏    | 1.2 MB 15.5 MB/s eta 0:00:01\r\u001b[K     |███████████████████████████▍    | 1.2 MB 15.5 MB/s eta 0:00:01\r\u001b[K     |███████████████████████████▊    | 1.2 MB 15.5 MB/s eta 0:00:01\r\u001b[K     |████████████████████████████    | 1.2 MB 15.5 MB/s eta 0:00:01\r\u001b[K     |████████████████████████████▏   | 1.2 MB 15.5 MB/s eta 0:00:01\r\u001b[K     |████████████████████████████▍   | 1.2 MB 15.5 MB/s eta 0:00:01\r\u001b[K     |████████████████████████████▋   | 1.2 MB 15.5 MB/s eta 0:00:01\r\u001b[K     |████████████████████████████▉   | 1.2 MB 15.5 MB/s eta 0:00:01\r\u001b[K     |█████████████████████████████   | 1.3 MB 15.5 MB/s eta 0:00:01\r\u001b[K     |█████████████████████████████▎  | 1.3 MB 15.5 MB/s eta 0:00:01\r\u001b[K     |█████████████████████████████▋  | 1.3 MB 15.5 MB/s eta 0:00:01\r\u001b[K     |█████████████████████████████▉  | 1.3 MB 15.5 MB/s eta 0:00:01\r\u001b[K     |██████████████████████████████  | 1.3 MB 15.5 MB/s eta 0:00:01\r\u001b[K     |██████████████████████████████▎ | 1.3 MB 15.5 MB/s eta 0:00:01\r\u001b[K     |██████████████████████████████▌ | 1.3 MB 15.5 MB/s eta 0:00:01\r\u001b[K     |██████████████████████████████▊ | 1.3 MB 15.5 MB/s eta 0:00:01\r\u001b[K     |███████████████████████████████ | 1.3 MB 15.5 MB/s eta 0:00:01\r\u001b[K     |███████████████████████████████▎| 1.4 MB 15.5 MB/s eta 0:00:01\r\u001b[K     |███████████████████████████████▌| 1.4 MB 15.5 MB/s eta 0:00:01\r\u001b[K     |███████████████████████████████▊| 1.4 MB 15.5 MB/s eta 0:00:01\r\u001b[K     |████████████████████████████████| 1.4 MB 15.5 MB/s eta 0:00:01\r\u001b[K     |████████████████████████████████| 1.4 MB 15.5 MB/s \n",
            "\u001b[?25hRequirement already satisfied: scikit-learn>=0.22 in /usr/local/lib/python3.7/dist-packages (from pmdarima) (1.0.2)\n",
            "Requirement already satisfied: joblib>=0.11 in /usr/local/lib/python3.7/dist-packages (from pmdarima) (1.1.0)\n",
            "Requirement already satisfied: Cython!=0.29.18,>=0.29 in /usr/local/lib/python3.7/dist-packages (from pmdarima) (0.29.28)\n",
            "Requirement already satisfied: setuptools!=50.0.0,>=38.6.0 in /usr/local/lib/python3.7/dist-packages (from pmdarima) (57.4.0)\n",
            "Requirement already satisfied: urllib3 in /usr/local/lib/python3.7/dist-packages (from pmdarima) (1.24.3)\n",
            "Requirement already satisfied: pandas>=0.19 in /usr/local/lib/python3.7/dist-packages (from pmdarima) (1.3.5)\n",
            "Requirement already satisfied: scipy>=1.3.2 in /usr/local/lib/python3.7/dist-packages (from pmdarima) (1.4.1)\n",
            "Collecting statsmodels!=0.12.0,>=0.11\n",
            "  Downloading statsmodels-0.13.2-cp37-cp37m-manylinux_2_17_x86_64.manylinux2014_x86_64.whl (9.8 MB)\n",
            "\u001b[K     |████████████████████████████████| 9.8 MB 25.6 MB/s \n",
            "\u001b[?25hRequirement already satisfied: numpy>=1.19.3 in /usr/local/lib/python3.7/dist-packages (from pmdarima) (1.21.5)\n",
            "Requirement already satisfied: pytz>=2017.3 in /usr/local/lib/python3.7/dist-packages (from pandas>=0.19->pmdarima) (2018.9)\n",
            "Requirement already satisfied: python-dateutil>=2.7.3 in /usr/local/lib/python3.7/dist-packages (from pandas>=0.19->pmdarima) (2.8.2)\n",
            "Requirement already satisfied: six>=1.5 in /usr/local/lib/python3.7/dist-packages (from python-dateutil>=2.7.3->pandas>=0.19->pmdarima) (1.15.0)\n",
            "Requirement already satisfied: threadpoolctl>=2.0.0 in /usr/local/lib/python3.7/dist-packages (from scikit-learn>=0.22->pmdarima) (3.1.0)\n",
            "Requirement already satisfied: packaging>=21.3 in /usr/local/lib/python3.7/dist-packages (from statsmodels!=0.12.0,>=0.11->pmdarima) (21.3)\n",
            "Requirement already satisfied: patsy>=0.5.2 in /usr/local/lib/python3.7/dist-packages (from statsmodels!=0.12.0,>=0.11->pmdarima) (0.5.2)\n",
            "Requirement already satisfied: pyparsing!=3.0.5,>=2.0.2 in /usr/local/lib/python3.7/dist-packages (from packaging>=21.3->statsmodels!=0.12.0,>=0.11->pmdarima) (3.0.7)\n",
            "Installing collected packages: statsmodels, pmdarima\n",
            "  Attempting uninstall: statsmodels\n",
            "    Found existing installation: statsmodels 0.10.2\n",
            "    Uninstalling statsmodels-0.10.2:\n",
            "      Successfully uninstalled statsmodels-0.10.2\n",
            "Successfully installed pmdarima-1.8.5 statsmodels-0.13.2\n"
          ]
        },
        {
          "output_type": "display_data",
          "data": {
            "application/vnd.colab-display-data+json": {
              "pip_warning": {
                "packages": [
                  "statsmodels"
                ]
              }
            }
          },
          "metadata": {}
        }
      ]
    },
    {
      "cell_type": "code",
      "source": [
        "from pmdarima.arima.utils import ndiffs"
      ],
      "metadata": {
        "id": "k9d7OZVA7k7a",
        "colab": {
          "base_uri": "https://localhost:8080/",
          "height": 305
        },
        "outputId": "5a267b65-edae-4ddb-d309-29db183ce6c7"
      },
      "execution_count": 1,
      "outputs": [
        {
          "output_type": "error",
          "ename": "ModuleNotFoundError",
          "evalue": "ignored",
          "traceback": [
            "\u001b[0;31m---------------------------------------------------------------------------\u001b[0m",
            "\u001b[0;31mModuleNotFoundError\u001b[0m                       Traceback (most recent call last)",
            "\u001b[0;32m<ipython-input-1-7974cc86200d>\u001b[0m in \u001b[0;36m<module>\u001b[0;34m()\u001b[0m\n\u001b[0;32m----> 1\u001b[0;31m \u001b[0;32mfrom\u001b[0m \u001b[0mpmdarima\u001b[0m\u001b[0;34m.\u001b[0m\u001b[0marima\u001b[0m\u001b[0;34m.\u001b[0m\u001b[0mutils\u001b[0m \u001b[0;32mimport\u001b[0m \u001b[0mndiffs\u001b[0m\u001b[0;34m\u001b[0m\u001b[0;34m\u001b[0m\u001b[0m\n\u001b[0m",
            "\u001b[0;31mModuleNotFoundError\u001b[0m: No module named 'pmdarima'",
            "",
            "\u001b[0;31m---------------------------------------------------------------------------\u001b[0;32m\nNOTE: If your import is failing due to a missing package, you can\nmanually install dependencies using either !pip or !apt.\n\nTo view examples of installing some common dependencies, click the\n\"Open Examples\" button below.\n\u001b[0;31m---------------------------------------------------------------------------\u001b[0m\n"
          ],
          "errorDetails": {
            "actions": [
              {
                "action": "open_url",
                "actionText": "Open Examples",
                "url": "/notebooks/snippets/importing_libraries.ipynb"
              }
            ]
          }
        }
      ]
    },
    {
      "cell_type": "code",
      "source": [
        "ndiffs(df.Close,test=\"adf\")"
      ],
      "metadata": {
        "colab": {
          "base_uri": "https://localhost:8080/"
        },
        "id": "f8NgrLM27xf3",
        "outputId": "248eef1b-3b4d-433c-b249-9a743ab94930"
      },
      "execution_count": null,
      "outputs": [
        {
          "output_type": "execute_result",
          "data": {
            "text/plain": [
              "1"
            ]
          },
          "metadata": {},
          "execution_count": 25
        }
      ]
    },
    {
      "cell_type": "code",
      "source": [
        "# we can decompose the series using the following code.\n",
        "result = seasonal_decompose(df, model='multiplicative',period=10)\n",
        "fig = plt.figure()  \n",
        "fig = result.plot()  \n",
        "fig.set_size_inches(16, 9)"
      ],
      "metadata": {
        "colab": {
          "base_uri": "https://localhost:8080/",
          "height": 606
        },
        "id": "KGtFXON2OEqh",
        "outputId": "dbbe6370-fa45-4ca9-9944-2ebb5046cb06"
      },
      "execution_count": null,
      "outputs": [
        {
          "output_type": "display_data",
          "data": {
            "text/plain": [
              "<Figure size 432x288 with 0 Axes>"
            ]
          },
          "metadata": {}
        },
        {
          "output_type": "display_data",
          "data": {
            "text/plain": [
              "<Figure size 1152x648 with 4 Axes>"
            ],
            "image/png": "[encoded data removed]"
          },
          "metadata": {
            "needs_background": "light"
          }
        }
      ]
    },
    {
      "cell_type": "markdown",
      "source": [
        "####Partial Autocorelation (PACF)"
      ],
      "metadata": {
        "id": "qbZwnzGB8yVH"
      }
    },
    {
      "cell_type": "code",
      "source": [
        "from statsmodels.graphics.tsaplots import plot_pacf"
      ],
      "metadata": {
        "id": "KnI1KKsa8TiB"
      },
      "execution_count": null,
      "outputs": []
    },
    {
      "cell_type": "code",
      "source": [
        "diff=df.Close.diff().dropna()\n",
        "fig,(ax1,ax2)=plt.subplots(1,2,figsize=(16,4))\n",
        "ax1.plot(diff)\n",
        "ax1.set_title(\"Difference\")\n",
        "ax2.set_ylim(0,1)\n",
        "plot_pacf(diff,ax=ax2);"
      ],
      "metadata": {
        "colab": {
          "base_uri": "https://localhost:8080/",
          "height": 336
        },
        "id": "BZk9_JAY9HHK",
        "outputId": "4854144d-faae-4af7-917e-6263c6402b36"
      },
      "execution_count": null,
      "outputs": [
        {
          "output_type": "stream",
          "name": "stderr",
          "text": [
            "/usr/local/lib/python3.7/dist-packages/statsmodels/graphics/tsaplots.py:353: FutureWarning: The default method 'yw' can produce PACF values outside of the [-1,1] interval. After 0.13, the default will change tounadjusted Yule-Walker ('ywm'). You can use this method now by setting method='ywm'.\n",
            "  FutureWarning,\n"
          ]
        },
        {
          "output_type": "display_data",
          "data": {
            "text/plain": [
              "<Figure size 1152x288 with 2 Axes>"
            ],
            "image/png": "[encoded data removed]"
          },
          "metadata": {
            "needs_background": "light"
          }
        }
      ]
    },
    {
      "cell_type": "code",
      "source": [
        "df=df[\"Close\"]"
      ],
      "metadata": {
        "id": "FDJKTejyGTul"
      },
      "execution_count": 30,
      "outputs": []
    },
    {
      "cell_type": "code",
      "source": [
        "#split data into train and training set\n",
        "training_size=int(len(df)*0.95)\n",
        "test_size=len(df)-training_size\n",
        "train_data,test_data=df[0:training_size],df[training_size:len(df)]\n",
        "plt.figure(figsize=(10,6))\n",
        "plt.grid(True)\n",
        "plt.xlabel('Dates')\n",
        "plt.ylabel('Closing Prices')\n",
        "plt.plot(train_data, 'green', label='Train data')\n",
        "plt.plot(test_data, 'blue', label='Test data')\n",
        "plt.legend()"
      ],
      "metadata": {
        "colab": {
          "base_uri": "https://localhost:8080/",
          "height": 405
        },
        "id": "ingGA4wLEIs_",
        "outputId": "024afae2-9bc7-4370-8b36-f2eec14a9e89"
      },
      "execution_count": 31,
      "outputs": [
        {
          "output_type": "execute_result",
          "data": {
            "text/plain": [
              "<matplotlib.legend.Legend at 0x7f77d758b810>"
            ]
          },
          "metadata": {},
          "execution_count": 31
        },
        {
          "output_type": "display_data",
          "data": {
            "text/plain": [
              "<Figure size 720x432 with 1 Axes>"
            ],
            "image/png": "[encoded data removed]"
          },
          "metadata": {
            "needs_background": "light"
          }
        }
      ]
    },
    {
      "cell_type": "code",
      "source": [
        "test_data"
      ],
      "metadata": {
        "colab": {
          "base_uri": "https://localhost:8080/"
        },
        "id": "YOpvhX3O9_yt",
        "outputId": "5abf1c9e-e65d-490c-ad25-d437476d9fff"
      },
      "execution_count": 32,
      "outputs": [
        {
          "output_type": "execute_result",
          "data": {
            "text/plain": [
              "57570    1164.550049\n",
              "57571    1154.599976\n",
              "57572    1165.699951\n",
              "57573    1159.199951\n",
              "57574    1189.800049\n",
              "            ...     \n",
              "57825    1863.500000\n",
              "57826    1866.150024\n",
              "57827    1888.000000\n",
              "57828    1885.550049\n",
              "57829    1892.849976\n",
              "Name: Close, Length: 260, dtype: float64"
            ]
          },
          "metadata": {},
          "execution_count": 32
        }
      ]
    },
    {
      "cell_type": "code",
      "source": [
        "from statsmodels.tsa.seasonal import seasonal_decompose"
      ],
      "metadata": {
        "id": "cO-qZ3QgOaqB"
      },
      "execution_count": 32,
      "outputs": []
    },
    {
      "cell_type": "code",
      "source": [
        "import pmdarima "
      ],
      "metadata": {
        "colab": {
          "base_uri": "https://localhost:8080/",
          "height": 450
        },
        "id": "F9CY96Rp-bs3",
        "outputId": "b05760a8-5bc5-4b4d-d312-9a97f35780fa"
      },
      "execution_count": 37,
      "outputs": [
        {
          "output_type": "error",
          "ename": "ImportError",
          "evalue": "ignored",
          "traceback": [
            "\u001b[0;31m---------------------------------------------------------------------------\u001b[0m",
            "\u001b[0;31mImportError\u001b[0m                               Traceback (most recent call last)",
            "\u001b[0;32m<ipython-input-37-bb1add42f298>\u001b[0m in \u001b[0;36m<module>\u001b[0;34m()\u001b[0m\n\u001b[0;32m----> 1\u001b[0;31m \u001b[0;32mimport\u001b[0m \u001b[0mpmdarima\u001b[0m\u001b[0;34m\u001b[0m\u001b[0;34m\u001b[0m\u001b[0m\n\u001b[0m",
            "\u001b[0;32m/usr/local/lib/python3.7/dist-packages/pmdarima/__init__.py\u001b[0m in \u001b[0;36m<module>\u001b[0;34m()\u001b[0m\n\u001b[1;32m     50\u001b[0m \u001b[0;34m\u001b[0m\u001b[0m\n\u001b[1;32m     51\u001b[0m     \u001b[0;31m# Stuff we want at top-level\u001b[0m\u001b[0;34m\u001b[0m\u001b[0;34m\u001b[0m\u001b[0;34m\u001b[0m\u001b[0m\n\u001b[0;32m---> 52\u001b[0;31m     \u001b[0;32mfrom\u001b[0m \u001b[0;34m.\u001b[0m\u001b[0marima\u001b[0m \u001b[0;32mimport\u001b[0m \u001b[0mauto_arima\u001b[0m\u001b[0;34m,\u001b[0m \u001b[0mARIMA\u001b[0m\u001b[0;34m,\u001b[0m \u001b[0mAutoARIMA\u001b[0m\u001b[0;34m,\u001b[0m \u001b[0mStepwiseContext\u001b[0m\u001b[0;34m,\u001b[0m \u001b[0mdecompose\u001b[0m\u001b[0;34m\u001b[0m\u001b[0;34m\u001b[0m\u001b[0m\n\u001b[0m\u001b[1;32m     53\u001b[0m     \u001b[0;32mfrom\u001b[0m \u001b[0;34m.\u001b[0m\u001b[0mutils\u001b[0m \u001b[0;32mimport\u001b[0m \u001b[0macf\u001b[0m\u001b[0;34m,\u001b[0m \u001b[0mautocorr_plot\u001b[0m\u001b[0;34m,\u001b[0m \u001b[0mc\u001b[0m\u001b[0;34m,\u001b[0m \u001b[0mpacf\u001b[0m\u001b[0;34m,\u001b[0m \u001b[0mplot_acf\u001b[0m\u001b[0;34m,\u001b[0m \u001b[0mplot_pacf\u001b[0m\u001b[0;34m,\u001b[0m\u001b[0;31m \u001b[0m\u001b[0;31m\\\u001b[0m\u001b[0;34m\u001b[0m\u001b[0;34m\u001b[0m\u001b[0m\n\u001b[1;32m     54\u001b[0m         \u001b[0mtsdisplay\u001b[0m\u001b[0;34m\u001b[0m\u001b[0;34m\u001b[0m\u001b[0m\n",
            "\u001b[0;32m/usr/local/lib/python3.7/dist-packages/pmdarima/arima/__init__.py\u001b[0m in \u001b[0;36m<module>\u001b[0;34m()\u001b[0m\n\u001b[1;32m      3\u001b[0m \u001b[0;31m# Author: Taylor Smith <taylor.smith@alkaline-ml.com>\u001b[0m\u001b[0;34m\u001b[0m\u001b[0;34m\u001b[0m\u001b[0;34m\u001b[0m\u001b[0m\n\u001b[1;32m      4\u001b[0m \u001b[0;34m\u001b[0m\u001b[0m\n\u001b[0;32m----> 5\u001b[0;31m \u001b[0;32mfrom\u001b[0m \u001b[0;34m.\u001b[0m\u001b[0mapprox\u001b[0m \u001b[0;32mimport\u001b[0m \u001b[0;34m*\u001b[0m\u001b[0;34m\u001b[0m\u001b[0;34m\u001b[0m\u001b[0m\n\u001b[0m\u001b[1;32m      6\u001b[0m \u001b[0;32mfrom\u001b[0m \u001b[0;34m.\u001b[0m\u001b[0marima\u001b[0m \u001b[0;32mimport\u001b[0m \u001b[0;34m*\u001b[0m\u001b[0;34m\u001b[0m\u001b[0;34m\u001b[0m\u001b[0m\n\u001b[1;32m      7\u001b[0m \u001b[0;32mfrom\u001b[0m \u001b[0;34m.\u001b[0m\u001b[0mauto\u001b[0m \u001b[0;32mimport\u001b[0m \u001b[0;34m*\u001b[0m\u001b[0;34m\u001b[0m\u001b[0;34m\u001b[0m\u001b[0m\n",
            "\u001b[0;32m/usr/local/lib/python3.7/dist-packages/pmdarima/arima/approx.py\u001b[0m in \u001b[0;36m<module>\u001b[0;34m()\u001b[0m\n\u001b[1;32m      8\u001b[0m \u001b[0;34m\u001b[0m\u001b[0m\n\u001b[1;32m      9\u001b[0m \u001b[0;32mfrom\u001b[0m \u001b[0;34m.\u001b[0m\u001b[0;34m.\u001b[0m\u001b[0mutils\u001b[0m\u001b[0;34m.\u001b[0m\u001b[0marray\u001b[0m \u001b[0;32mimport\u001b[0m \u001b[0mc\u001b[0m\u001b[0;34m,\u001b[0m \u001b[0mcheck_endog\u001b[0m\u001b[0;34m\u001b[0m\u001b[0;34m\u001b[0m\u001b[0m\n\u001b[0;32m---> 10\u001b[0;31m \u001b[0;32mfrom\u001b[0m \u001b[0;34m.\u001b[0m\u001b[0;34m.\u001b[0m\u001b[0mutils\u001b[0m \u001b[0;32mimport\u001b[0m \u001b[0mget_callable\u001b[0m\u001b[0;34m\u001b[0m\u001b[0;34m\u001b[0m\u001b[0m\n\u001b[0m\u001b[1;32m     11\u001b[0m \u001b[0;32mfrom\u001b[0m \u001b[0;34m.\u001b[0m\u001b[0;34m.\u001b[0m\u001b[0mcompat\u001b[0m\u001b[0;34m.\u001b[0m\u001b[0mnumpy\u001b[0m \u001b[0;32mimport\u001b[0m \u001b[0mDTYPE\u001b[0m\u001b[0;34m\u001b[0m\u001b[0;34m\u001b[0m\u001b[0m\n\u001b[1;32m     12\u001b[0m \u001b[0;34m\u001b[0m\u001b[0m\n",
            "\u001b[0;32m/usr/local/lib/python3.7/dist-packages/pmdarima/utils/__init__.py\u001b[0m in \u001b[0;36m<module>\u001b[0;34m()\u001b[0m\n\u001b[1;32m      5\u001b[0m \u001b[0;32mfrom\u001b[0m \u001b[0;34m.\u001b[0m\u001b[0marray\u001b[0m \u001b[0;32mimport\u001b[0m \u001b[0;34m*\u001b[0m\u001b[0;34m\u001b[0m\u001b[0;34m\u001b[0m\u001b[0m\n\u001b[1;32m      6\u001b[0m \u001b[0;32mfrom\u001b[0m \u001b[0;34m.\u001b[0m\u001b[0mmetaestimators\u001b[0m \u001b[0;32mimport\u001b[0m \u001b[0;34m*\u001b[0m\u001b[0;34m\u001b[0m\u001b[0;34m\u001b[0m\u001b[0m\n\u001b[0;32m----> 7\u001b[0;31m \u001b[0;32mfrom\u001b[0m \u001b[0;34m.\u001b[0m\u001b[0mvisualization\u001b[0m \u001b[0;32mimport\u001b[0m \u001b[0;34m*\u001b[0m\u001b[0;34m\u001b[0m\u001b[0;34m\u001b[0m\u001b[0m\n\u001b[0m\u001b[1;32m      8\u001b[0m \u001b[0;32mfrom\u001b[0m \u001b[0;34m.\u001b[0m\u001b[0mwrapped\u001b[0m \u001b[0;32mimport\u001b[0m \u001b[0;34m*\u001b[0m\u001b[0;34m\u001b[0m\u001b[0;34m\u001b[0m\u001b[0m\n\u001b[1;32m      9\u001b[0m \u001b[0;34m\u001b[0m\u001b[0m\n",
            "\u001b[0;32m/usr/local/lib/python3.7/dist-packages/pmdarima/utils/visualization.py\u001b[0m in \u001b[0;36m<module>\u001b[0;34m()\u001b[0m\n\u001b[1;32m      9\u001b[0m \u001b[0;32mfrom\u001b[0m \u001b[0;34m.\u001b[0m\u001b[0;34m.\u001b[0m\u001b[0mcompat\u001b[0m\u001b[0;34m.\u001b[0m\u001b[0mmatplotlib\u001b[0m \u001b[0;32mimport\u001b[0m \u001b[0mget_compatible_pyplot\u001b[0m\u001b[0;34m\u001b[0m\u001b[0;34m\u001b[0m\u001b[0m\n\u001b[1;32m     10\u001b[0m \u001b[0;34m\u001b[0m\u001b[0m\n\u001b[0;32m---> 11\u001b[0;31m \u001b[0;32mfrom\u001b[0m \u001b[0mstatsmodels\u001b[0m\u001b[0;34m.\u001b[0m\u001b[0mgraphics\u001b[0m \u001b[0;32mimport\u001b[0m \u001b[0mtsaplots\u001b[0m\u001b[0;34m\u001b[0m\u001b[0;34m\u001b[0m\u001b[0m\n\u001b[0m\u001b[1;32m     12\u001b[0m \u001b[0;34m\u001b[0m\u001b[0m\n\u001b[1;32m     13\u001b[0m \u001b[0;32mimport\u001b[0m \u001b[0mnumpy\u001b[0m \u001b[0;32mas\u001b[0m \u001b[0mnp\u001b[0m\u001b[0;34m\u001b[0m\u001b[0;34m\u001b[0m\u001b[0m\n",
            "\u001b[0;32m/usr/local/lib/python3.7/dist-packages/statsmodels/graphics/tsaplots.py\u001b[0m in \u001b[0;36m<module>\u001b[0;34m()\u001b[0m\n\u001b[1;32m      9\u001b[0m \u001b[0;34m\u001b[0m\u001b[0m\n\u001b[1;32m     10\u001b[0m \u001b[0;32mfrom\u001b[0m \u001b[0mstatsmodels\u001b[0m\u001b[0;34m.\u001b[0m\u001b[0mgraphics\u001b[0m \u001b[0;32mimport\u001b[0m \u001b[0mutils\u001b[0m\u001b[0;34m\u001b[0m\u001b[0;34m\u001b[0m\u001b[0m\n\u001b[0;32m---> 11\u001b[0;31m \u001b[0;32mfrom\u001b[0m \u001b[0mstatsmodels\u001b[0m\u001b[0;34m.\u001b[0m\u001b[0mtsa\u001b[0m\u001b[0;34m.\u001b[0m\u001b[0mstattools\u001b[0m \u001b[0;32mimport\u001b[0m \u001b[0macf\u001b[0m\u001b[0;34m,\u001b[0m \u001b[0mpacf\u001b[0m\u001b[0;34m\u001b[0m\u001b[0;34m\u001b[0m\u001b[0m\n\u001b[0m\u001b[1;32m     12\u001b[0m \u001b[0;34m\u001b[0m\u001b[0m\n\u001b[1;32m     13\u001b[0m \u001b[0;34m\u001b[0m\u001b[0m\n",
            "\u001b[0;32m/usr/local/lib/python3.7/dist-packages/statsmodels/tsa/stattools.py\u001b[0m in \u001b[0;36m<module>\u001b[0;34m()\u001b[0m\n\u001b[1;32m      6\u001b[0m \u001b[0;32mfrom\u001b[0m \u001b[0mstatsmodels\u001b[0m\u001b[0;34m.\u001b[0m\u001b[0mcompat\u001b[0m\u001b[0;34m.\u001b[0m\u001b[0mnumpy\u001b[0m \u001b[0;32mimport\u001b[0m \u001b[0mlstsq\u001b[0m\u001b[0;34m\u001b[0m\u001b[0;34m\u001b[0m\u001b[0m\n\u001b[1;32m      7\u001b[0m \u001b[0;32mfrom\u001b[0m \u001b[0mstatsmodels\u001b[0m\u001b[0;34m.\u001b[0m\u001b[0mcompat\u001b[0m\u001b[0;34m.\u001b[0m\u001b[0mpandas\u001b[0m \u001b[0;32mimport\u001b[0m \u001b[0mdeprecate_kwarg\u001b[0m\u001b[0;34m\u001b[0m\u001b[0;34m\u001b[0m\u001b[0m\n\u001b[0;32m----> 8\u001b[0;31m \u001b[0;32mfrom\u001b[0m \u001b[0mstatsmodels\u001b[0m\u001b[0;34m.\u001b[0m\u001b[0mcompat\u001b[0m\u001b[0;34m.\u001b[0m\u001b[0mpython\u001b[0m \u001b[0;32mimport\u001b[0m \u001b[0mlzip\u001b[0m\u001b[0;34m,\u001b[0m \u001b[0mLiteral\u001b[0m\u001b[0;34m\u001b[0m\u001b[0;34m\u001b[0m\u001b[0m\n\u001b[0m\u001b[1;32m      9\u001b[0m \u001b[0;32mfrom\u001b[0m \u001b[0mstatsmodels\u001b[0m\u001b[0;34m.\u001b[0m\u001b[0mcompat\u001b[0m\u001b[0;34m.\u001b[0m\u001b[0mscipy\u001b[0m \u001b[0;32mimport\u001b[0m \u001b[0m_next_regular\u001b[0m\u001b[0;34m\u001b[0m\u001b[0;34m\u001b[0m\u001b[0m\n\u001b[1;32m     10\u001b[0m \u001b[0;34m\u001b[0m\u001b[0m\n",
            "\u001b[0;31mImportError\u001b[0m: cannot import name 'Literal' from 'statsmodels.compat.python' (/usr/local/lib/python3.7/dist-packages/statsmodels/compat/python.py)",
            "",
            "\u001b[0;31m---------------------------------------------------------------------------\u001b[0;32m\nNOTE: If your import is failing due to a missing package, you can\nmanually install dependencies using either !pip or !apt.\n\nTo view examples of installing some common dependencies, click the\n\"Open Examples\" button below.\n\u001b[0;31m---------------------------------------------------------------------------\u001b[0m\n"
          ],
          "errorDetails": {
            "actions": [
              {
                "action": "open_url",
                "actionText": "Open Examples",
                "url": "/notebooks/snippets/importing_libraries.ipynb"
              }
            ]
          }
        }
      ]
    },
    {
      "cell_type": "code",
      "source": [
        "from pmdarima.arima import auto_arima"
      ],
      "metadata": {
        "id": "Sn5D8E01HiO7"
      },
      "execution_count": 33,
      "outputs": []
    },
    {
      "cell_type": "code",
      "source": [
        "model_autoARIMA = auto_arima(train_data, start_p=0, start_q=0,\n",
        "                      test='adf',       # use adftest to find optimal 'd'\n",
        "                      max_p=3, max_q=3, # maximum p and q\n",
        "                      m=1,              # frequency of series\n",
        "                      d=None,           # let model determine 'd'\n",
        "                      seasonal=False,   # No Seasonality\n",
        "                      start_P=0, \n",
        "                      D=0, \n",
        "                      trace=True,\n",
        "                      error_action='ignore',  \n",
        "                      suppress_warnings=True, \n",
        "                      stepwise=True)\n",
        "print(model_autoARIMA.summary())\n",
        "model_autoARIMA.plot_diagnostics(figsize=(15,8))\n",
        "plt.show()"
      ],
      "metadata": {
        "colab": {
          "base_uri": "https://localhost:8080/",
          "height": 1000
        },
        "id": "ZFISe8stGssL",
        "outputId": "7b1f1472-a21d-4e43-b6ae-ab103fe69f5c"
      },
      "execution_count": 36,
      "outputs": [
        {
          "output_type": "stream",
          "name": "stdout",
          "text": [
            "Performing stepwise search to minimize aic\n",
            " ARIMA(0,1,0)(0,0,0)[0] intercept   : AIC=33906.777, Time=0.25 sec\n",
            " ARIMA(1,1,0)(0,0,0)[0] intercept   : AIC=33903.226, Time=0.40 sec\n",
            " ARIMA(0,1,1)(0,0,0)[0] intercept   : AIC=33903.132, Time=0.97 sec\n",
            " ARIMA(0,1,0)(0,0,0)[0]             : AIC=33908.891, Time=0.16 sec\n",
            " ARIMA(1,1,1)(0,0,0)[0] intercept   : AIC=33904.823, Time=1.19 sec\n",
            " ARIMA(0,1,2)(0,0,0)[0] intercept   : AIC=33904.832, Time=1.90 sec\n",
            " ARIMA(1,1,2)(0,0,0)[0] intercept   : AIC=33906.831, Time=1.34 sec\n",
            " ARIMA(0,1,1)(0,0,0)[0]             : AIC=33905.544, Time=0.25 sec\n",
            "\n",
            "Best model:  ARIMA(0,1,1)(0,0,0)[0] intercept\n",
            "Total fit time: 6.510 seconds\n",
            "                               SARIMAX Results                                \n",
            "==============================================================================\n",
            "Dep. Variable:                      y   No. Observations:                 4927\n",
            "Model:               SARIMAX(0, 1, 1)   Log Likelihood              -16948.566\n",
            "Date:                Wed, 13 Apr 2022   AIC                          33903.132\n",
            "Time:                        09:26:30   BIC                          33922.639\n",
            "Sample:                             0   HQIC                         33909.974\n",
            "                               - 4927                                         \n",
            "Covariance Type:                  opg                                         \n",
            "==============================================================================\n",
            "                 coef    std err          z      P>|z|      [0.025      0.975]\n",
            "------------------------------------------------------------------------------\n",
            "intercept      0.2183      0.105      2.071      0.038       0.012       0.425\n",
            "ma.L1         -0.0341      0.007     -5.210      0.000      -0.047      -0.021\n",
            "sigma2        57.0211      0.293    194.923      0.000      56.448      57.594\n",
            "===================================================================================\n",
            "Ljung-Box (L1) (Q):                   0.00   Jarque-Bera (JB):            180742.78\n",
            "Prob(Q):                              0.99   Prob(JB):                         0.00\n",
            "Heteroskedasticity (H):              16.94   Skew:                            -0.88\n",
            "Prob(H) (two-sided):                  0.00   Kurtosis:                        32.62\n",
            "===================================================================================\n",
            "\n",
            "Warnings:\n",
            "[1] Covariance matrix calculated using the outer product of gradients (complex-step).\n"
          ]
        },
        {
          "output_type": "display_data",
          "data": {
            "text/plain": [
              "<Figure size 1080x576 with 4 Axes>"
            ],
            "image/png": "[encoded data removed]"
          },
          "metadata": {
            "needs_background": "light"
          }
        }
      ]
    },
    {
      "cell_type": "code",
      "source": [
        "prediction, confint =model_autoARIMA.predict(n_periods=test_size, return_conf_int=True)\n",
        "prediction"
      ],
      "metadata": {
        "colab": {
          "base_uri": "https://localhost:8080/"
        },
        "id": "LRbOEBY8_52k",
        "outputId": "fc85c7ad-6d58-4d7e-d856-6eb35f914109"
      },
      "execution_count": 37,
      "outputs": [
        {
          "output_type": "execute_result",
          "data": {
            "text/plain": [
              "array([1163.58904437, 1163.80732319, 1164.02560202, 1164.24388085,\n",
              "       1164.46215967, 1164.6804385 , 1164.89871733, 1165.11699616,\n",
              "       1165.33527498, 1165.55355381, 1165.77183264, 1165.99011147,\n",
              "       1166.20839029, 1166.42666912, 1166.64494795, 1166.86322677,\n",
              "       1167.0815056 , 1167.29978443, 1167.51806326, 1167.73634208,\n",
              "       1167.95462091, 1168.17289974, 1168.39117856, 1168.60945739,\n",
              "       1168.82773622, 1169.04601505, 1169.26429387, 1169.4825727 ,\n",
              "       1169.70085153, 1169.91913036, 1170.13740918, 1170.35568801,\n",
              "       1170.57396684, 1170.79224566, 1171.01052449, 1171.22880332,\n",
              "       1171.44708215, 1171.66536097, 1171.8836398 , 1172.10191863,\n",
              "       1172.32019745, 1172.53847628, 1172.75675511, 1172.97503394,\n",
              "       1173.19331276, 1173.41159159, 1173.62987042, 1173.84814925,\n",
              "       1174.06642807, 1174.2847069 , 1174.50298573, 1174.72126455,\n",
              "       1174.93954338, 1175.15782221, 1175.37610104, 1175.59437986,\n",
              "       1175.81265869, 1176.03093752, 1176.24921635, 1176.46749517,\n",
              "       1176.685774  , 1176.90405283, 1177.12233165, 1177.34061048,\n",
              "       1177.55888931, 1177.77716814, 1177.99544696, 1178.21372579,\n",
              "       1178.43200462, 1178.65028344, 1178.86856227, 1179.0868411 ,\n",
              "       1179.30511993, 1179.52339875, 1179.74167758, 1179.95995641,\n",
              "       1180.17823524, 1180.39651406, 1180.61479289, 1180.83307172,\n",
              "       1181.05135054, 1181.26962937, 1181.4879082 , 1181.70618703,\n",
              "       1181.92446585, 1182.14274468, 1182.36102351, 1182.57930234,\n",
              "       1182.79758116, 1183.01585999, 1183.23413882, 1183.45241764,\n",
              "       1183.67069647, 1183.8889753 , 1184.10725413, 1184.32553295,\n",
              "       1184.54381178, 1184.76209061, 1184.98036943, 1185.19864826,\n",
              "       1185.41692709, 1185.63520592, 1185.85348474, 1186.07176357,\n",
              "       1186.2900424 , 1186.50832123, 1186.72660005, 1186.94487888,\n",
              "       1187.16315771, 1187.38143653, 1187.59971536, 1187.81799419,\n",
              "       1188.03627302, 1188.25455184, 1188.47283067, 1188.6911095 ,\n",
              "       1188.90938833, 1189.12766715, 1189.34594598, 1189.56422481,\n",
              "       1189.78250363, 1190.00078246, 1190.21906129, 1190.43734012,\n",
              "       1190.65561894, 1190.87389777, 1191.0921766 , 1191.31045542,\n",
              "       1191.52873425, 1191.74701308, 1191.96529191, 1192.18357073,\n",
              "       1192.40184956, 1192.62012839, 1192.83840722, 1193.05668604,\n",
              "       1193.27496487, 1193.4932437 , 1193.71152252, 1193.92980135,\n",
              "       1194.14808018, 1194.36635901, 1194.58463783, 1194.80291666,\n",
              "       1195.02119549, 1195.23947431, 1195.45775314, 1195.67603197,\n",
              "       1195.8943108 , 1196.11258962, 1196.33086845, 1196.54914728,\n",
              "       1196.76742611, 1196.98570493, 1197.20398376, 1197.42226259,\n",
              "       1197.64054141, 1197.85882024, 1198.07709907, 1198.2953779 ,\n",
              "       1198.51365672, 1198.73193555, 1198.95021438, 1199.16849321,\n",
              "       1199.38677203, 1199.60505086, 1199.82332969, 1200.04160851,\n",
              "       1200.25988734, 1200.47816617, 1200.696445  , 1200.91472382,\n",
              "       1201.13300265, 1201.35128148, 1201.5695603 , 1201.78783913,\n",
              "       1202.00611796, 1202.22439679, 1202.44267561, 1202.66095444,\n",
              "       1202.87923327, 1203.0975121 , 1203.31579092, 1203.53406975,\n",
              "       1203.75234858, 1203.9706274 , 1204.18890623, 1204.40718506,\n",
              "       1204.62546389, 1204.84374271, 1205.06202154, 1205.28030037,\n",
              "       1205.4985792 , 1205.71685802, 1205.93513685, 1206.15341568,\n",
              "       1206.3716945 , 1206.58997333, 1206.80825216, 1207.02653099,\n",
              "       1207.24480981, 1207.46308864, 1207.68136747, 1207.89964629,\n",
              "       1208.11792512, 1208.33620395, 1208.55448278, 1208.7727616 ,\n",
              "       1208.99104043, 1209.20931926, 1209.42759809, 1209.64587691,\n",
              "       1209.86415574, 1210.08243457, 1210.30071339, 1210.51899222,\n",
              "       1210.73727105, 1210.95554988, 1211.1738287 , 1211.39210753,\n",
              "       1211.61038636, 1211.82866519, 1212.04694401, 1212.26522284,\n",
              "       1212.48350167, 1212.70178049, 1212.92005932, 1213.13833815,\n",
              "       1213.35661698, 1213.5748958 , 1213.79317463, 1214.01145346,\n",
              "       1214.22973228, 1214.44801111, 1214.66628994, 1214.88456877,\n",
              "       1215.10284759, 1215.32112642, 1215.53940525, 1215.75768408,\n",
              "       1215.9759629 , 1216.19424173, 1216.41252056, 1216.63079938,\n",
              "       1216.84907821, 1217.06735704, 1217.28563587, 1217.50391469,\n",
              "       1217.72219352, 1217.94047235, 1218.15875117, 1218.37703   ,\n",
              "       1218.59530883, 1218.81358766, 1219.03186648, 1219.25014531,\n",
              "       1219.46842414, 1219.68670297, 1219.90498179, 1220.12326062])"
            ]
          },
          "metadata": {},
          "execution_count": 37
        }
      ]
    },
    {
      "cell_type": "code",
      "source": [
        "model = ARIMA(train_data, order=(1,1,2))  \n",
        "fitted = model.fit()  \n",
        "print(fitted.summary())"
      ],
      "metadata": {
        "colab": {
          "base_uri": "https://localhost:8080/"
        },
        "id": "YqyLBNzUNgzF",
        "outputId": "798cd45d-ee4f-48f0-a160-23dbd890fa35"
      },
      "execution_count": null,
      "outputs": [
        {
          "output_type": "stream",
          "name": "stderr",
          "text": [
            "/usr/local/lib/python3.7/dist-packages/statsmodels/tsa/base/tsa_model.py:471: ValueWarning: An unsupported index was provided and will be ignored when e.g. forecasting.\n",
            "  self._init_dates(dates, freq)\n",
            "/usr/local/lib/python3.7/dist-packages/statsmodels/tsa/base/tsa_model.py:471: ValueWarning: An unsupported index was provided and will be ignored when e.g. forecasting.\n",
            "  self._init_dates(dates, freq)\n",
            "/usr/local/lib/python3.7/dist-packages/statsmodels/tsa/base/tsa_model.py:471: ValueWarning: An unsupported index was provided and will be ignored when e.g. forecasting.\n",
            "  self._init_dates(dates, freq)\n",
            "/usr/local/lib/python3.7/dist-packages/statsmodels/tsa/statespace/sarimax.py:966: UserWarning: Non-stationary starting autoregressive parameters found. Using zeros as starting parameters.\n",
            "  warn('Non-stationary starting autoregressive parameters'\n",
            "/usr/local/lib/python3.7/dist-packages/statsmodels/tsa/statespace/sarimax.py:978: UserWarning: Non-invertible starting MA parameters found. Using zeros as starting parameters.\n",
            "  warn('Non-invertible starting MA parameters found.'\n"
          ]
        },
        {
          "output_type": "stream",
          "name": "stdout",
          "text": [
            "                               SARIMAX Results                                \n",
            "==============================================================================\n",
            "Dep. Variable:                  Close   No. Observations:                 4927\n",
            "Model:                 ARIMA(1, 1, 2)   Log Likelihood              -16950.654\n",
            "Date:                Wed, 06 Apr 2022   AIC                          33909.309\n",
            "Time:                        14:10:24   BIC                          33935.318\n",
            "Sample:                             0   HQIC                         33918.432\n",
            "                               - 4927                                         \n",
            "Covariance Type:                  opg                                         \n",
            "==============================================================================\n",
            "                 coef    std err          z      P>|z|      [0.025      0.975]\n",
            "------------------------------------------------------------------------------\n",
            "ar.L1         -0.0165      1.307     -0.013      0.990      -2.579       2.546\n",
            "ma.L1         -0.0164      1.307     -0.013      0.990      -2.579       2.546\n",
            "ma.L2         -0.0075      0.044     -0.172      0.864      -0.094       0.079\n",
            "sigma2        57.0677      0.294    193.943      0.000      56.491      57.644\n",
            "===================================================================================\n",
            "Ljung-Box (L1) (Q):                   0.00   Jarque-Bera (JB):            181197.03\n",
            "Prob(Q):                              0.95   Prob(JB):                         0.00\n",
            "Heteroskedasticity (H):              17.00   Skew:                            -0.88\n",
            "Prob(H) (two-sided):                  0.00   Kurtosis:                        32.66\n",
            "===================================================================================\n",
            "\n",
            "Warnings:\n",
            "[1] Covariance matrix calculated using the outer product of gradients (complex-step).\n"
          ]
        }
      ]
    },
    {
      "cell_type": "code",
      "source": [
        "import math"
      ],
      "metadata": {
        "id": "Hc4JD-pUMLtX"
      },
      "execution_count": 39,
      "outputs": []
    },
    {
      "cell_type": "code",
      "source": [
        "# report performance\n",
        "mse = mean_squared_error(test_data, prediction)\n",
        "print('MSE: '+str(mse))\n",
        "mae = mean_absolute_error(test_data, prediction)\n",
        "print('MAE: '+str(mae))\n",
        "rmse = math.sqrt(mean_squared_error(test_data, prediction))\n",
        "print('RMSE: '+str(rmse))\n",
        "mape = np.mean(np.abs(prediction - test_data)/np.abs(test_data))\n",
        "print('MAPE: '+str(mape))\n",
        "print(\"(R^2) Score:\", round(r2_score(test_data, prediction), 4))"
      ],
      "metadata": {
        "colab": {
          "base_uri": "https://localhost:8080/"
        },
        "id": "U9rP7_RcCacG",
        "outputId": "3ceb6b50-9244-4698-9367-7bdab27cd51a"
      },
      "execution_count": 42,
      "outputs": [
        {
          "output_type": "stream",
          "name": "stdout",
          "text": [
            "MSE: 138561.77819963102\n",
            "MAE: 326.05770948447116\n",
            "RMSE: 372.23887249940867\n",
            "MAPE: 0.20291054908743617\n",
            "(R^2) Score: -2.6303\n"
          ]
        }
      ]
    },
    {
      "cell_type": "code",
      "source": [
        "    print(\"Mean Absolute Error:\", round(mean_absolute_error(test_data, prediction), 4))\n",
        "    print(\"Mean Squared Error:\", round(mean_squared_error(test_data, prediction), 4))\n",
        "    print(\"Root Mean Squared Error:\", round(np.sqrt(mean_squared_error(test_data, prediction)), 4))\n",
        "    print(\"(R^2) Score:\", round(r2_score(test_data, prediction), 4))\n",
        "    errors = abs(prediction-test_data)\n",
        "    mape = 100 * (errors / test_data)\n",
        "    accuracy = 100 - np.mean(mape)\n",
        "    print('Accuracy:', round(accuracy, 2), '%.') "
      ],
      "metadata": {
        "colab": {
          "base_uri": "https://localhost:8080/"
        },
        "id": "0iWLc6nnQunw",
        "outputId": "b5ee6132-a893-44f7-c516-169ccb10b769"
      },
      "execution_count": 44,
      "outputs": [
        {
          "output_type": "stream",
          "name": "stdout",
          "text": [
            "Mean Absolute Error: 326.0577\n",
            "Mean Squared Error: 138561.7782\n",
            "Root Mean Squared Error: 372.2389\n",
            "(R^2) Score: -2.6303\n",
            "Accuracy: 79.71 %.\n"
          ]
        }
      ]
    },
    {
      "cell_type": "code",
      "source": [
        "#arima model for 25 companies\n",
        "company_list=df_merged.Symbol.unique()"
      ],
      "metadata": {
        "id": "7Sb8HHJ6RGlw"
      },
      "execution_count": null,
      "outputs": []
    },
    {
      "cell_type": "code",
      "source": [
        "for company in company_list:\n",
        "    df=df_merged.loc[(df_merged[\"Symbol\"] == company)]\n",
        "    df=df[\"Close\"]\n",
        "    print(company)\n",
        "    test_result=adfuller_test(df)\n",
        "    \n",
        "\n",
        "    training_size=int(len(df)*0.95)\n",
        "    test_size=len(df)-training_size\n",
        "    train_data,test_data=df[0:training_size],df[training_size:len(df)]\n",
        "    model_autoARIMA = auto_arima(train_data, start_p=0, start_q=0,\n",
        "                      test='adf',       # use adftest to find optimal 'd'\n",
        "                      max_p=3, max_q=3, # maximum p and q\n",
        "                      m=1,              # frequency of series\n",
        "                      d=None,           # let model determine 'd'\n",
        "                      seasonal=False,   # No Seasonality\n",
        "                      start_P=0, \n",
        "                      D=0, \n",
        "                      trace=True,\n",
        "                      error_action='ignore',  \n",
        "                      suppress_warnings=True, \n",
        "                      stepwise=True)\n",
        "    prediction =model_autoARIMA.predict(n_periods=test_size)\n",
        "    \n",
        "    mse = mean_squared_error(test_data, prediction)\n",
        "    print('MSE: '+str(mse))\n",
        "    mae = mean_absolute_error(test_data, prediction)\n",
        "    print('MAE: '+str(mae))\n",
        "    rmse = math.sqrt(mean_squared_error(test_data, prediction))\n",
        "    print('RMSE: '+str(rmse))\n",
        "    mape = np.mean(np.abs(prediction - test_data)/np.abs(test_data))\n",
        "    print('MAPE: '+str(mape))\n",
        "    print(\"(R^2) Score:\", round(r2_score(ytest, test_predict), 4))\n",
        "\n",
        "   "
      ],
      "metadata": {
        "colab": {
          "base_uri": "https://localhost:8080/",
          "height": 235
        },
        "id": "F8jDyQ6CPsEN",
        "outputId": "291ccead-cecd-4af7-dbdf-2850edfcaa3b"
      },
      "execution_count": 1,
      "outputs": [
        {
          "output_type": "error",
          "ename": "NameError",
          "evalue": "ignored",
          "traceback": [
            "\u001b[0;31m---------------------------------------------------------------------------\u001b[0m",
            "\u001b[0;31mNameError\u001b[0m                                 Traceback (most recent call last)",
            "\u001b[0;32m<ipython-input-1-c266b74f63d2>\u001b[0m in \u001b[0;36m<module>\u001b[0;34m()\u001b[0m\n\u001b[0;32m----> 1\u001b[0;31m \u001b[0;32mfor\u001b[0m \u001b[0mcompany\u001b[0m \u001b[0;32min\u001b[0m \u001b[0mcompany_list\u001b[0m\u001b[0;34m:\u001b[0m\u001b[0;34m\u001b[0m\u001b[0;34m\u001b[0m\u001b[0m\n\u001b[0m\u001b[1;32m      2\u001b[0m     \u001b[0mdf\u001b[0m\u001b[0;34m=\u001b[0m\u001b[0mdf_merged\u001b[0m\u001b[0;34m.\u001b[0m\u001b[0mloc\u001b[0m\u001b[0;34m[\u001b[0m\u001b[0;34m(\u001b[0m\u001b[0mdf_merged\u001b[0m\u001b[0;34m[\u001b[0m\u001b[0;34m\"Symbol\"\u001b[0m\u001b[0;34m]\u001b[0m \u001b[0;34m==\u001b[0m \u001b[0mcompany\u001b[0m\u001b[0;34m)\u001b[0m\u001b[0;34m]\u001b[0m\u001b[0;34m\u001b[0m\u001b[0;34m\u001b[0m\u001b[0m\n\u001b[1;32m      3\u001b[0m     \u001b[0mdf\u001b[0m\u001b[0;34m=\u001b[0m\u001b[0mdf\u001b[0m\u001b[0;34m[\u001b[0m\u001b[0;34m\"Close\"\u001b[0m\u001b[0;34m]\u001b[0m\u001b[0;34m\u001b[0m\u001b[0;34m\u001b[0m\u001b[0m\n\u001b[1;32m      4\u001b[0m     \u001b[0mprint\u001b[0m\u001b[0;34m(\u001b[0m\u001b[0mcompany\u001b[0m\u001b[0;34m)\u001b[0m\u001b[0;34m\u001b[0m\u001b[0;34m\u001b[0m\u001b[0m\n\u001b[1;32m      5\u001b[0m     \u001b[0mtest_result\u001b[0m\u001b[0;34m=\u001b[0m\u001b[0madfuller_test\u001b[0m\u001b[0;34m(\u001b[0m\u001b[0mdf\u001b[0m\u001b[0;34m)\u001b[0m\u001b[0;34m\u001b[0m\u001b[0;34m\u001b[0m\u001b[0m\n",
            "\u001b[0;31mNameError\u001b[0m: name 'company_list' is not defined"
          ]
        }
      ]
    },
    {
      "cell_type": "markdown",
      "source": [
        "### Long Short Term Memory (LSTM)"
      ],
      "metadata": {
        "id": "5aDMrIoR_jiO"
      }
    },
    {
      "cell_type": "code",
      "source": [
        "from sklearn.preprocessing import MinMaxScaler"
      ],
      "metadata": {
        "id": "1Zr1WRIpVFLU"
      },
      "execution_count": 47,
      "outputs": []
    },
    {
      "cell_type": "code",
      "source": [
        "from tensorflow.keras.models import Sequential\n",
        "from tensorflow.keras.layers import Dense\n",
        "from tensorflow.keras.layers import LSTM"
      ],
      "metadata": {
        "id": "jR5PnZyevKlU"
      },
      "execution_count": 45,
      "outputs": []
    },
    {
      "cell_type": "code",
      "source": [
        "model=Sequential()\n",
        "model.add(LSTM(100,return_sequences=True,input_shape=(150,1)))\n",
        "model.add(LSTM(100,return_sequences=True))\n",
        "model.add(LSTM(50,return_sequences=True))\n",
        "model.add(LSTM(50))\n",
        "model.add(Dense(1))\n",
        "model.compile(loss='mean_squared_error',optimizer='adam')\n",
        "model.summary()\n",
        "d={}\n",
        "\n",
        "symbol=[]\n",
        "dfp = pd.DataFrame(columns = ['Symbol','Date','Predicted closing price'])\n",
        "df4=pd.DataFrame()\n",
        "df5=pd.DataFrame()\n",
        "for company in company_list:\n",
        "    df=df_merged.loc[(df_merged[\"Symbol\"] == company)]\n",
        "    df=df.reset_index()['Close']\n",
        "    scaler=MinMaxScaler(feature_range=(0,1))\n",
        "    df1=scaler.fit_transform(np.array(df).reshape(-1,1))\n",
        "    training_size=int(len(df1)*0.9)\n",
        "    test_size=len(df1)-training_size\n",
        "    train_data,test_data=df1[0:training_size,:],df1[training_size:len(df1),:1]\n",
        "    import numpy\n",
        "# convert an array of values into a dataset matrix\n",
        "    def create_dataset(dataset, time_step=1):\n",
        "\t    dataX, dataY = [], []\n",
        "\t    for i in range(len(dataset)-time_step-1):\n",
        "\t\t    a = dataset[i:(i+time_step), 0]   ###i=0, 0,1,2,3-----99   100 \n",
        "\t\t    dataX.append(a)\n",
        "\t\t    dataY.append(dataset[i + time_step, 0])\n",
        "\t    return numpy.array(dataX), numpy.array(dataY)\n",
        "    time_step = 150\n",
        "    X_train, y_train = create_dataset(train_data, time_step)\n",
        "    X_test, ytest = create_dataset(test_data, time_step)\n",
        "    X_train =X_train.reshape(X_train.shape[0],X_train.shape[1] , 1)\n",
        "    X_test = X_test.reshape(X_test.shape[0],X_test.shape[1] , 1)\n",
        "\n",
        "    model.fit(X_train,y_train,validation_data=(X_test,ytest),epochs=1,batch_size=64,verbose=1)\n",
        "    train_predict=model.predict(X_train)\n",
        "    test_predict=model.predict(X_test)\n",
        "    \n",
        "    print(company)\n",
        "    print(\"Mean Absolute Error:\", round(mean_absolute_error(ytest, test_predict), 4))\n",
        "    print(\"Mean Squared Error:\", round(mean_squared_error(ytest, test_predict), 4))\n",
        "    print(\"Root Mean Squared Error:\", round(np.sqrt(mean_squared_error(ytest, test_predict)), 4))\n",
        "    print(\"(R^2) Score:\", round(r2_score(ytest, test_predict), 4))\n",
        "    errors = abs(test_predict - ytest)\n",
        "    mape = 100 * (errors / ytest)\n",
        "    accuracy = 100 - np.mean(mape)\n",
        "    print('Accuracy:', round(accuracy, 2), '%.') \n",
        "    \n",
        "    \n",
        "    from numpy import array\n",
        "    x=len(test_data)-150\n",
        "    x_input=test_data[x:].reshape(1,-1)\n",
        "    temp_input=list(x_input)\n",
        "    temp_input=temp_input[0].tolist()\n",
        "    lst_output=[]\n",
        "    date=[]\n",
        "    n_steps=150\n",
        "    i=0\n",
        "    dat=df_merged.iloc[-1, 1]\n",
        "    while(i<5):\n",
        "      newdate = dat + datetime.timedelta(days=i+1)\n",
        "      date.append(newdate)\n",
        "      if(len(temp_input)>150):\n",
        "        \n",
        "          x_input=np.array(temp_input[1:])\n",
        "       \n",
        "          x_input=x_input.reshape(1,-1)\n",
        "          x_input = x_input.reshape((1, n_steps, 1))\n",
        "        \n",
        "          yhat = model.predict(x_input, verbose=0)\n",
        "        \n",
        "          temp_input.extend(yhat[0].tolist())\n",
        "          temp_input=temp_input[1:]\n",
        "        \n",
        "          lst_output.extend(yhat.tolist())\n",
        "          symbol.append(company)\n",
        "          i=i+1\n",
        "          \n",
        "      else:\n",
        "          x_input = x_input.reshape((1, n_steps,1))\n",
        "          yhat = model.predict(x_input, verbose=0)\n",
        "          print(yhat[0])\n",
        "          temp_input.extend(yhat[0].tolist())\n",
        "          print(len(temp_input))\n",
        "          lst_output.extend(yhat.tolist())\n",
        "          symbol.append(company)\n",
        "          i=i+1\n",
        "         \n",
        "    \n",
        "\n",
        "\n",
        "    lst_output=scaler.inverse_transform(lst_output)\n",
        "    print(lst_output)\n",
        "    df3= pd. DataFrame(lst_output, columns=['predicted value'])\n",
        "    df_d= pd.DataFrame(date, columns=['Date'])\n",
        "    df4=df4.append(df3, ignore_index = True)\n",
        "    df5=df5.append(df_d, ignore_index = True)\n",
        "df2= pd. DataFrame(symbol, columns=['symbol'])\n",
        "dfp=pd.concat([df2,df5,df4], ignore_index=True,axis=1)\n",
        "    \n",
        "    \n",
        " \n",
        "\n"
      ],
      "metadata": {
        "id": "Ksqf1dsWisRk",
        "colab": {
          "base_uri": "https://localhost:8080/"
        },
        "outputId": "c5b11602-80d8-4c13-d7f8-46907b251f09"
      },
      "execution_count": 50,
      "outputs": [
        {
          "output_type": "stream",
          "name": "stdout",
          "text": [
            "Model: \"sequential_3\"\n",
            "_________________________________________________________________\n",
            " Layer (type)                Output Shape              Param #   \n",
            "=================================================================\n",
            " lstm_12 (LSTM)              (None, 150, 100)          40800     \n",
            "                                                                 \n",
            " lstm_13 (LSTM)              (None, 150, 100)          80400     \n",
            "                                                                 \n",
            " lstm_14 (LSTM)              (None, 150, 50)           30200     \n",
            "                                                                 \n",
            " lstm_15 (LSTM)              (None, 50)                20200     \n",
            "                                                                 \n",
            " dense_3 (Dense)             (None, 1)                 51        \n",
            "                                                                 \n",
            "=================================================================\n",
            "Total params: 171,651\n",
            "Trainable params: 171,651\n",
            "Non-trainable params: 0\n",
            "_________________________________________________________________\n",
            "66/66 [==============================] - 45s 494ms/step - loss: 0.0106 - val_loss: 0.0021\n",
            "AMARAJABAT\n",
            "Mean Absolute Error: 0.0389\n",
            "Mean Squared Error: 0.0021\n",
            "Root Mean Squared Error: 0.0454\n",
            "(R^2) Score: 0.7593\n",
            "Accuracy: 87.1 %.\n",
            "[0.6094259]\n",
            "151\n",
            "[[660.31084541]\n",
            " [659.02501347]\n",
            " [657.98751735]\n",
            " [657.2820354 ]\n",
            " [656.96293931]]\n",
            "68/68 [==============================] - 32s 465ms/step - loss: 0.0011 - val_loss: 0.0041\n",
            "APOLLOTYRE\n",
            "Mean Absolute Error: 0.0517\n",
            "Mean Squared Error: 0.0041\n",
            "Root Mean Squared Error: 0.0639\n",
            "(R^2) Score: 0.7434\n",
            "Accuracy: 76.59 %.\n",
            "[0.66425866]\n",
            "151\n",
            "[[201.64756236]\n",
            " [201.42868669]\n",
            " [201.22314026]\n",
            " [201.00326882]\n",
            " [200.7445801 ]]\n",
            "65/65 [==============================] - 30s 466ms/step - loss: 2.4901e-04 - val_loss: 0.0035\n",
            "BAJAJFINSV\n",
            "Mean Absolute Error: 0.0454\n",
            "Mean Squared Error: 0.0035\n",
            "Root Mean Squared Error: 0.0589\n",
            "(R^2) Score: 0.9221\n",
            "Accuracy: 59.29 %.\n",
            "[0.82609844]\n",
            "151\n",
            "[[15774.6136858 ]\n",
            " [15713.40596603]\n",
            " [15654.08485146]\n",
            " [15596.69900677]\n",
            " [15541.09791097]]\n",
            "66/66 [==============================] - 31s 464ms/step - loss: 1.0942e-04 - val_loss: 0.0030\n",
            "BERGEPAINT\n",
            "Mean Absolute Error: 0.0452\n",
            "Mean Squared Error: 0.003\n",
            "Root Mean Squared Error: 0.0551\n",
            "(R^2) Score: 0.6477\n",
            "Accuracy: 87.82 %.\n",
            "[0.83228433]\n",
            "151\n",
            "[[720.22127107]\n",
            " [720.09844358]\n",
            " [719.90633274]\n",
            " [719.58254755]\n",
            " [719.08012757]]\n",
            "37/37 [==============================] - 17s 461ms/step - loss: 0.0023 - val_loss: 0.0015\n",
            "COALINDIA\n",
            "Mean Absolute Error: 0.0259\n",
            "Mean Squared Error: 0.0015\n",
            "Root Mean Squared Error: 0.0388\n",
            "(R^2) Score: 0.3191\n",
            "Accuracy: 65.3 %.\n",
            "[0.10378021]\n",
            "151\n",
            "[[145.09324497]\n",
            " [144.68496737]\n",
            " [144.32624116]\n",
            " [144.0082874 ]\n",
            " [143.72130296]]\n",
            "66/66 [==============================] - 31s 463ms/step - loss: 3.3274e-04 - val_loss: 0.0020\n",
            "COLPAL\n",
            "Mean Absolute Error: 0.037\n",
            "Mean Squared Error: 0.002\n",
            "Root Mean Squared Error: 0.0452\n",
            "(R^2) Score: 0.4185\n",
            "Accuracy: 92.27 %.\n",
            "[0.7702254]\n",
            "151\n",
            "[[1403.71804665]\n",
            " [1404.64553298]\n",
            " [1405.37936259]\n",
            " [1405.70114995]\n",
            " [1405.46888709]]\n",
            "66/66 [==============================] - 31s 466ms/step - loss: 1.7436e-04 - val_loss: 0.0015\n",
            "DABUR\n",
            "Mean Absolute Error: 0.0306\n",
            "Mean Squared Error: 0.0015\n",
            "Root Mean Squared Error: 0.0386\n",
            "(R^2) Score: 0.6476\n",
            "Accuracy: 91.66 %.\n",
            "[0.8390596]\n",
            "151\n",
            "[[549.65901582]\n",
            " [548.79769156]\n",
            " [547.98283245]\n",
            " [547.15341194]\n",
            " [546.26130403]]\n",
            "71/71 [==============================] - 33s 469ms/step - loss: 3.8490e-04 - val_loss: 0.0022\n",
            "DRREDDY\n",
            "Mean Absolute Error: 0.0368\n",
            "Mean Squared Error: 0.0022\n",
            "Root Mean Squared Error: 0.0474\n",
            "(R^2) Score: 0.4754\n",
            "Accuracy: 91.76 %.\n",
            "[0.8069603]\n",
            "151\n",
            "[[4544.41684795]\n",
            " [4555.54049818]\n",
            " [4566.89914838]\n",
            " [4577.09585429]\n",
            " [4585.10718787]]\n",
            "66/66 [==============================] - 31s 467ms/step - loss: 1.6297e-04 - val_loss: 0.0025\n",
            "FINPIPE\n",
            "Mean Absolute Error: 0.0368\n",
            "Mean Squared Error: 0.0025\n",
            "Root Mean Squared Error: 0.05\n",
            "(R^2) Score: 0.9127\n",
            "Accuracy: 71.5 %.\n",
            "[0.8256687]\n",
            "151\n",
            "[[194.46362554]\n",
            " [194.47508227]\n",
            " [194.37313377]\n",
            " [194.13214594]\n",
            " [193.742412  ]]\n",
            "71/71 [==============================] - 33s 466ms/step - loss: 8.4028e-05 - val_loss: 0.0014\n",
            "HDFCBANK\n",
            "Mean Absolute Error: 0.0293\n",
            "Mean Squared Error: 0.0014\n",
            "Root Mean Squared Error: 0.037\n",
            "(R^2) Score: 0.878\n",
            "Accuracy: 85.95 %.\n",
            "[0.8538894]\n",
            "151\n",
            "[[1444.70987664]\n",
            " [1440.03875571]\n",
            " [1435.89466622]\n",
            " [1432.25849768]\n",
            " [1429.06425918]]\n",
            "71/71 [==============================] - 33s 470ms/step - loss: 4.8966e-04 - val_loss: 0.0010\n",
            "HINDPETRO\n",
            "Mean Absolute Error: 0.0246\n",
            "Mean Squared Error: 0.001\n",
            "Root Mean Squared Error: 0.0318\n",
            "(R^2) Score: 0.8836\n",
            "Accuracy: 77.99 %.\n",
            "[0.56710833]\n",
            "151\n",
            "[[286.1775701 ]\n",
            " [285.64560455]\n",
            " [285.20402582]\n",
            " [284.81216402]\n",
            " [284.43469396]]\n",
            "71/71 [==============================] - 33s 471ms/step - loss: 7.9558e-05 - val_loss: 0.0020\n",
            "INFY\n",
            "Mean Absolute Error: 0.0373\n",
            "Mean Squared Error: 0.002\n",
            "Root Mean Squared Error: 0.0447\n",
            "(R^2) Score: 0.9145\n",
            "Accuracy: 75.16 %.\n",
            "[0.9059933]\n",
            "151\n",
            "[[1718.12226322]\n",
            " [1728.18291806]\n",
            " [1735.75289279]\n",
            " [1739.91355386]\n",
            " [1740.28889521]]\n",
            "70/70 [==============================] - 33s 468ms/step - loss: 1.3939e-04 - val_loss: 0.0061\n",
            "KOTAKBANK\n",
            "Mean Absolute Error: 0.0688\n",
            "Mean Squared Error: 0.0061\n",
            "Root Mean Squared Error: 0.0782\n",
            "(R^2) Score: 0.3045\n",
            "Accuracy: 85.73 %.\n",
            "[0.8010795]\n",
            "151\n",
            "[[1771.41823348]\n",
            " [1765.2839715 ]\n",
            " [1756.94291875]\n",
            " [1746.42246914]\n",
            " [1733.89199084]]\n",
            "71/71 [==============================] - 33s 466ms/step - loss: 5.6035e-04 - val_loss: 0.0014\n",
            "M&M\n",
            "Mean Absolute Error: 0.0295\n",
            "Mean Squared Error: 0.0014\n",
            "Root Mean Squared Error: 0.0377\n",
            "(R^2) Score: 0.8593\n",
            "Accuracy: 84.74 %.\n",
            "[0.8456298]\n",
            "151\n",
            "[[832.97241651]\n",
            " [832.17413333]\n",
            " [831.75445647]\n",
            " [831.69550131]\n",
            " [831.94338097]]\n",
            "62/62 [==============================] - 29s 467ms/step - loss: 3.5717e-04 - val_loss: 0.0033\n",
            "MARUTI\n",
            "Mean Absolute Error: 0.0512\n",
            "Mean Squared Error: 0.0033\n",
            "Root Mean Squared Error: 0.0575\n",
            "(R^2) Score: -1.1466\n",
            "Accuracy: 91.44 %.\n",
            "[0.7995531]\n",
            "151\n",
            "[[7894.49942445]\n",
            " [7890.36240612]\n",
            " [7894.82559138]\n",
            " [7911.85484739]\n",
            " [7942.97785704]]\n",
            "49/49 [==============================] - 23s 468ms/step - loss: 5.9851e-05 - val_loss: 0.0019\n",
            "MINDTREE\n",
            "Mean Absolute Error: 0.0316\n",
            "Mean Squared Error: 0.0019\n",
            "Root Mean Squared Error: 0.0433\n",
            "(R^2) Score: 0.9618\n",
            "Accuracy: 54.2 %.\n",
            "[0.9691308]\n",
            "151\n",
            "[[4836.41165019]\n",
            " [4852.82275579]\n",
            " [4874.9492817 ]\n",
            " [4902.81567418]\n",
            " [4935.84229155]]\n",
            "71/71 [==============================] - 33s 465ms/step - loss: 1.0283e-04 - val_loss: 9.5523e-04\n",
            "RELIANCE\n",
            "Mean Absolute Error: 0.024\n",
            "Mean Squared Error: 0.001\n",
            "Root Mean Squared Error: 0.0309\n",
            "(R^2) Score: 0.8351\n",
            "Accuracy: 89.58 %.\n",
            "[0.86349356]\n",
            "151\n",
            "[[2363.29859355]\n",
            " [2363.89997254]\n",
            " [2365.6831892 ]\n",
            " [2368.09433758]\n",
            " [2370.70712574]]\n",
            "71/71 [==============================] - 33s 468ms/step - loss: 6.8324e-04 - val_loss: 9.5068e-04\n",
            "SAIL\n",
            "Mean Absolute Error: 0.0216\n",
            "Mean Squared Error: 0.001\n",
            "Root Mean Squared Error: 0.0308\n",
            "(R^2) Score: 0.9437\n",
            "Accuracy: 31.84 %.\n",
            "[0.36792225]\n",
            "151\n",
            "[[108.39793743]\n",
            " [107.50428104]\n",
            " [106.57794909]\n",
            " [105.67778127]\n",
            " [104.83927758]]\n",
            "71/71 [==============================] - 33s 465ms/step - loss: 3.3743e-04 - val_loss: 0.0021\n",
            "TATASTEEL\n",
            "Mean Absolute Error: 0.0336\n",
            "Mean Squared Error: 0.0021\n",
            "Root Mean Squared Error: 0.0455\n",
            "(R^2) Score: 0.9676\n",
            "Accuracy: 36.04 %.\n",
            "[0.70083797]\n",
            "151\n",
            "[[1076.14884295]\n",
            " [1068.21155563]\n",
            " [1061.02386715]\n",
            " [1053.91133284]\n",
            " [1046.42744331]]\n",
            "61/61 [==============================] - 29s 469ms/step - loss: 9.0573e-05 - val_loss: 0.0014\n",
            "TCS\n",
            "Mean Absolute Error: 0.0327\n",
            "Mean Squared Error: 0.0014\n",
            "Root Mean Squared Error: 0.0378\n",
            "(R^2) Score: 0.8044\n",
            "Accuracy: 88.45 %.\n",
            "[0.8798451]\n",
            "151\n",
            "[[3483.65391059]\n",
            " [3499.7079658 ]\n",
            " [3506.35701605]\n",
            " [3500.80446109]\n",
            " [3483.23904573]]\n",
            "71/71 [==============================] - 33s 467ms/step - loss: 5.6143e-05 - val_loss: 9.8883e-04\n",
            "TITAN\n",
            "Mean Absolute Error: 0.0215\n",
            "Mean Squared Error: 0.001\n",
            "Root Mean Squared Error: 0.0314\n",
            "(R^2) Score: 0.9635\n",
            "Accuracy: 71.37 %.\n",
            "[0.8615528]\n",
            "151\n",
            "[[2230.57823083]\n",
            " [2245.07946885]\n",
            " [2256.28774696]\n",
            " [2260.93724842]\n",
            " [2258.06084363]]\n",
            "64/64 [==============================] - 30s 464ms/step - loss: 1.5245e-04 - val_loss: 0.0024\n",
            "ULTRACEMCO\n",
            "Mean Absolute Error: 0.0403\n",
            "Mean Squared Error: 0.0024\n",
            "Root Mean Squared Error: 0.0485\n",
            "(R^2) Score: 0.8883\n",
            "Accuracy: 77.84 %.\n",
            "[0.84071505]\n",
            "151\n",
            "[[6946.38056751]\n",
            " [6936.42320216]\n",
            " [6915.60860379]\n",
            " [6878.53092534]\n",
            " [6824.706316  ]]\n",
            "66/66 [==============================] - 31s 463ms/step - loss: 9.9617e-05 - val_loss: 0.0015\n",
            "VOLTAS\n",
            "Mean Absolute Error: 0.028\n",
            "Mean Squared Error: 0.0015\n",
            "Root Mean Squared Error: 0.0391\n",
            "(R^2) Score: 0.9182\n",
            "Accuracy: 78.48 %.\n",
            "[0.84721535]\n",
            "151\n",
            "[[1133.38731615]\n",
            " [1137.49229836]\n",
            " [1139.69778676]\n",
            " [1138.85074212]\n",
            " [1134.88692073]]\n",
            "71/71 [==============================] - 33s 470ms/step - loss: 7.3898e-05 - val_loss: 0.0016\n",
            "WIPRO\n",
            "Mean Absolute Error: 0.0302\n",
            "Mean Squared Error: 0.0016\n",
            "Root Mean Squared Error: 0.0396\n",
            "(R^2) Score: 0.9617\n",
            "Accuracy: 61.53 %.\n",
            "[0.9497477]\n",
            "151\n",
            "[[679.73395564]\n",
            " [682.40352678]\n",
            " [681.72052223]\n",
            " [677.68706161]\n",
            " [670.7827889 ]]\n",
            "71/71 [==============================] - 33s 466ms/step - loss: 3.4331e-04 - val_loss: 3.1788e-04\n",
            "SUNPHARMA\n",
            "Mean Absolute Error: 0.0136\n",
            "Mean Squared Error: 0.0003\n",
            "Root Mean Squared Error: 0.0178\n",
            "(R^2) Score: 0.965\n",
            "Accuracy: 79.5 %.\n",
            "[0.6846951]\n",
            "151\n",
            "[[803.9207087 ]\n",
            " [810.55425182]\n",
            " [816.05558921]\n",
            " [819.8193168 ]\n",
            " [821.82132896]]\n"
          ]
        }
      ]
    },
    {
      "cell_type": "code",
      "source": [
        "import matplotlib.pyplot as plt"
      ],
      "metadata": {
        "id": "5-L1OSxTwrV3"
      },
      "execution_count": null,
      "outputs": []
    },
    {
      "cell_type": "code",
      "source": [
        "### Plotting \n",
        "# shift train predictions for plotting\n",
        "look_back=150\n",
        "trainPredictPlot = numpy.empty_like(df1)\n",
        "trainPredictPlot[:, :] = np.nan\n",
        "trainPredictPlot[look_back:len(train_predict)+look_back, :] = train_predict\n",
        "# shift test predictions for plotting\n",
        "testPredictPlot = numpy.empty_like(df1)\n",
        "testPredictPlot[:, :] = numpy.nan\n",
        "testPredictPlot[len(train_predict)+(look_back*2)+1:len(df1)-1, :] = test_predict\n",
        "# plot baseline and predictions\n",
        "plt.plot(scaler.inverse_transform(df1))\n",
        "plt.plot(trainPredictPlot)\n",
        "plt.plot(testPredictPlot)\n",
        "plt.show()"
      ],
      "metadata": {
        "colab": {
          "base_uri": "https://localhost:8080/",
          "height": 265
        },
        "id": "oDmyPQUZwPCn",
        "outputId": "5dd7ba79-0645-4b96-87e3-c1f646d6d817"
      },
      "execution_count": null,
      "outputs": [
        {
          "output_type": "display_data",
          "data": {
            "text/plain": [
              "<Figure size 432x288 with 1 Axes>"
            ],
            "image/png": "[encoded data removed]"
          },
          "metadata": {
            "needs_background": "light"
          }
        }
      ]
    }
  ]
}